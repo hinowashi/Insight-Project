{
 "cells": [
  {
   "cell_type": "markdown",
   "metadata": {},
   "source": [
    "# Insight Project --Birding Big Year--\n",
    "\n",
    "In this project I intend to determine the cheapest way to win the Big Year competition by the American Birding Association (ABA), following their rules. As part of their rules they give the list of eligible birds (1116).  All the birds have to be seen with in 12:00 AM, January 1st to 11:59 PM, December 31st of the same year. \n",
    "\n"
   ]
  },
  {
   "cell_type": "code",
   "execution_count": 106,
   "metadata": {},
   "outputs": [],
   "source": [
    "import numpy as np\n",
    "import requests\n",
    "import ebird.api as eb\n",
    "from datetime import datetime\n",
    "import geopandas as gpd\n",
    "from shapely.geometry import Point\n",
    "\n",
    "import matplotlib.pyplot as plt\n",
    "import matplotlib.patches as mpatches\n",
    "import matplotlib\n",
    "from mpl_toolkits.axes_grid1 import make_axes_locatable\n",
    "\n",
    "import pandas as pd\n",
    "from pandas.io.json import json_normalize, read_json\n",
    "\n",
    "def save_fig(name):\n",
    "    fig.savefig(name,dpi=80,bbox_inches='tight', pad_inches=0.02, format = 'jpg')\n",
    "\n",
    "%matplotlib inline"
   ]
  },
  {
   "cell_type": "markdown",
   "metadata": {},
   "source": [
    "# Our goal\n",
    "\n",
    "The list of birds from ABA, that have to be found:"
   ]
  },
  {
   "cell_type": "code",
   "execution_count": 2,
   "metadata": {},
   "outputs": [],
   "source": [
    "dfbirdList = pd.read_csv('./DocumentsHere/Insight/ABA_Checklist-8.0.6a.csv', usecols=[1,3], skiprows=1)\n",
    "dfbirdList.rename(columns={' including detailed species accounts': 'Bird name', 'Unnamed: 3': '4 letter code'}, inplace=True)\n",
    "dfbirdList.dropna(inplace=True)\n",
    "dfbirdList.reset_index(inplace=True)\n",
    "dfbirdList.drop(['index'], axis=1, inplace=True)"
   ]
  },
  {
   "cell_type": "code",
   "execution_count": 3,
   "metadata": {},
   "outputs": [],
   "source": [
    "listOfBirds = list(dfbirdList['Bird name'].unique())"
   ]
  },
  {
   "cell_type": "markdown",
   "metadata": {},
   "source": [
    "# Now the weather data\n",
    "\n",
    "The weather data is colected using an API form meteostat.  I might need to move to use the NOAA sight directly in the future. "
   ]
  },
  {
   "cell_type": "code",
   "execution_count": 117,
   "metadata": {},
   "outputs": [],
   "source": [
    "a = requests.get(\"https://api.meteostat.net/v1/history/daily?station=72577&start=2019-01-01&end=2019-12-31&key=xxx\")"
   ]
  },
  {
   "cell_type": "code",
   "execution_count": 120,
   "metadata": {},
   "outputs": [],
   "source": [
    " yearWeather = json_normalize(a.json()['data'])"
   ]
  },
  {
   "cell_type": "code",
   "execution_count": 121,
   "metadata": {},
   "outputs": [
    {
     "data": {
      "text/html": [
       "<div>\n",
       "<style scoped>\n",
       "    .dataframe tbody tr th:only-of-type {\n",
       "        vertical-align: middle;\n",
       "    }\n",
       "\n",
       "    .dataframe tbody tr th {\n",
       "        vertical-align: top;\n",
       "    }\n",
       "\n",
       "    .dataframe thead th {\n",
       "        text-align: right;\n",
       "    }\n",
       "</style>\n",
       "<table border=\"1\" class=\"dataframe\">\n",
       "  <thead>\n",
       "    <tr style=\"text-align: right;\">\n",
       "      <th></th>\n",
       "      <th>date</th>\n",
       "      <th>temperature</th>\n",
       "      <th>temperature_min</th>\n",
       "      <th>temperature_max</th>\n",
       "      <th>precipitation</th>\n",
       "      <th>snowfall</th>\n",
       "      <th>snowdepth</th>\n",
       "      <th>winddirection</th>\n",
       "      <th>windspeed</th>\n",
       "      <th>peakgust</th>\n",
       "      <th>sunshine</th>\n",
       "      <th>pressure</th>\n",
       "    </tr>\n",
       "  </thead>\n",
       "  <tbody>\n",
       "    <tr>\n",
       "      <td>0</td>\n",
       "      <td>2019-01-01</td>\n",
       "      <td>-23.4</td>\n",
       "      <td>-16.6</td>\n",
       "      <td>-8.2</td>\n",
       "      <td>0.0</td>\n",
       "      <td>None</td>\n",
       "      <td>None</td>\n",
       "      <td>NaN</td>\n",
       "      <td>6.8</td>\n",
       "      <td>None</td>\n",
       "      <td>None</td>\n",
       "      <td>1037.2</td>\n",
       "    </tr>\n",
       "    <tr>\n",
       "      <td>1</td>\n",
       "      <td>2019-01-02</td>\n",
       "      <td>-20.0</td>\n",
       "      <td>-16.3</td>\n",
       "      <td>-5.8</td>\n",
       "      <td>NaN</td>\n",
       "      <td>None</td>\n",
       "      <td>None</td>\n",
       "      <td>NaN</td>\n",
       "      <td>6.2</td>\n",
       "      <td>None</td>\n",
       "      <td>None</td>\n",
       "      <td>1040.2</td>\n",
       "    </tr>\n",
       "    <tr>\n",
       "      <td>2</td>\n",
       "      <td>2019-01-03</td>\n",
       "      <td>-14.8</td>\n",
       "      <td>-16.4</td>\n",
       "      <td>-5.3</td>\n",
       "      <td>NaN</td>\n",
       "      <td>None</td>\n",
       "      <td>None</td>\n",
       "      <td>NaN</td>\n",
       "      <td>3.3</td>\n",
       "      <td>None</td>\n",
       "      <td>None</td>\n",
       "      <td>1036.6</td>\n",
       "    </tr>\n",
       "    <tr>\n",
       "      <td>3</td>\n",
       "      <td>2019-01-04</td>\n",
       "      <td>-14.4</td>\n",
       "      <td>-14.3</td>\n",
       "      <td>-2.9</td>\n",
       "      <td>NaN</td>\n",
       "      <td>None</td>\n",
       "      <td>None</td>\n",
       "      <td>NaN</td>\n",
       "      <td>5.3</td>\n",
       "      <td>None</td>\n",
       "      <td>None</td>\n",
       "      <td>NaN</td>\n",
       "    </tr>\n",
       "    <tr>\n",
       "      <td>4</td>\n",
       "      <td>2019-01-05</td>\n",
       "      <td>-11.7</td>\n",
       "      <td>-13.6</td>\n",
       "      <td>-1.5</td>\n",
       "      <td>1.7</td>\n",
       "      <td>None</td>\n",
       "      <td>None</td>\n",
       "      <td>NaN</td>\n",
       "      <td>NaN</td>\n",
       "      <td>None</td>\n",
       "      <td>None</td>\n",
       "      <td>1025.2</td>\n",
       "    </tr>\n",
       "    <tr>\n",
       "      <td>...</td>\n",
       "      <td>...</td>\n",
       "      <td>...</td>\n",
       "      <td>...</td>\n",
       "      <td>...</td>\n",
       "      <td>...</td>\n",
       "      <td>...</td>\n",
       "      <td>...</td>\n",
       "      <td>...</td>\n",
       "      <td>...</td>\n",
       "      <td>...</td>\n",
       "      <td>...</td>\n",
       "      <td>...</td>\n",
       "    </tr>\n",
       "    <tr>\n",
       "      <td>359</td>\n",
       "      <td>2019-12-27</td>\n",
       "      <td>-12.6</td>\n",
       "      <td>-11.3</td>\n",
       "      <td>-3.4</td>\n",
       "      <td>NaN</td>\n",
       "      <td>None</td>\n",
       "      <td>None</td>\n",
       "      <td>NaN</td>\n",
       "      <td>4.7</td>\n",
       "      <td>None</td>\n",
       "      <td>None</td>\n",
       "      <td>1023.0</td>\n",
       "    </tr>\n",
       "    <tr>\n",
       "      <td>360</td>\n",
       "      <td>2019-12-28</td>\n",
       "      <td>-14.9</td>\n",
       "      <td>-10.2</td>\n",
       "      <td>-2.9</td>\n",
       "      <td>0.0</td>\n",
       "      <td>None</td>\n",
       "      <td>None</td>\n",
       "      <td>NaN</td>\n",
       "      <td>7.4</td>\n",
       "      <td>None</td>\n",
       "      <td>None</td>\n",
       "      <td>1025.7</td>\n",
       "    </tr>\n",
       "    <tr>\n",
       "      <td>361</td>\n",
       "      <td>2019-12-29</td>\n",
       "      <td>-16.2</td>\n",
       "      <td>-13.6</td>\n",
       "      <td>-4.5</td>\n",
       "      <td>0.7</td>\n",
       "      <td>None</td>\n",
       "      <td>None</td>\n",
       "      <td>NaN</td>\n",
       "      <td>6.0</td>\n",
       "      <td>None</td>\n",
       "      <td>None</td>\n",
       "      <td>1029.1</td>\n",
       "    </tr>\n",
       "    <tr>\n",
       "      <td>362</td>\n",
       "      <td>2019-12-30</td>\n",
       "      <td>-20.7</td>\n",
       "      <td>-13.2</td>\n",
       "      <td>-2.5</td>\n",
       "      <td>0.3</td>\n",
       "      <td>None</td>\n",
       "      <td>None</td>\n",
       "      <td>NaN</td>\n",
       "      <td>NaN</td>\n",
       "      <td>None</td>\n",
       "      <td>None</td>\n",
       "      <td>NaN</td>\n",
       "    </tr>\n",
       "    <tr>\n",
       "      <td>363</td>\n",
       "      <td>2019-12-31</td>\n",
       "      <td>NaN</td>\n",
       "      <td>-12.2</td>\n",
       "      <td>-4.5</td>\n",
       "      <td>NaN</td>\n",
       "      <td>None</td>\n",
       "      <td>None</td>\n",
       "      <td>NaN</td>\n",
       "      <td>NaN</td>\n",
       "      <td>None</td>\n",
       "      <td>None</td>\n",
       "      <td>NaN</td>\n",
       "    </tr>\n",
       "  </tbody>\n",
       "</table>\n",
       "<p>364 rows × 12 columns</p>\n",
       "</div>"
      ],
      "text/plain": [
       "           date  temperature  temperature_min  temperature_max  precipitation  \\\n",
       "0    2019-01-01        -23.4            -16.6             -8.2            0.0   \n",
       "1    2019-01-02        -20.0            -16.3             -5.8            NaN   \n",
       "2    2019-01-03        -14.8            -16.4             -5.3            NaN   \n",
       "3    2019-01-04        -14.4            -14.3             -2.9            NaN   \n",
       "4    2019-01-05        -11.7            -13.6             -1.5            1.7   \n",
       "..          ...          ...              ...              ...            ...   \n",
       "359  2019-12-27        -12.6            -11.3             -3.4            NaN   \n",
       "360  2019-12-28        -14.9            -10.2             -2.9            0.0   \n",
       "361  2019-12-29        -16.2            -13.6             -4.5            0.7   \n",
       "362  2019-12-30        -20.7            -13.2             -2.5            0.3   \n",
       "363  2019-12-31          NaN            -12.2             -4.5            NaN   \n",
       "\n",
       "    snowfall snowdepth  winddirection  windspeed peakgust sunshine  pressure  \n",
       "0       None      None            NaN        6.8     None     None    1037.2  \n",
       "1       None      None            NaN        6.2     None     None    1040.2  \n",
       "2       None      None            NaN        3.3     None     None    1036.6  \n",
       "3       None      None            NaN        5.3     None     None       NaN  \n",
       "4       None      None            NaN        NaN     None     None    1025.2  \n",
       "..       ...       ...            ...        ...      ...      ...       ...  \n",
       "359     None      None            NaN        4.7     None     None    1023.0  \n",
       "360     None      None            NaN        7.4     None     None    1025.7  \n",
       "361     None      None            NaN        6.0     None     None    1029.1  \n",
       "362     None      None            NaN        NaN     None     None       NaN  \n",
       "363     None      None            NaN        NaN     None     None       NaN  \n",
       "\n",
       "[364 rows x 12 columns]"
      ]
     },
     "execution_count": 121,
     "metadata": {},
     "output_type": "execute_result"
    }
   ],
   "source": [
    " yearWeather"
   ]
  },
  {
   "cell_type": "code",
   "execution_count": 115,
   "metadata": {},
   "outputs": [],
   "source": [
    "w = requests.get('https://api.meteostat.net/v1/stations/search?q=jackson&key=xxx')\n",
    "y = json_normalize(w.json()['data'])\n",
    "    \n"
   ]
  },
  {
   "cell_type": "code",
   "execution_count": 116,
   "metadata": {},
   "outputs": [
    {
     "data": {
      "text/html": [
       "<div>\n",
       "<style scoped>\n",
       "    .dataframe tbody tr th:only-of-type {\n",
       "        vertical-align: middle;\n",
       "    }\n",
       "\n",
       "    .dataframe tbody tr th {\n",
       "        vertical-align: top;\n",
       "    }\n",
       "\n",
       "    .dataframe thead th {\n",
       "        text-align: right;\n",
       "    }\n",
       "</style>\n",
       "<table border=\"1\" class=\"dataframe\">\n",
       "  <thead>\n",
       "    <tr style=\"text-align: right;\">\n",
       "      <th></th>\n",
       "      <th>id</th>\n",
       "      <th>country</th>\n",
       "      <th>name</th>\n",
       "    </tr>\n",
       "  </thead>\n",
       "  <tbody>\n",
       "    <tr>\n",
       "      <td>0</td>\n",
       "      <td>72219</td>\n",
       "      <td>US</td>\n",
       "      <td>Hartsfield-Jackson Atlanta</td>\n",
       "    </tr>\n",
       "    <tr>\n",
       "      <td>1</td>\n",
       "      <td>72206</td>\n",
       "      <td>US</td>\n",
       "      <td>Jacksonville International</td>\n",
       "    </tr>\n",
       "    <tr>\n",
       "      <td>2</td>\n",
       "      <td>72235</td>\n",
       "      <td>US</td>\n",
       "      <td>Jackson Airport</td>\n",
       "    </tr>\n",
       "    <tr>\n",
       "      <td>3</td>\n",
       "      <td>72419</td>\n",
       "      <td>US</td>\n",
       "      <td>Jackson / Northwest Hills</td>\n",
       "    </tr>\n",
       "    <tr>\n",
       "      <td>4</td>\n",
       "      <td>72577</td>\n",
       "      <td>US</td>\n",
       "      <td>Jackson Hole / Moose</td>\n",
       "    </tr>\n",
       "  </tbody>\n",
       "</table>\n",
       "</div>"
      ],
      "text/plain": [
       "      id country                        name\n",
       "0  72219      US  Hartsfield-Jackson Atlanta\n",
       "1  72206      US  Jacksonville International\n",
       "2  72235      US             Jackson Airport\n",
       "3  72419      US   Jackson / Northwest Hills\n",
       "4  72577      US        Jackson Hole / Moose"
      ]
     },
     "execution_count": 116,
     "metadata": {},
     "output_type": "execute_result"
    }
   ],
   "source": [
    "y"
   ]
  },
  {
   "cell_type": "code",
   "execution_count": null,
   "metadata": {},
   "outputs": [],
   "source": []
  },
  {
   "cell_type": "code",
   "execution_count": null,
   "metadata": {},
   "outputs": [],
   "source": []
  },
  {
   "cell_type": "markdown",
   "metadata": {},
   "source": [
    "# Now the bird Data\n",
    "\n",
    "I will start with a singe state the State of WY. In all situation the predictions will only use the last two years of data.\n",
    "\n",
    "Since the ebird API limits the type of request I can make, I have a downloaded cvs file."
   ]
  },
  {
   "cell_type": "code",
   "execution_count": 4,
   "metadata": {},
   "outputs": [],
   "source": [
    "dfAll = pd.read_csv('./DocumentsHere/Insight/ebd_US-WY_201801_201912_relApr-2020/ebd_US-WY_201801_201912_relApr-2020.txt'\n",
    "                ,delimiter=\"\\t\")"
   ]
  },
  {
   "cell_type": "markdown",
   "metadata": {},
   "source": [
    "I add sertain condition to satify completnes fo the data, public locations and only bird species (i.e. no hybirds)"
   ]
  },
  {
   "cell_type": "code",
   "execution_count": 5,
   "metadata": {},
   "outputs": [],
   "source": [
    "dfAll = dfAll[(dfAll['CATEGORY'] == 'species') & (dfAll['LOCALITY TYPE'] == 'H')\n",
    "              & (dfAll['ALL SPECIES REPORTED'] == 1)  & (dfAll['APPROVED'] == 1)]"
   ]
  },
  {
   "cell_type": "code",
   "execution_count": 6,
   "metadata": {},
   "outputs": [],
   "source": [
    "dfReduce = dfAll.filter(['SAMPLING EVENT IDENTIFIER', 'COMMON NAME', 'LOCALITY', 'TIME OBSERVATIONS STARTED',\n",
    "              'LATITUDE', 'LONGITUDE', 'OBSERVATION DATE', 'ALL SPECIES REPORTED']) \n",
    "dfReduce['YEAR DAY'] = list(map(lambda x: int(datetime.strptime(x, '%Y-%m-%d').date().strftime('%j')), dfReduce['OBSERVATION DATE']))"
   ]
  },
  {
   "cell_type": "code",
   "execution_count": 39,
   "metadata": {},
   "outputs": [],
   "source": [
    "def birds_on_day(date, df, drange = 7):\n",
    "    '''\n",
    "    Calculates the probability of observation based on the last 2 years of observations on a given day with some \n",
    "    days average given by 'drange'\n",
    "    \n",
    "    Inputs:\n",
    "    date: int, or string with format \"mm-dd\", int is the day number of the year.\n",
    "    drange: smoothing kernel, default 7 days. This is to garantee a larger nomber of observations.\n",
    "    df: the input dataframe.\n",
    "    \n",
    "    Output:\n",
    "    \n",
    "    df3: is a dataframe with the provabilty of seeing each bird specie at a given location.  Is fixed in time.\n",
    "    '''\n",
    "\n",
    "    if isinstance(date, str):\n",
    "        date = int(datetime.strptime(date, '%m-%d').date().strftime('%j'))\n",
    "        \n",
    "    n0 = date-drange//2\n",
    "    n1 = date+drange//2\n",
    "    \n",
    "    #The kernel is modify if is at the edge of the calendar year:\n",
    "    \n",
    "    if n0 < 0:\n",
    "        n1 = n1 - n0\n",
    "        n0 = 0\n",
    "    if n1 > 365:\n",
    "        n0 = n0-(365-n1)\n",
    "        n1 = 364\n",
    "    \n",
    "    df = df.loc[(df['YEAR DAY'] >= n0) & (df['YEAR DAY'] <= n1)]\n",
    "    \n",
    "    df1 = df.set_index(['SAMPLING EVENT IDENTIFIER', 'COMMON NAME', 'YEAR DAY', 'LOCALITY'])\n",
    "    df1 = df1.groupby(['COMMON NAME', 'LOCALITY']).sum()\n",
    "    df1 = df1.reset_index()\n",
    "    \n",
    "    \n",
    "    df2 = df.set_index(['SAMPLING EVENT IDENTIFIER', 'COMMON NAME', 'YEAR DAY', 'LOCALITY'])\n",
    "    df2 = df2.groupby(['LOCALITY']).sum()\n",
    "    df2.reset_index(inplace=True)\n",
    "    \n",
    "    df3 = df1.merge(df2, left_on='LOCALITY', right_on='LOCALITY')\n",
    "    df3 = df3.reset_index()\n",
    "    df3['POSITIVE OBS'] = df3['ALL SPECIES REPORTED_x']/df3['ALL SPECIES REPORTED_y']\n",
    "    df3.drop(['index', 'LATITUDE_x', 'LONGITUDE_x', 'LATITUDE_y', 'LONGITUDE_y', \n",
    "              'ALL SPECIES REPORTED_x', 'ALL SPECIES REPORTED_y'], axis=1, inplace=True)\n",
    "    \n",
    "    df.drop(['SAMPLING EVENT IDENTIFIER', 'COMMON NAME', 'TIME OBSERVATIONS STARTED', 'OBSERVATION DATE',\n",
    "              'ALL SPECIES REPORTED', 'YEAR DAY'], axis=1, inplace=True)\n",
    "    \n",
    "    df3 = df3.merge(df, left_on='LOCALITY', right_on='LOCALITY', how = 'left')\n",
    "    \n",
    "    return df3.drop_duplicates()\n"
   ]
  },
  {
   "cell_type": "code",
   "execution_count": 110,
   "metadata": {},
   "outputs": [
    {
     "name": "stderr",
     "output_type": "stream",
     "text": [
      "/Users/casanova/opt/anaconda3/lib/python3.7/site-packages/pandas/core/frame.py:4102: SettingWithCopyWarning: \n",
      "A value is trying to be set on a copy of a slice from a DataFrame\n",
      "\n",
      "See the caveats in the documentation: http://pandas.pydata.org/pandas-docs/stable/user_guide/indexing.html#returning-a-view-versus-a-copy\n",
      "  errors=errors,\n"
     ]
    }
   ],
   "source": [
    "day = '01-29'\n",
    "bidsOut = birds_on_day(day, dfReduce, drange = 7)"
   ]
  },
  {
   "cell_type": "code",
   "execution_count": 111,
   "metadata": {},
   "outputs": [
    {
     "data": {
      "text/html": [
       "<div>\n",
       "<style scoped>\n",
       "    .dataframe tbody tr th:only-of-type {\n",
       "        vertical-align: middle;\n",
       "    }\n",
       "\n",
       "    .dataframe tbody tr th {\n",
       "        vertical-align: top;\n",
       "    }\n",
       "\n",
       "    .dataframe thead th {\n",
       "        text-align: right;\n",
       "    }\n",
       "</style>\n",
       "<table border=\"1\" class=\"dataframe\">\n",
       "  <thead>\n",
       "    <tr style=\"text-align: right;\">\n",
       "      <th></th>\n",
       "      <th>COMMON NAME</th>\n",
       "      <th>LOCALITY</th>\n",
       "      <th>POSITIVE OBS</th>\n",
       "      <th>LATITUDE</th>\n",
       "      <th>LONGITUDE</th>\n",
       "    </tr>\n",
       "  </thead>\n",
       "  <tbody>\n",
       "    <tr>\n",
       "      <td>0</td>\n",
       "      <td>American Crow</td>\n",
       "      <td>Cheyenne--Holliday Park</td>\n",
       "      <td>0.250000</td>\n",
       "      <td>41.139235</td>\n",
       "      <td>-104.802897</td>\n",
       "    </tr>\n",
       "    <tr>\n",
       "      <td>4</td>\n",
       "      <td>Eurasian Collared-Dove</td>\n",
       "      <td>Cheyenne--Holliday Park</td>\n",
       "      <td>0.250000</td>\n",
       "      <td>41.139235</td>\n",
       "      <td>-104.802897</td>\n",
       "    </tr>\n",
       "    <tr>\n",
       "      <td>8</td>\n",
       "      <td>House Finch</td>\n",
       "      <td>Cheyenne--Holliday Park</td>\n",
       "      <td>0.250000</td>\n",
       "      <td>41.139235</td>\n",
       "      <td>-104.802897</td>\n",
       "    </tr>\n",
       "    <tr>\n",
       "      <td>12</td>\n",
       "      <td>House Sparrow</td>\n",
       "      <td>Cheyenne--Holliday Park</td>\n",
       "      <td>0.250000</td>\n",
       "      <td>41.139235</td>\n",
       "      <td>-104.802897</td>\n",
       "    </tr>\n",
       "    <tr>\n",
       "      <td>16</td>\n",
       "      <td>American Crow</td>\n",
       "      <td>Cheyenne--Lions Park</td>\n",
       "      <td>0.172414</td>\n",
       "      <td>41.159070</td>\n",
       "      <td>-104.831009</td>\n",
       "    </tr>\n",
       "  </tbody>\n",
       "</table>\n",
       "</div>"
      ],
      "text/plain": [
       "               COMMON NAME                 LOCALITY  POSITIVE OBS   LATITUDE  \\\n",
       "0            American Crow  Cheyenne--Holliday Park      0.250000  41.139235   \n",
       "4   Eurasian Collared-Dove  Cheyenne--Holliday Park      0.250000  41.139235   \n",
       "8              House Finch  Cheyenne--Holliday Park      0.250000  41.139235   \n",
       "12           House Sparrow  Cheyenne--Holliday Park      0.250000  41.139235   \n",
       "16           American Crow     Cheyenne--Lions Park      0.172414  41.159070   \n",
       "\n",
       "     LONGITUDE  \n",
       "0  -104.802897  \n",
       "4  -104.802897  \n",
       "8  -104.802897  \n",
       "12 -104.802897  \n",
       "16 -104.831009  "
      ]
     },
     "execution_count": 111,
     "metadata": {},
     "output_type": "execute_result"
    }
   ],
   "source": [
    "bidsOut.head(5)"
   ]
  },
  {
   "cell_type": "markdown",
   "metadata": {},
   "source": [
    "# Is time for some plots!"
   ]
  },
  {
   "cell_type": "code",
   "execution_count": 112,
   "metadata": {},
   "outputs": [],
   "source": [
    "country = gpd.read_file('./DocumentsHere/Insight/gz_2010_us_040_00_5m.json')"
   ]
  },
  {
   "cell_type": "code",
   "execution_count": 113,
   "metadata": {},
   "outputs": [],
   "source": [
    "bidName = 'American Crow'\n",
    "state = 'Wyoming'"
   ]
  },
  {
   "cell_type": "code",
   "execution_count": 114,
   "metadata": {},
   "outputs": [
    {
     "data": {
      "image/png": "[encoded data removed]",
      "text/plain": [
       "<Figure size 720x1080 with 2 Axes>"
      ]
     },
     "metadata": {
      "needs_background": "light"
     },
     "output_type": "display_data"
    }
   ],
   "source": [
    "fig, ax = plt.subplots(1, figsize=(10,15))\n",
    "base = country[country['NAME'].isin([state]) == True].plot(ax=ax, color='#3B3C6E', alpha = 0.5)\n",
    "im = ax.scatter(bidsOut[bidsOut['COMMON NAME'] == bidName]['LONGITUDE'],\n",
    "           bidsOut[bidsOut['COMMON NAME'] == bidName]['LATITUDE'],\n",
    "          c = list(bidsOut[bidsOut['COMMON NAME'] == bidName]['POSITIVE OBS']))\n",
    "ax.set_ylabel(r'Latitude [$^o$]')\n",
    "ax.set_xlabel(r'Longitude [$^o$]')\n",
    "\n",
    "plt.text(-107, 45.01, r'{} on {}'.format(bidName,day), color='k',size=15)\n",
    "divider = make_axes_locatable(ax)\n",
    "cax = divider.append_axes('right', size='5%', pad=0.05)\n",
    "fig.colorbar(im, cax = cax, orientation='vertical')\n",
    "\n",
    "plt.show()\n",
    "save_fig('./DocumentsHere/Insight/{}{}{}.jpg'.format(state,bidName,day))\n"
   ]
  },
  {
   "cell_type": "code",
   "execution_count": null,
   "metadata": {},
   "outputs": [],
   "source": []
  },
  {
   "cell_type": "code",
   "execution_count": null,
   "metadata": {},
   "outputs": [],
   "source": []
  },
  {
   "cell_type": "code",
   "execution_count": null,
   "metadata": {},
   "outputs": [],
   "source": []
  },
  {
   "cell_type": "code",
   "execution_count": null,
   "metadata": {},
   "outputs": [],
   "source": []
  }
 ],
 "metadata": {
  "kernelspec": {
   "display_name": "Python 3",
   "language": "python",
   "name": "python3"
  },
  "language_info": {
   "codemirror_mode": {
    "name": "ipython",
    "version": 3
   },
   "file_extension": ".py",
   "mimetype": "text/x-python",
   "name": "python",
   "nbconvert_exporter": "python",
   "pygments_lexer": "ipython3",
   "version": "3.7.4"
  }
 },
 "nbformat": 4,
 "nbformat_minor": 2
}
