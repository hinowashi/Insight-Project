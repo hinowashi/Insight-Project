{
 "cells": [
  {
   "cell_type": "markdown",
   "metadata": {},
   "source": [
    "# Insight Project --Birding Big Year--\n",
    "\n",
    "In this project I intend to determine the cheapest way to win the Big Year competition by the American Birding Association (ABA), following their rules. As part of their rules they give the list of eligible birds (1116).  All the birds have to be seen with in 12:00 AM, January 1st to 11:59 PM, December 31st of the same year. \n",
    "\n"
   ]
  },
  {
   "cell_type": "code",
   "execution_count": 1,
   "metadata": {},
   "outputs": [],
   "source": [
    "import numpy as np\n",
    "from datetime import datetime\n",
    "import geopandas as gpd\n",
    "from shapely.geometry import Point\n",
    "import os\n",
    "import struct\n",
    "\n",
    "import matplotlib.pyplot as plt\n",
    "import matplotlib.patches as mpatches\n",
    "import matplotlib\n",
    "from mpl_toolkits.axes_grid1 import make_axes_locatable\n",
    "\n",
    "from sklearn.cluster import KMeans\n",
    "\n",
    "import pandas as pd\n",
    "from pandas.io.json import json_normalize, read_json\n",
    "\n",
    "def save_fig(name):\n",
    "    fig.savefig(name,dpi=80,bbox_inches='tight', pad_inches=0.02, format = 'jpg')\n",
    "\n",
    "%matplotlib inline"
   ]
  },
  {
   "cell_type": "markdown",
   "metadata": {},
   "source": [
    "# Our goal\n",
    "\n",
    "The list of birds from ABA that have to be found.  ABA also give us a way to rank the birds.  That information will be used to map our route and determine hotspots. ABA 1-2 will be consider low priority and 3-5 high priority. "
   ]
  },
  {
   "cell_type": "code",
   "execution_count": 32,
   "metadata": {},
   "outputs": [],
   "source": [
    "dfbirdList = pd.read_csv('./ABA_Checklist-8.0.6a.csv', usecols=[1,3,4], skiprows=1)\n",
    "dfbirdList.rename(columns={' including detailed species accounts': 'Bird name', 'Unnamed: 3': '4 letter code',\n",
    "                           'Unnamed: 4': 'ABA Rarity'}, inplace=True)\n",
    "dfbirdList.dropna(inplace=True)\n",
    "dfbirdList.reset_index(inplace=True)\n",
    "dfbirdList.drop(['index'], axis=1, inplace=True)\n",
    "dfbirdList['ABA TF Rarity'] = dfbirdList['ABA Rarity']//3"
   ]
  },
  {
   "cell_type": "code",
   "execution_count": 3,
   "metadata": {},
   "outputs": [],
   "source": [
    "listOfBirds = list(dfbirdList['Bird name'].unique())"
   ]
  },
  {
   "cell_type": "code",
   "execution_count": 5,
   "metadata": {},
   "outputs": [
    {
     "data": {
      "text/html": [
       "<div>\n",
       "<style scoped>\n",
       "    .dataframe tbody tr th:only-of-type {\n",
       "        vertical-align: middle;\n",
       "    }\n",
       "\n",
       "    .dataframe tbody tr th {\n",
       "        vertical-align: top;\n",
       "    }\n",
       "\n",
       "    .dataframe thead th {\n",
       "        text-align: right;\n",
       "    }\n",
       "</style>\n",
       "<table border=\"1\" class=\"dataframe\">\n",
       "  <thead>\n",
       "    <tr style=\"text-align: right;\">\n",
       "      <th></th>\n",
       "      <th>Bird name</th>\n",
       "      <th>4 letter code</th>\n",
       "      <th>ABA Rarity</th>\n",
       "      <th>T/F Rarity</th>\n",
       "    </tr>\n",
       "  </thead>\n",
       "  <tbody>\n",
       "    <tr>\n",
       "      <td>0</td>\n",
       "      <td>Black-bellied Whistling-Duck</td>\n",
       "      <td>BBWD</td>\n",
       "      <td>1.0</td>\n",
       "      <td>0.0</td>\n",
       "    </tr>\n",
       "    <tr>\n",
       "      <td>1</td>\n",
       "      <td>Fulvous Whistling-Duck</td>\n",
       "      <td>FUWD</td>\n",
       "      <td>1.0</td>\n",
       "      <td>0.0</td>\n",
       "    </tr>\n",
       "    <tr>\n",
       "      <td>2</td>\n",
       "      <td>Emperor Goose</td>\n",
       "      <td>EMGO</td>\n",
       "      <td>2.0</td>\n",
       "      <td>0.0</td>\n",
       "    </tr>\n",
       "    <tr>\n",
       "      <td>3</td>\n",
       "      <td>Snow Goose</td>\n",
       "      <td>SNGO</td>\n",
       "      <td>1.0</td>\n",
       "      <td>0.0</td>\n",
       "    </tr>\n",
       "    <tr>\n",
       "      <td>4</td>\n",
       "      <td>Ross's Goose</td>\n",
       "      <td>ROGO</td>\n",
       "      <td>1.0</td>\n",
       "      <td>0.0</td>\n",
       "    </tr>\n",
       "  </tbody>\n",
       "</table>\n",
       "</div>"
      ],
      "text/plain": [
       "                      Bird name 4 letter code  ABA Rarity  T/F Rarity\n",
       "0  Black-bellied Whistling-Duck          BBWD         1.0         0.0\n",
       "1        Fulvous Whistling-Duck          FUWD         1.0         0.0\n",
       "2                 Emperor Goose          EMGO         2.0         0.0\n",
       "3                    Snow Goose          SNGO         1.0         0.0\n",
       "4                  Ross's Goose          ROGO         1.0         0.0"
      ]
     },
     "execution_count": 5,
     "metadata": {},
     "output_type": "execute_result"
    }
   ],
   "source": [
    "dfbirdList.head(5)"
   ]
  },
  {
   "cell_type": "markdown",
   "metadata": {},
   "source": [
    "# Now the ebird Data\n",
    "\n",
    "I will start with a singe state the State of WY. Since the ebird API limits the type of request I can make, I have a downloaded cvs file.  I'm using the last two full years of data."
   ]
  },
  {
   "cell_type": "code",
   "execution_count": 6,
   "metadata": {},
   "outputs": [],
   "source": [
    "dfAll = pd.read_csv('./ebd_US-WY_201801_201912_relApr-2020/ebd_US-WY_201801_201912_relApr-2020.txt'\n",
    "                ,delimiter=\"\\t\")\n",
    "\n",
    "# dfAll = pd.read_csv('./ebd_US-WI_201001_201812_relApr-2020/ebd_US-WI_201001_201812_relApr-2020.txt'\n",
    "#                 ,delimiter=\"\\t\")"
   ]
  },
  {
   "cell_type": "markdown",
   "metadata": {},
   "source": [
    "I add sertain condition to satify completnes fo the data, public locations and only bird species (i.e. no hybirds). `dfReduce` will contian all the information I will be using."
   ]
  },
  {
   "cell_type": "code",
   "execution_count": 7,
   "metadata": {},
   "outputs": [],
   "source": [
    "dfAll = dfAll[(dfAll['CATEGORY'] == 'species') & (dfAll['LOCALITY TYPE'] == 'H')\n",
    "              & (dfAll['ALL SPECIES REPORTED'] == 1)  & (dfAll['APPROVED'] == 1)]"
   ]
  },
  {
   "cell_type": "code",
   "execution_count": 169,
   "metadata": {},
   "outputs": [],
   "source": [
    "dfReduce = dfAll.filter(['SAMPLING EVENT IDENTIFIER', 'COMMON NAME', 'LOCALITY', 'TIME OBSERVATIONS STARTED',\n",
    "              'LATITUDE', 'LONGITUDE', 'OBSERVATION DATE', 'ALL SPECIES REPORTED']) \n",
    "dfReduce['OBSERVATION DATE'] = pd.to_datetime(dfReduce['OBSERVATION DATE'])\n",
    "dfReduce['YEAR WEEK'] = dfReduce['OBSERVATION DATE'].dt.strftime('%W')\n",
    "dfReduce['YEAR DAY'] = dfReduce['OBSERVATION DATE'].dt.strftime('%j')\n",
    "dfReduce = dfReduce.merge(dfbirdList, left_on='COMMON NAME', right_on='Bird name', how = 'left')\n",
    "dfReduce.drop(['Bird name'], axis=1, inplace=True)"
   ]
  },
  {
   "cell_type": "markdown",
   "metadata": {},
   "source": [
    "### Now lets find the rare birds by percentils\n",
    "\n",
    "The rare birds are going to be determine as the bottom 20%, interms of sightings (average over time).  We then also need to find what are the locations that host this birds."
   ]
  },
  {
   "cell_type": "code",
   "execution_count": 170,
   "metadata": {},
   "outputs": [],
   "source": [
    "dfPercentil = dfReduce.groupby(['COMMON NAME']).sum().filter(['ALL SPECIES REPORTED']).reset_index()\n",
    "dfPercentil.rename(columns = {'ALL SPECIES REPORTED':'POS OBS'}, inplace=True)\n",
    "dfPercentil['PROVABILITY'] = dfPercentil['POS OBS']/dfReduce.shape[0]"
   ]
  },
  {
   "cell_type": "code",
   "execution_count": 171,
   "metadata": {},
   "outputs": [
    {
     "data": {
      "text/html": [
       "<div>\n",
       "<style scoped>\n",
       "    .dataframe tbody tr th:only-of-type {\n",
       "        vertical-align: middle;\n",
       "    }\n",
       "\n",
       "    .dataframe tbody tr th {\n",
       "        vertical-align: top;\n",
       "    }\n",
       "\n",
       "    .dataframe thead th {\n",
       "        text-align: right;\n",
       "    }\n",
       "</style>\n",
       "<table border=\"1\" class=\"dataframe\">\n",
       "  <thead>\n",
       "    <tr style=\"text-align: right;\">\n",
       "      <th></th>\n",
       "      <th>COMMON NAME</th>\n",
       "      <th>POS OBS</th>\n",
       "      <th>PROVABILITY</th>\n",
       "    </tr>\n",
       "  </thead>\n",
       "  <tbody>\n",
       "    <tr>\n",
       "      <td>0</td>\n",
       "      <td>Alder Flycatcher</td>\n",
       "      <td>2</td>\n",
       "      <td>0.000009</td>\n",
       "    </tr>\n",
       "    <tr>\n",
       "      <td>1</td>\n",
       "      <td>American Avocet</td>\n",
       "      <td>902</td>\n",
       "      <td>0.004085</td>\n",
       "    </tr>\n",
       "    <tr>\n",
       "      <td>2</td>\n",
       "      <td>American Bittern</td>\n",
       "      <td>22</td>\n",
       "      <td>0.000100</td>\n",
       "    </tr>\n",
       "    <tr>\n",
       "      <td>3</td>\n",
       "      <td>American Coot</td>\n",
       "      <td>2484</td>\n",
       "      <td>0.011250</td>\n",
       "    </tr>\n",
       "    <tr>\n",
       "      <td>4</td>\n",
       "      <td>American Crow</td>\n",
       "      <td>3197</td>\n",
       "      <td>0.014479</td>\n",
       "    </tr>\n",
       "  </tbody>\n",
       "</table>\n",
       "</div>"
      ],
      "text/plain": [
       "        COMMON NAME  POS OBS  PROVABILITY\n",
       "0  Alder Flycatcher        2     0.000009\n",
       "1   American Avocet      902     0.004085\n",
       "2  American Bittern       22     0.000100\n",
       "3     American Coot     2484     0.011250\n",
       "4     American Crow     3197     0.014479"
      ]
     },
     "execution_count": 171,
     "metadata": {},
     "output_type": "execute_result"
    }
   ],
   "source": [
    "dfPercentil.head(5) #one hot encoding sckit lern  pivot them"
   ]
  },
  {
   "cell_type": "code",
   "execution_count": 172,
   "metadata": {},
   "outputs": [],
   "source": [
    "# dfPercentil2 = dfReduce.groupby(['LOCALITY']).sum().filter(['ALL SPECIES REPORTED']).reset_index()\n",
    "# dfPercentil2.rename(columns = {'ALL SPECIES REPORTED':'TOTAL OBS'}, inplace=True)\n",
    "# dfPercentil = dfPercentil.merge(dfPercentil2, left_on='LOCALITY', right_on='LOCALITY', how = 'left')"
   ]
  },
  {
   "cell_type": "code",
   "execution_count": 173,
   "metadata": {},
   "outputs": [],
   "source": [
    "dfPercentil['Percentil TF Rarity'] = list(map(lambda x: 0 if x > dfPercentil.quantile(.1)[0] else 1, \n",
    "                                        dfPercentil['PROVABILITY']))"
   ]
  },
  {
   "cell_type": "code",
   "execution_count": 174,
   "metadata": {},
   "outputs": [],
   "source": [
    "dfReduce = dfReduce.merge(dfPercentil, left_on='COMMON NAME', right_on='COMMON NAME', how = 'left')"
   ]
  },
  {
   "cell_type": "code",
   "execution_count": 175,
   "metadata": {},
   "outputs": [],
   "source": [
    "dfReduce['Go/Nogo'] = list(map(lambda x, y: 1 if (x ==1 or y ==1) else 0, \n",
    "                                        dfReduce['ABA TF Rarity'],dfReduce['Percentil TF Rarity']))"
   ]
  },
  {
   "cell_type": "code",
   "execution_count": 176,
   "metadata": {},
   "outputs": [
    {
     "data": {
      "text/html": [
       "<div>\n",
       "<style scoped>\n",
       "    .dataframe tbody tr th:only-of-type {\n",
       "        vertical-align: middle;\n",
       "    }\n",
       "\n",
       "    .dataframe tbody tr th {\n",
       "        vertical-align: top;\n",
       "    }\n",
       "\n",
       "    .dataframe thead th {\n",
       "        text-align: right;\n",
       "    }\n",
       "</style>\n",
       "<table border=\"1\" class=\"dataframe\">\n",
       "  <thead>\n",
       "    <tr style=\"text-align: right;\">\n",
       "      <th></th>\n",
       "      <th>SAMPLING EVENT IDENTIFIER</th>\n",
       "      <th>COMMON NAME</th>\n",
       "      <th>LOCALITY</th>\n",
       "      <th>TIME OBSERVATIONS STARTED</th>\n",
       "      <th>LATITUDE</th>\n",
       "      <th>LONGITUDE</th>\n",
       "      <th>OBSERVATION DATE</th>\n",
       "      <th>ALL SPECIES REPORTED</th>\n",
       "      <th>YEAR WEEK</th>\n",
       "      <th>YEAR DAY</th>\n",
       "      <th>4 letter code</th>\n",
       "      <th>ABA Rarity</th>\n",
       "      <th>ABA TF Rarity</th>\n",
       "      <th>POS OBS</th>\n",
       "      <th>PROVABILITY</th>\n",
       "      <th>Percentil TF Rarity</th>\n",
       "      <th>Go/Nogo</th>\n",
       "    </tr>\n",
       "  </thead>\n",
       "  <tbody>\n",
       "    <tr>\n",
       "      <td>0</td>\n",
       "      <td>S46454713</td>\n",
       "      <td>Mallard</td>\n",
       "      <td>Beck &amp; Alkali Lakes</td>\n",
       "      <td>15:26:00</td>\n",
       "      <td>44.509697</td>\n",
       "      <td>-109.037697</td>\n",
       "      <td>2018-06-10</td>\n",
       "      <td>1</td>\n",
       "      <td>23</td>\n",
       "      <td>161</td>\n",
       "      <td>MALL</td>\n",
       "      <td>1.0</td>\n",
       "      <td>0.0</td>\n",
       "      <td>7051</td>\n",
       "      <td>0.031933</td>\n",
       "      <td>1</td>\n",
       "      <td>1</td>\n",
       "    </tr>\n",
       "    <tr>\n",
       "      <td>1</td>\n",
       "      <td>S49646176</td>\n",
       "      <td>Northern Goshawk</td>\n",
       "      <td>Commissary Ridge HawkWatch</td>\n",
       "      <td>09:00:00</td>\n",
       "      <td>42.024710</td>\n",
       "      <td>-110.589578</td>\n",
       "      <td>2018-10-31</td>\n",
       "      <td>1</td>\n",
       "      <td>44</td>\n",
       "      <td>304</td>\n",
       "      <td>NOGO</td>\n",
       "      <td>1.0</td>\n",
       "      <td>0.0</td>\n",
       "      <td>77</td>\n",
       "      <td>0.000349</td>\n",
       "      <td>1</td>\n",
       "      <td>1</td>\n",
       "    </tr>\n",
       "    <tr>\n",
       "      <td>2</td>\n",
       "      <td>S45850159</td>\n",
       "      <td>Mallard</td>\n",
       "      <td>Sand Creek Rd--Laramie to Hutton Lake NWR</td>\n",
       "      <td>12:58:00</td>\n",
       "      <td>41.222826</td>\n",
       "      <td>-105.636141</td>\n",
       "      <td>2018-05-19</td>\n",
       "      <td>1</td>\n",
       "      <td>20</td>\n",
       "      <td>139</td>\n",
       "      <td>MALL</td>\n",
       "      <td>1.0</td>\n",
       "      <td>0.0</td>\n",
       "      <td>7051</td>\n",
       "      <td>0.031933</td>\n",
       "      <td>1</td>\n",
       "      <td>1</td>\n",
       "    </tr>\n",
       "    <tr>\n",
       "      <td>3</td>\n",
       "      <td>S43942518</td>\n",
       "      <td>Mallard</td>\n",
       "      <td>Laramie Plains Lakes--Blake's Pond</td>\n",
       "      <td>08:08:00</td>\n",
       "      <td>41.231888</td>\n",
       "      <td>-105.823067</td>\n",
       "      <td>2018-03-25</td>\n",
       "      <td>1</td>\n",
       "      <td>12</td>\n",
       "      <td>084</td>\n",
       "      <td>MALL</td>\n",
       "      <td>1.0</td>\n",
       "      <td>0.0</td>\n",
       "      <td>7051</td>\n",
       "      <td>0.031933</td>\n",
       "      <td>1</td>\n",
       "      <td>1</td>\n",
       "    </tr>\n",
       "    <tr>\n",
       "      <td>4</td>\n",
       "      <td>S50217902</td>\n",
       "      <td>Harris's Sparrow</td>\n",
       "      <td>Lake De Smet</td>\n",
       "      <td>11:27:00</td>\n",
       "      <td>44.475502</td>\n",
       "      <td>-106.748357</td>\n",
       "      <td>2018-10-14</td>\n",
       "      <td>1</td>\n",
       "      <td>41</td>\n",
       "      <td>287</td>\n",
       "      <td>HASP</td>\n",
       "      <td>1.0</td>\n",
       "      <td>0.0</td>\n",
       "      <td>19</td>\n",
       "      <td>0.000086</td>\n",
       "      <td>1</td>\n",
       "      <td>1</td>\n",
       "    </tr>\n",
       "  </tbody>\n",
       "</table>\n",
       "</div>"
      ],
      "text/plain": [
       "  SAMPLING EVENT IDENTIFIER       COMMON NAME  \\\n",
       "0                 S46454713           Mallard   \n",
       "1                 S49646176  Northern Goshawk   \n",
       "2                 S45850159           Mallard   \n",
       "3                 S43942518           Mallard   \n",
       "4                 S50217902  Harris's Sparrow   \n",
       "\n",
       "                                    LOCALITY TIME OBSERVATIONS STARTED  \\\n",
       "0                        Beck & Alkali Lakes                  15:26:00   \n",
       "1                 Commissary Ridge HawkWatch                  09:00:00   \n",
       "2  Sand Creek Rd--Laramie to Hutton Lake NWR                  12:58:00   \n",
       "3         Laramie Plains Lakes--Blake's Pond                  08:08:00   \n",
       "4                               Lake De Smet                  11:27:00   \n",
       "\n",
       "    LATITUDE   LONGITUDE OBSERVATION DATE  ALL SPECIES REPORTED YEAR WEEK  \\\n",
       "0  44.509697 -109.037697       2018-06-10                     1        23   \n",
       "1  42.024710 -110.589578       2018-10-31                     1        44   \n",
       "2  41.222826 -105.636141       2018-05-19                     1        20   \n",
       "3  41.231888 -105.823067       2018-03-25                     1        12   \n",
       "4  44.475502 -106.748357       2018-10-14                     1        41   \n",
       "\n",
       "  YEAR DAY 4 letter code  ABA Rarity  ABA TF Rarity  POS OBS  PROVABILITY  \\\n",
       "0      161          MALL         1.0            0.0     7051     0.031933   \n",
       "1      304          NOGO         1.0            0.0       77     0.000349   \n",
       "2      139          MALL         1.0            0.0     7051     0.031933   \n",
       "3      084          MALL         1.0            0.0     7051     0.031933   \n",
       "4      287          HASP         1.0            0.0       19     0.000086   \n",
       "\n",
       "   Percentil TF Rarity  Go/Nogo  \n",
       "0                    1        1  \n",
       "1                    1        1  \n",
       "2                    1        1  \n",
       "3                    1        1  \n",
       "4                    1        1  "
      ]
     },
     "execution_count": 176,
     "metadata": {},
     "output_type": "execute_result"
    }
   ],
   "source": [
    "dfReduce.head(5)"
   ]
  },
  {
   "cell_type": "code",
   "execution_count": null,
   "metadata": {},
   "outputs": [],
   "source": []
  },
  {
   "cell_type": "code",
   "execution_count": null,
   "metadata": {},
   "outputs": [],
   "source": []
  },
  {
   "cell_type": "code",
   "execution_count": null,
   "metadata": {},
   "outputs": [],
   "source": []
  },
  {
   "cell_type": "code",
   "execution_count": null,
   "metadata": {},
   "outputs": [],
   "source": []
  },
  {
   "cell_type": "markdown",
   "metadata": {},
   "source": [
    "# Is time for some plots!"
   ]
  },
  {
   "cell_type": "code",
   "execution_count": null,
   "metadata": {},
   "outputs": [],
   "source": [
    "country = gpd.read_file('/Users/casanova/DocumentsHere/Insight/gz_2010_us_040_00_5m.json')"
   ]
  },
  {
   "cell_type": "code",
   "execution_count": null,
   "metadata": {},
   "outputs": [],
   "source": [
    "bidName = 'American Crow'\n",
    "state = 'Wyoming'"
   ]
  },
  {
   "cell_type": "code",
   "execution_count": null,
   "metadata": {},
   "outputs": [],
   "source": [
    "# fig, ax = plt.subplots(1, figsize=(10,15))\n",
    "# base = country[country['NAME'].isin([state]) == True].plot(ax=ax, color='#3B3C6E', alpha = 0.5)\n",
    "# im = ax.scatter(bidsOut[bidsOut['COMMON NAME'] == bidName]['LONGITUDE'],\n",
    "#            bidsOut[bidsOut['COMMON NAME'] == bidName]['LATITUDE'],\n",
    "#           c = list(bidsOut[bidsOut['COMMON NAME'] == bidName]['POSITIVE OBS']))\n",
    "# ax.set_ylabel(r'Latitude [$^o$]')\n",
    "# ax.set_xlabel(r'Longitude [$^o$]')\n",
    "\n",
    "# plt.text(-107, 45.01, r'{} on {}'.format(bidName,day), color='k',size=15)\n",
    "# divider = make_axes_locatable(ax)\n",
    "# cax = divider.append_axes('right', size='5%', pad=0.05)\n",
    "# fig.colorbar(im, cax = cax, orientation='vertical')\n",
    "\n",
    "# plt.show()\n",
    "# save_fig('/Users/casanova/DocumentsHere/Insight/{}{}{}.jpg'.format(state,bidName,day))\n"
   ]
  },
  {
   "cell_type": "markdown",
   "metadata": {},
   "source": [
    "# Now the weather data\n",
    "\n",
    "The data will come from PRISM"
   ]
  },
  {
   "cell_type": "code",
   "execution_count": null,
   "metadata": {},
   "outputs": [],
   "source": [
    "def parse_header(hdr):\n",
    "    contents = open(hdr).read()\n",
    "    lines = contents.strip().splitlines()\n",
    "    header = {}\n",
    "    for li in lines:\n",
    "        key, _, value = li.partition(\" \")\n",
    "        header[key] = value.strip()\n",
    "\n",
    "    return header\n",
    "\n",
    "def parse_bil(path, rows, cols, dtype):\n",
    "    # where you put the extracted BIL file\n",
    "    fi = open(path, \"rb\")\n",
    "    contents = fi.read()\n",
    "    fi.close()\n",
    "\n",
    "    # unpack binary data into a flat tuple z\n",
    "    n = int(rows*cols)\n",
    "    if dtype == \"FLOAT\":\n",
    "        s = \"<%df\" % (n,)\n",
    "    else: # spec says to assume unsigned int if no type specified..\n",
    "        s = \"<%dH\" % (n,) # unsigned int\n",
    "    z = struct.unpack(s, contents)\n",
    "\n",
    "    values = np.zeros((rows,cols))\n",
    "    \n",
    "    for r in range(rows):\n",
    "        for c in range(cols):\n",
    "            val = z[(cols*r)+c]\n",
    "            if (val <= -6000):\n",
    "                # may not be needed depending on format, and the \"magic number\"\n",
    "                # value used for 'void' or missing data\n",
    "                val= np.nan\n",
    "            values[r][c]=val\n",
    "    return values\n",
    "\n",
    "def geoloc_rc(r,c):\n",
    "    lat = float(hdrInfo['ULYMAP']) - r*float(hdrInfo['YDIM'])\n",
    "    lon = float(hdrInfo['ULYMAP']) + c*float(hdrInfo['XDIM'])\n",
    "    return lat, lon\n",
    "    \n",
    "def geoloc_ll(lat,long):\n",
    "    r = -1*(lat - float(hdrInfo['ULYMAP']))/float(hdrInfo['YDIM'])\n",
    "    c = (lon - float(hdrInfo['ULYMAP']))/float(hdrInfo['XDIM'])\n",
    "    return r, c\n",
    "\n",
    "def findweather_from_coord(Plat, Plon, WeatherMat):\n",
    "    latRange = np.linspace(float(hdrInfo['ULYMAP']),float(hdrInfo['ULYMAP'])-float(hdrInfo['YDIM'])\n",
    "                           *float(hdrInfo['NROWS']),float(hdrInfo['NROWS']))\n",
    "    lonRange = np.linspace(float(hdrInfo['ULXMAP']),float(hdrInfo['ULXMAP'])+float(hdrInfo['XDIM'])\n",
    "                           *float(hdrInfo['NCOLS']),float(hdrInfo['NCOLS']))\n",
    "    Pr,Pc = np.argmin(np.abs(latRange-Plat)), np.argmin(np.abs(lonRange-Plon))\n",
    "    \n",
    "    return  WeatherMat[Pr,Pc], Pr, Pc\n",
    "    "
   ]
  },
  {
   "cell_type": "code",
   "execution_count": null,
   "metadata": {},
   "outputs": [],
   "source": [
    "hdrInfo = parse_header('../../Downloads/PRISM_ppt_stable_4kmD2_20180101_20181231_bil/PRISM_ppt_stable_4kmD2_20180101_bil.hdr')"
   ]
  },
  {
   "cell_type": "code",
   "execution_count": null,
   "metadata": {},
   "outputs": [],
   "source": [
    "hdrInfo"
   ]
  },
  {
   "cell_type": "code",
   "execution_count": null,
   "metadata": {},
   "outputs": [],
   "source": [
    "out1 = parse_bil('../../Downloads/PRISM_ppt_stable_4kmD2_20180101_20181231_bil/PRISM_ppt_stable_4kmD2_20180401_bil.bil',\n",
    "          int(hdrInfo['NROWS']), int(hdrInfo['NCOLS']), hdrInfo['PIXELTYPE'])"
   ]
  },
  {
   "cell_type": "code",
   "execution_count": null,
   "metadata": {},
   "outputs": [],
   "source": [
    "findweather_from_coord(43.0731, -89.4012, out1)"
   ]
  },
  {
   "cell_type": "code",
   "execution_count": null,
   "metadata": {},
   "outputs": [],
   "source": [
    "fig,ax = plt.subplots(1)\n",
    "ax.imshow((out1))\n",
    "rect = mpatches.Rectangle((854-10, 164-10),20,20,linewidth=2,edgecolor='r',facecolor='none')\n",
    "ax.add_patch(rect)\n",
    "plt.show()"
   ]
  },
  {
   "cell_type": "markdown",
   "metadata": {},
   "source": [
    "# Is time for some ML\n",
    "\n",
    "I'll be using a Logistic Regression to determine if I should go to a place or not.  To determine if I should go or not has been already introduce and that is my external parameter.  The way is currently set up is that the bottome 20 percentile and 2-5 ABA rarity code birds select locations that I should visit. "
   ]
  },
  {
   "cell_type": "code",
   "execution_count": null,
   "metadata": {},
   "outputs": [],
   "source": [
    "y = dfReduce[(dfReduce['YEAR DAY'] >= 0) & (dfReduce['YEAR DAY'] < 7)]['Go/Nogo'].values\n",
    "\n",
    "use_columns = ['LATITUDE', 'LONGITUDE','YEAR DAY']\n",
    "#        ,'YEAR DAY'] # 'TIME OBSERVATIONS STARTED'\n",
    "# dfReduce['TIME OBSERVATIONS STARTED'] = pd.to_datetime(dfReduce['TIME OBSERVATIONS STARTED'],format= '%H:%M:%S' )\n",
    "\n",
    "X = dfReduce[(dfReduce['YEAR DAY'] >= 0) & (dfReduce['YEAR DAY'] < 7)][use_columns]"
   ]
  },
  {
   "cell_type": "code",
   "execution_count": null,
   "metadata": {},
   "outputs": [],
   "source": [
    "X_train, X_test, y_train, y_test = train_test_split(X, y, random_state=432545)"
   ]
  },
  {
   "cell_type": "code",
   "execution_count": null,
   "metadata": {},
   "outputs": [],
   "source": [
    "model = LogisticRegression(class_weight={0:2,1:60})"
   ]
  },
  {
   "cell_type": "code",
   "execution_count": null,
   "metadata": {},
   "outputs": [],
   "source": [
    "model.fit(X_train, y_train)"
   ]
  },
  {
   "cell_type": "code",
   "execution_count": null,
   "metadata": {},
   "outputs": [],
   "source": [
    "print(model.score(X_test,y_test))"
   ]
  },
  {
   "cell_type": "code",
   "execution_count": null,
   "metadata": {},
   "outputs": [],
   "source": [
    "# Plot the decision boundary. For that, we will assign a color to each\n",
    "# point in the mesh [x_min, x_max]x[y_min, y_max].\n",
    "x_min, x_max = np.array(X)[:, 0].min() - .5, np.array(X)[:, 0].max() + .5\n",
    "y_min, y_max = np.array(X)[:, 1].min() - .5, np.array(X)[:, 1].max() + .5\n",
    "\n",
    "h = .02  # step size in the mesh\n",
    "xx, yy, tt = np.meshgrid(np.arange(x_min, x_max, h), np.arange(y_min, y_max, h), np.arange(1, 366, 1))\n",
    "\n",
    "# xx, yy = np.meshgrid(np.arange(x_min, x_max, h), np.arange(y_min, y_max, h))\n",
    "Z = model.predict(np.c_[xx.ravel(), yy.ravel(), tt.ravel()])\n",
    "Z = Z.reshape(xx.shape)"
   ]
  },
  {
   "cell_type": "code",
   "execution_count": null,
   "metadata": {},
   "outputs": [],
   "source": [
    "plt.pcolormesh(xx, yy,Z, cmap=plt.cm.Reds)\n",
    "plt.scatter(dfReduce[dfReduce['Go/Nogo'] == 0]['LATITUDE'],dfReduce[dfReduce['Go/Nogo'] == 0]['LONGITUDE'],\n",
    "            c=dfReduce[dfReduce['Go/Nogo'] == 0]['Go/Nogo'].values, cmap=plt.cm.Paired)\n",
    "plt.scatter(dfReduce[dfReduce['Go/Nogo'] == 1]['LATITUDE'],dfReduce[dfReduce['Go/Nogo'] == 1]['LONGITUDE'],\n",
    "            c=dfReduce[dfReduce['Go/Nogo'] == 1]['Go/Nogo'].values, cmap=plt.cm.Greens)\n",
    "plt.show()"
   ]
  },
  {
   "cell_type": "code",
   "execution_count": null,
   "metadata": {},
   "outputs": [],
   "source": [
    "model.coef_"
   ]
  },
  {
   "cell_type": "code",
   "execution_count": null,
   "metadata": {},
   "outputs": [],
   "source": [
    "model.intercept_"
   ]
  },
  {
   "cell_type": "code",
   "execution_count": null,
   "metadata": {},
   "outputs": [],
   "source": [
    "Z.min()"
   ]
  },
  {
   "cell_type": "code",
   "execution_count": null,
   "metadata": {},
   "outputs": [],
   "source": [
    "Z.max()"
   ]
  },
  {
   "cell_type": "code",
   "execution_count": null,
   "metadata": {},
   "outputs": [],
   "source": [
    "import statsmodels.api as sm\n",
    "logit_model=sm.Logit(y,X)\n",
    "result=logit_model.fit()\n",
    "print(result.summary2())"
   ]
  },
  {
   "cell_type": "code",
   "execution_count": null,
   "metadata": {},
   "outputs": [],
   "source": [
    "y_pred = model.predict(X_test)\n",
    "print('Accuracy of logistic regression classifier on test set: {:.2f}'.format(model.score(X_test, y_test)))"
   ]
  },
  {
   "cell_type": "code",
   "execution_count": null,
   "metadata": {},
   "outputs": [],
   "source": [
    "from sklearn.metrics import confusion_matrix\n",
    "confusion_matrix = confusion_matrix(y_test, y_pred)\n",
    "print(confusion_matrix)"
   ]
  },
  {
   "cell_type": "code",
   "execution_count": null,
   "metadata": {},
   "outputs": [],
   "source": [
    "# import seaborn as sns\n",
    "\n",
    "# plt.figure(figsize=(10,5))\n",
    "# sns.scatterplot(data=dfReduce,x='LATITUDE',y='LONGITUDE',hue='Go/Nogo')"
   ]
  },
  {
   "cell_type": "code",
   "execution_count": null,
   "metadata": {},
   "outputs": [],
   "source": [
    "roc_auc_score(y,LogisticRegression(C=1e9,class_weight={0:1,1:90}).fit(X,y).predict(X))"
   ]
  },
  {
   "cell_type": "code",
   "execution_count": null,
   "metadata": {},
   "outputs": [],
   "source": [
    "roc_auc_score(y,LogisticRegression(C=1e9,class_weight='balanced').fit(X,y).predict(X))"
   ]
  },
  {
   "cell_type": "code",
   "execution_count": null,
   "metadata": {},
   "outputs": [],
   "source": [
    "import numpy as np\n",
    "\n",
    "# N is batch size; D_in is input dimension;\n",
    "# H is hidden dimension; D_out is output dimension.\n",
    "N, D_in, H, D_out = 64, 1000, 100, 10\n",
    "\n",
    "# Create random input and output data\n",
    "x = np.random.randn(N, D_in)\n",
    "y = np.random.randn(N, D_out)\n",
    "\n",
    "# Randomly initialize weights\n",
    "w1 = np.random.randn(D_in, H)\n",
    "w2 = np.random.randn(H, D_out)"
   ]
  },
  {
   "cell_type": "code",
   "execution_count": null,
   "metadata": {},
   "outputs": [],
   "source": [
    "x.shape"
   ]
  },
  {
   "cell_type": "markdown",
   "metadata": {},
   "source": [
    "# Let do the k-mean clustering"
   ]
  },
  {
   "cell_type": "code",
   "execution_count": 247,
   "metadata": {},
   "outputs": [],
   "source": [
    "kmeans = KMeans(init='k-means++', n_clusters=11, n_init=10)\n",
    "dfKMeans = dfReduce.filter(['LATITUDE', 'LONGITUDE', 'LOCALITY']).drop_duplicates()"
   ]
  },
  {
   "cell_type": "code",
   "execution_count": 248,
   "metadata": {},
   "outputs": [
    {
     "data": {
      "text/plain": [
       "KMeans(algorithm='auto', copy_x=True, init='k-means++', max_iter=300,\n",
       "       n_clusters=11, n_init=10, n_jobs=None, precompute_distances='auto',\n",
       "       random_state=None, tol=0.0001, verbose=0)"
      ]
     },
     "execution_count": 248,
     "metadata": {},
     "output_type": "execute_result"
    }
   ],
   "source": [
    "kmeans.fit(dfKMeans.filter(['LATITUDE', 'LONGITUDE']))"
   ]
  },
  {
   "cell_type": "code",
   "execution_count": 249,
   "metadata": {},
   "outputs": [],
   "source": [
    "centroids = kmeans.cluster_centers_"
   ]
  },
  {
   "cell_type": "code",
   "execution_count": 250,
   "metadata": {},
   "outputs": [
    {
     "data": {
      "text/plain": [
       "array([-106.77800424, -110.55984165, -109.01093505, -104.75786005,\n",
       "       -107.11864404, -110.04901191, -104.82796713, -106.51627898,\n",
       "       -109.04644762, -110.66661181, -105.37879048])"
      ]
     },
     "execution_count": 250,
     "metadata": {},
     "output_type": "execute_result"
    }
   ],
   "source": [
    "centroids[:,1]"
   ]
  },
  {
   "cell_type": "code",
   "execution_count": 251,
   "metadata": {},
   "outputs": [],
   "source": [
    "plotter = dfReduce.filter(['LATITUDE', 'LONGITUDE']).drop_duplicates()\n",
    "\n",
    "# Step size of the mesh. Decrease to increase the quality of the VQ.\n",
    "h = .02     # point in the mesh [x_min, x_max]x[y_min, y_max].\n",
    "\n",
    "# Plot the decision boundary. For that, we will assign a color to each\n",
    "x_min, x_max = np.min(plotter['LATITUDE']),  np.max(plotter['LATITUDE'])\n",
    "y_min, y_max = np.min(plotter['LONGITUDE']), np.max(plotter['LONGITUDE'])\n",
    "xx, yy = np.meshgrid(np.arange(x_min, x_max, h), np.arange(y_min, y_max, h))\n",
    "\n",
    "# Obtain labels for each point in mesh. Use last trained model.\n",
    "Z = kmeans.predict(np.c_[xx.ravel(), yy.ravel()])\n",
    "\n",
    "# Put the result into a color plot\n",
    "Z = Z.reshape(xx.shape)\n"
   ]
  },
  {
   "cell_type": "code",
   "execution_count": 252,
   "metadata": {},
   "outputs": [
    {
     "data": {
      "image/png": "[encoded data removed]",
      "text/plain": [
       "<Figure size 432x288 with 1 Axes>"
      ]
     },
     "metadata": {
      "needs_background": "light"
     },
     "output_type": "display_data"
    }
   ],
   "source": [
    "plt.imshow(Z, interpolation='nearest',\n",
    "           extent=(xx.min(), xx.max(), yy.min(), yy.max()),\n",
    "           cmap=plt.cm.Paired,\n",
    "           aspect='auto', origin='lower', alpha = 0.5)\n",
    "plt.scatter(plotter['LATITUDE'],plotter['LONGITUDE'], marker = '+')\n",
    "plt.scatter(centroids[:,0], centroids[:,1])\n",
    "plt.show()\n"
   ]
  },
  {
   "cell_type": "code",
   "execution_count": 253,
   "metadata": {},
   "outputs": [
    {
     "data": {
      "text/plain": [
       "array([ 8,  5, 10, 10,  4], dtype=int32)"
      ]
     },
     "execution_count": 253,
     "metadata": {},
     "output_type": "execute_result"
    }
   ],
   "source": [
    "kmeans.labels_[:5]"
   ]
  },
  {
   "cell_type": "code",
   "execution_count": 254,
   "metadata": {},
   "outputs": [
    {
     "data": {
      "text/plain": [
       "array([5], dtype=int32)"
      ]
     },
     "execution_count": 254,
     "metadata": {},
     "output_type": "execute_result"
    }
   ],
   "source": [
    "kmeans.predict([[42.024710,-110.589578]])"
   ]
  },
  {
   "cell_type": "code",
   "execution_count": 255,
   "metadata": {},
   "outputs": [],
   "source": [
    "dfKMeans['K-cluster'] = np.array(kmeans.labels_)"
   ]
  },
  {
   "cell_type": "code",
   "execution_count": 256,
   "metadata": {},
   "outputs": [
    {
     "data": {
      "text/html": [
       "<div>\n",
       "<style scoped>\n",
       "    .dataframe tbody tr th:only-of-type {\n",
       "        vertical-align: middle;\n",
       "    }\n",
       "\n",
       "    .dataframe tbody tr th {\n",
       "        vertical-align: top;\n",
       "    }\n",
       "\n",
       "    .dataframe thead th {\n",
       "        text-align: right;\n",
       "    }\n",
       "</style>\n",
       "<table border=\"1\" class=\"dataframe\">\n",
       "  <thead>\n",
       "    <tr style=\"text-align: right;\">\n",
       "      <th></th>\n",
       "      <th>SAMPLING EVENT IDENTIFIER</th>\n",
       "      <th>COMMON NAME</th>\n",
       "      <th>LOCALITY</th>\n",
       "      <th>TIME OBSERVATIONS STARTED</th>\n",
       "      <th>LATITUDE</th>\n",
       "      <th>LONGITUDE</th>\n",
       "      <th>OBSERVATION DATE</th>\n",
       "      <th>ALL SPECIES REPORTED</th>\n",
       "      <th>YEAR WEEK</th>\n",
       "      <th>YEAR DAY</th>\n",
       "      <th>4 letter code</th>\n",
       "      <th>ABA Rarity</th>\n",
       "      <th>ABA TF Rarity</th>\n",
       "      <th>POS OBS</th>\n",
       "      <th>PROVABILITY</th>\n",
       "      <th>Percentil TF Rarity</th>\n",
       "      <th>Go/Nogo</th>\n",
       "    </tr>\n",
       "  </thead>\n",
       "  <tbody>\n",
       "    <tr>\n",
       "      <td>0</td>\n",
       "      <td>S46454713</td>\n",
       "      <td>Mallard</td>\n",
       "      <td>Beck &amp; Alkali Lakes</td>\n",
       "      <td>15:26:00</td>\n",
       "      <td>44.509697</td>\n",
       "      <td>-109.037697</td>\n",
       "      <td>2018-06-10</td>\n",
       "      <td>1</td>\n",
       "      <td>23</td>\n",
       "      <td>161</td>\n",
       "      <td>MALL</td>\n",
       "      <td>1.0</td>\n",
       "      <td>0.0</td>\n",
       "      <td>7051</td>\n",
       "      <td>0.031933</td>\n",
       "      <td>1</td>\n",
       "      <td>1</td>\n",
       "    </tr>\n",
       "    <tr>\n",
       "      <td>1</td>\n",
       "      <td>S49646176</td>\n",
       "      <td>Northern Goshawk</td>\n",
       "      <td>Commissary Ridge HawkWatch</td>\n",
       "      <td>09:00:00</td>\n",
       "      <td>42.024710</td>\n",
       "      <td>-110.589578</td>\n",
       "      <td>2018-10-31</td>\n",
       "      <td>1</td>\n",
       "      <td>44</td>\n",
       "      <td>304</td>\n",
       "      <td>NOGO</td>\n",
       "      <td>1.0</td>\n",
       "      <td>0.0</td>\n",
       "      <td>77</td>\n",
       "      <td>0.000349</td>\n",
       "      <td>1</td>\n",
       "      <td>1</td>\n",
       "    </tr>\n",
       "    <tr>\n",
       "      <td>2</td>\n",
       "      <td>S45850159</td>\n",
       "      <td>Mallard</td>\n",
       "      <td>Sand Creek Rd--Laramie to Hutton Lake NWR</td>\n",
       "      <td>12:58:00</td>\n",
       "      <td>41.222826</td>\n",
       "      <td>-105.636141</td>\n",
       "      <td>2018-05-19</td>\n",
       "      <td>1</td>\n",
       "      <td>20</td>\n",
       "      <td>139</td>\n",
       "      <td>MALL</td>\n",
       "      <td>1.0</td>\n",
       "      <td>0.0</td>\n",
       "      <td>7051</td>\n",
       "      <td>0.031933</td>\n",
       "      <td>1</td>\n",
       "      <td>1</td>\n",
       "    </tr>\n",
       "    <tr>\n",
       "      <td>3</td>\n",
       "      <td>S43942518</td>\n",
       "      <td>Mallard</td>\n",
       "      <td>Laramie Plains Lakes--Blake's Pond</td>\n",
       "      <td>08:08:00</td>\n",
       "      <td>41.231888</td>\n",
       "      <td>-105.823067</td>\n",
       "      <td>2018-03-25</td>\n",
       "      <td>1</td>\n",
       "      <td>12</td>\n",
       "      <td>084</td>\n",
       "      <td>MALL</td>\n",
       "      <td>1.0</td>\n",
       "      <td>0.0</td>\n",
       "      <td>7051</td>\n",
       "      <td>0.031933</td>\n",
       "      <td>1</td>\n",
       "      <td>1</td>\n",
       "    </tr>\n",
       "    <tr>\n",
       "      <td>4</td>\n",
       "      <td>S50217902</td>\n",
       "      <td>Harris's Sparrow</td>\n",
       "      <td>Lake De Smet</td>\n",
       "      <td>11:27:00</td>\n",
       "      <td>44.475502</td>\n",
       "      <td>-106.748357</td>\n",
       "      <td>2018-10-14</td>\n",
       "      <td>1</td>\n",
       "      <td>41</td>\n",
       "      <td>287</td>\n",
       "      <td>HASP</td>\n",
       "      <td>1.0</td>\n",
       "      <td>0.0</td>\n",
       "      <td>19</td>\n",
       "      <td>0.000086</td>\n",
       "      <td>1</td>\n",
       "      <td>1</td>\n",
       "    </tr>\n",
       "  </tbody>\n",
       "</table>\n",
       "</div>"
      ],
      "text/plain": [
       "  SAMPLING EVENT IDENTIFIER       COMMON NAME  \\\n",
       "0                 S46454713           Mallard   \n",
       "1                 S49646176  Northern Goshawk   \n",
       "2                 S45850159           Mallard   \n",
       "3                 S43942518           Mallard   \n",
       "4                 S50217902  Harris's Sparrow   \n",
       "\n",
       "                                    LOCALITY TIME OBSERVATIONS STARTED  \\\n",
       "0                        Beck & Alkali Lakes                  15:26:00   \n",
       "1                 Commissary Ridge HawkWatch                  09:00:00   \n",
       "2  Sand Creek Rd--Laramie to Hutton Lake NWR                  12:58:00   \n",
       "3         Laramie Plains Lakes--Blake's Pond                  08:08:00   \n",
       "4                               Lake De Smet                  11:27:00   \n",
       "\n",
       "    LATITUDE   LONGITUDE OBSERVATION DATE  ALL SPECIES REPORTED YEAR WEEK  \\\n",
       "0  44.509697 -109.037697       2018-06-10                     1        23   \n",
       "1  42.024710 -110.589578       2018-10-31                     1        44   \n",
       "2  41.222826 -105.636141       2018-05-19                     1        20   \n",
       "3  41.231888 -105.823067       2018-03-25                     1        12   \n",
       "4  44.475502 -106.748357       2018-10-14                     1        41   \n",
       "\n",
       "  YEAR DAY 4 letter code  ABA Rarity  ABA TF Rarity  POS OBS  PROVABILITY  \\\n",
       "0      161          MALL         1.0            0.0     7051     0.031933   \n",
       "1      304          NOGO         1.0            0.0       77     0.000349   \n",
       "2      139          MALL         1.0            0.0     7051     0.031933   \n",
       "3      084          MALL         1.0            0.0     7051     0.031933   \n",
       "4      287          HASP         1.0            0.0       19     0.000086   \n",
       "\n",
       "   Percentil TF Rarity  Go/Nogo  \n",
       "0                    1        1  \n",
       "1                    1        1  \n",
       "2                    1        1  \n",
       "3                    1        1  \n",
       "4                    1        1  "
      ]
     },
     "execution_count": 256,
     "metadata": {},
     "output_type": "execute_result"
    }
   ],
   "source": [
    "dfReduce.head(5)"
   ]
  },
  {
   "cell_type": "code",
   "execution_count": 257,
   "metadata": {},
   "outputs": [
    {
     "data": {
      "text/html": [
       "<div>\n",
       "<style scoped>\n",
       "    .dataframe tbody tr th:only-of-type {\n",
       "        vertical-align: middle;\n",
       "    }\n",
       "\n",
       "    .dataframe tbody tr th {\n",
       "        vertical-align: top;\n",
       "    }\n",
       "\n",
       "    .dataframe thead th {\n",
       "        text-align: right;\n",
       "    }\n",
       "</style>\n",
       "<table border=\"1\" class=\"dataframe\">\n",
       "  <thead>\n",
       "    <tr style=\"text-align: right;\">\n",
       "      <th></th>\n",
       "      <th>LATITUDE</th>\n",
       "      <th>LONGITUDE</th>\n",
       "      <th>LOCALITY</th>\n",
       "      <th>K-cluster</th>\n",
       "    </tr>\n",
       "  </thead>\n",
       "  <tbody>\n",
       "    <tr>\n",
       "      <td>0</td>\n",
       "      <td>44.509697</td>\n",
       "      <td>-109.037697</td>\n",
       "      <td>Beck &amp; Alkali Lakes</td>\n",
       "      <td>8</td>\n",
       "    </tr>\n",
       "    <tr>\n",
       "      <td>1</td>\n",
       "      <td>42.024710</td>\n",
       "      <td>-110.589578</td>\n",
       "      <td>Commissary Ridge HawkWatch</td>\n",
       "      <td>5</td>\n",
       "    </tr>\n",
       "    <tr>\n",
       "      <td>2</td>\n",
       "      <td>41.222826</td>\n",
       "      <td>-105.636141</td>\n",
       "      <td>Sand Creek Rd--Laramie to Hutton Lake NWR</td>\n",
       "      <td>10</td>\n",
       "    </tr>\n",
       "    <tr>\n",
       "      <td>3</td>\n",
       "      <td>41.231888</td>\n",
       "      <td>-105.823067</td>\n",
       "      <td>Laramie Plains Lakes--Blake's Pond</td>\n",
       "      <td>10</td>\n",
       "    </tr>\n",
       "    <tr>\n",
       "      <td>4</td>\n",
       "      <td>44.475502</td>\n",
       "      <td>-106.748357</td>\n",
       "      <td>Lake De Smet</td>\n",
       "      <td>4</td>\n",
       "    </tr>\n",
       "  </tbody>\n",
       "</table>\n",
       "</div>"
      ],
      "text/plain": [
       "    LATITUDE   LONGITUDE                                   LOCALITY  K-cluster\n",
       "0  44.509697 -109.037697                        Beck & Alkali Lakes          8\n",
       "1  42.024710 -110.589578                 Commissary Ridge HawkWatch          5\n",
       "2  41.222826 -105.636141  Sand Creek Rd--Laramie to Hutton Lake NWR         10\n",
       "3  41.231888 -105.823067         Laramie Plains Lakes--Blake's Pond         10\n",
       "4  44.475502 -106.748357                               Lake De Smet          4"
      ]
     },
     "execution_count": 257,
     "metadata": {},
     "output_type": "execute_result"
    }
   ],
   "source": [
    "dfKMeans.head(5)"
   ]
  },
  {
   "cell_type": "code",
   "execution_count": 264,
   "metadata": {},
   "outputs": [],
   "source": [
    "dfKCluster = dfReduce.merge(dfKMeans.filter(['LOCALITY','K-cluster']),\n",
    "                            left_on='LOCALITY', right_on='LOCALITY', how = 'left').filter(['COMMON NAME','ALL SPECIES REPORTED','YEAR WEEK', 'K-cluster'])\n",
    "                                                                                          \n",
    "# dfReduce.drop(['Bird name'], axis=1, inplace=True)"
   ]
  },
  {
   "cell_type": "code",
   "execution_count": 265,
   "metadata": {},
   "outputs": [
    {
     "data": {
      "text/html": [
       "<div>\n",
       "<style scoped>\n",
       "    .dataframe tbody tr th:only-of-type {\n",
       "        vertical-align: middle;\n",
       "    }\n",
       "\n",
       "    .dataframe tbody tr th {\n",
       "        vertical-align: top;\n",
       "    }\n",
       "\n",
       "    .dataframe thead th {\n",
       "        text-align: right;\n",
       "    }\n",
       "</style>\n",
       "<table border=\"1\" class=\"dataframe\">\n",
       "  <thead>\n",
       "    <tr style=\"text-align: right;\">\n",
       "      <th></th>\n",
       "      <th>COMMON NAME</th>\n",
       "      <th>ALL SPECIES REPORTED</th>\n",
       "      <th>YEAR WEEK</th>\n",
       "      <th>K-cluster</th>\n",
       "    </tr>\n",
       "  </thead>\n",
       "  <tbody>\n",
       "    <tr>\n",
       "      <td>0</td>\n",
       "      <td>Mallard</td>\n",
       "      <td>1</td>\n",
       "      <td>23</td>\n",
       "      <td>8</td>\n",
       "    </tr>\n",
       "    <tr>\n",
       "      <td>1</td>\n",
       "      <td>Northern Goshawk</td>\n",
       "      <td>1</td>\n",
       "      <td>44</td>\n",
       "      <td>5</td>\n",
       "    </tr>\n",
       "    <tr>\n",
       "      <td>2</td>\n",
       "      <td>Mallard</td>\n",
       "      <td>1</td>\n",
       "      <td>20</td>\n",
       "      <td>10</td>\n",
       "    </tr>\n",
       "    <tr>\n",
       "      <td>3</td>\n",
       "      <td>Mallard</td>\n",
       "      <td>1</td>\n",
       "      <td>12</td>\n",
       "      <td>10</td>\n",
       "    </tr>\n",
       "    <tr>\n",
       "      <td>4</td>\n",
       "      <td>Harris's Sparrow</td>\n",
       "      <td>1</td>\n",
       "      <td>41</td>\n",
       "      <td>4</td>\n",
       "    </tr>\n",
       "  </tbody>\n",
       "</table>\n",
       "</div>"
      ],
      "text/plain": [
       "        COMMON NAME  ALL SPECIES REPORTED YEAR WEEK  K-cluster\n",
       "0           Mallard                     1        23          8\n",
       "1  Northern Goshawk                     1        44          5\n",
       "2           Mallard                     1        20         10\n",
       "3           Mallard                     1        12         10\n",
       "4  Harris's Sparrow                     1        41          4"
      ]
     },
     "execution_count": 265,
     "metadata": {},
     "output_type": "execute_result"
    }
   ],
   "source": [
    "dfKCluster.head(5)"
   ]
  },
  {
   "cell_type": "code",
   "execution_count": 271,
   "metadata": {},
   "outputs": [],
   "source": [
    "dfPercentilK1 = dfKCluster.groupby(['COMMON NAME','K-cluster']).sum().filter(['ALL SPECIES REPORTED']).reset_index()\n",
    "dfPercentilK1.rename(columns = {'ALL SPECIES REPORTED':'POS OBS'}, inplace=True)\n",
    "# dfPercentilK1['PROVABILITY'] = dfPercentilK1['POS OBS']/dfReduce.shape[0]"
   ]
  },
  {
   "cell_type": "code",
   "execution_count": 272,
   "metadata": {},
   "outputs": [
    {
     "data": {
      "text/html": [
       "<div>\n",
       "<style scoped>\n",
       "    .dataframe tbody tr th:only-of-type {\n",
       "        vertical-align: middle;\n",
       "    }\n",
       "\n",
       "    .dataframe tbody tr th {\n",
       "        vertical-align: top;\n",
       "    }\n",
       "\n",
       "    .dataframe thead th {\n",
       "        text-align: right;\n",
       "    }\n",
       "</style>\n",
       "<table border=\"1\" class=\"dataframe\">\n",
       "  <thead>\n",
       "    <tr style=\"text-align: right;\">\n",
       "      <th></th>\n",
       "      <th>COMMON NAME</th>\n",
       "      <th>K-cluster</th>\n",
       "      <th>POS OBS</th>\n",
       "    </tr>\n",
       "  </thead>\n",
       "  <tbody>\n",
       "    <tr>\n",
       "      <td>0</td>\n",
       "      <td>Alder Flycatcher</td>\n",
       "      <td>10</td>\n",
       "      <td>2</td>\n",
       "    </tr>\n",
       "    <tr>\n",
       "      <td>1</td>\n",
       "      <td>American Avocet</td>\n",
       "      <td>0</td>\n",
       "      <td>116</td>\n",
       "    </tr>\n",
       "    <tr>\n",
       "      <td>2</td>\n",
       "      <td>American Avocet</td>\n",
       "      <td>1</td>\n",
       "      <td>50</td>\n",
       "    </tr>\n",
       "    <tr>\n",
       "      <td>3</td>\n",
       "      <td>American Avocet</td>\n",
       "      <td>2</td>\n",
       "      <td>112</td>\n",
       "    </tr>\n",
       "    <tr>\n",
       "      <td>4</td>\n",
       "      <td>American Avocet</td>\n",
       "      <td>3</td>\n",
       "      <td>29</td>\n",
       "    </tr>\n",
       "  </tbody>\n",
       "</table>\n",
       "</div>"
      ],
      "text/plain": [
       "        COMMON NAME  K-cluster  POS OBS\n",
       "0  Alder Flycatcher         10        2\n",
       "1   American Avocet          0      116\n",
       "2   American Avocet          1       50\n",
       "3   American Avocet          2      112\n",
       "4   American Avocet          3       29"
      ]
     },
     "execution_count": 272,
     "metadata": {},
     "output_type": "execute_result"
    }
   ],
   "source": [
    "dfPercentilK1.head(5)"
   ]
  },
  {
   "cell_type": "code",
   "execution_count": 273,
   "metadata": {},
   "outputs": [
    {
     "data": {
      "text/html": [
       "<div>\n",
       "<style scoped>\n",
       "    .dataframe tbody tr th:only-of-type {\n",
       "        vertical-align: middle;\n",
       "    }\n",
       "\n",
       "    .dataframe tbody tr th {\n",
       "        vertical-align: top;\n",
       "    }\n",
       "\n",
       "    .dataframe thead th {\n",
       "        text-align: right;\n",
       "    }\n",
       "</style>\n",
       "<table border=\"1\" class=\"dataframe\">\n",
       "  <thead>\n",
       "    <tr style=\"text-align: right;\">\n",
       "      <th></th>\n",
       "      <th>K-cluster</th>\n",
       "      <th>TOT OBS</th>\n",
       "    </tr>\n",
       "  </thead>\n",
       "  <tbody>\n",
       "    <tr>\n",
       "      <td>0</td>\n",
       "      <td>0</td>\n",
       "      <td>10302</td>\n",
       "    </tr>\n",
       "    <tr>\n",
       "      <td>1</td>\n",
       "      <td>1</td>\n",
       "      <td>30797</td>\n",
       "    </tr>\n",
       "    <tr>\n",
       "      <td>2</td>\n",
       "      <td>2</td>\n",
       "      <td>21641</td>\n",
       "    </tr>\n",
       "    <tr>\n",
       "      <td>3</td>\n",
       "      <td>3</td>\n",
       "      <td>4560</td>\n",
       "    </tr>\n",
       "    <tr>\n",
       "      <td>4</td>\n",
       "      <td>4</td>\n",
       "      <td>18560</td>\n",
       "    </tr>\n",
       "  </tbody>\n",
       "</table>\n",
       "</div>"
      ],
      "text/plain": [
       "   K-cluster  TOT OBS\n",
       "0          0    10302\n",
       "1          1    30797\n",
       "2          2    21641\n",
       "3          3     4560\n",
       "4          4    18560"
      ]
     },
     "execution_count": 273,
     "metadata": {},
     "output_type": "execute_result"
    }
   ],
   "source": [
    "dfPercentilK1 = dfKCluster.groupby(['K-cluster']).sum().filter(['ALL SPECIES REPORTED']).reset_index()\n",
    "dfPercentilK2.rename(columns = {'ALL SPECIES REPORTED':'TOT OBS'}, inplace=True)\n",
    "dfPercentilK2.head(5)"
   ]
  },
  {
   "cell_type": "code",
   "execution_count": 284,
   "metadata": {},
   "outputs": [
    {
     "data": {
      "text/html": [
       "<div>\n",
       "<style scoped>\n",
       "    .dataframe tbody tr th:only-of-type {\n",
       "        vertical-align: middle;\n",
       "    }\n",
       "\n",
       "    .dataframe tbody tr th {\n",
       "        vertical-align: top;\n",
       "    }\n",
       "\n",
       "    .dataframe thead th {\n",
       "        text-align: right;\n",
       "    }\n",
       "</style>\n",
       "<table border=\"1\" class=\"dataframe\">\n",
       "  <thead>\n",
       "    <tr style=\"text-align: right;\">\n",
       "      <th></th>\n",
       "      <th>COMMON NAME</th>\n",
       "      <th>K-cluster</th>\n",
       "      <th>POS OBS</th>\n",
       "      <th>TOT OBS</th>\n",
       "      <th>POS PROB</th>\n",
       "    </tr>\n",
       "  </thead>\n",
       "  <tbody>\n",
       "    <tr>\n",
       "      <td>0</td>\n",
       "      <td>Alder Flycatcher</td>\n",
       "      <td>10</td>\n",
       "      <td>2</td>\n",
       "      <td>57431</td>\n",
       "      <td>0.000035</td>\n",
       "    </tr>\n",
       "    <tr>\n",
       "      <td>1</td>\n",
       "      <td>American Avocet</td>\n",
       "      <td>0</td>\n",
       "      <td>116</td>\n",
       "      <td>10302</td>\n",
       "      <td>0.011260</td>\n",
       "    </tr>\n",
       "    <tr>\n",
       "      <td>2</td>\n",
       "      <td>American Avocet</td>\n",
       "      <td>1</td>\n",
       "      <td>50</td>\n",
       "      <td>30797</td>\n",
       "      <td>0.001624</td>\n",
       "    </tr>\n",
       "    <tr>\n",
       "      <td>3</td>\n",
       "      <td>American Avocet</td>\n",
       "      <td>2</td>\n",
       "      <td>112</td>\n",
       "      <td>21641</td>\n",
       "      <td>0.005175</td>\n",
       "    </tr>\n",
       "    <tr>\n",
       "      <td>4</td>\n",
       "      <td>American Avocet</td>\n",
       "      <td>3</td>\n",
       "      <td>29</td>\n",
       "      <td>4560</td>\n",
       "      <td>0.006360</td>\n",
       "    </tr>\n",
       "  </tbody>\n",
       "</table>\n",
       "</div>"
      ],
      "text/plain": [
       "        COMMON NAME  K-cluster  POS OBS  TOT OBS  POS PROB\n",
       "0  Alder Flycatcher         10        2    57431  0.000035\n",
       "1   American Avocet          0      116    10302  0.011260\n",
       "2   American Avocet          1       50    30797  0.001624\n",
       "3   American Avocet          2      112    21641  0.005175\n",
       "4   American Avocet          3       29     4560  0.006360"
      ]
     },
     "execution_count": 284,
     "metadata": {},
     "output_type": "execute_result"
    }
   ],
   "source": [
    "df = dfPercentilK1.merge(dfPercentilK2, left_on='K-cluster', right_on='K-cluster', how = 'left')\n",
    "df['POS PROB'] = df['POS OBS']/df['TOT OBS']\n",
    "# df.set_index('COMMON NAME', inplace=True)\n",
    "df.head(5)"
   ]
  },
  {
   "cell_type": "code",
   "execution_count": 294,
   "metadata": {},
   "outputs": [
    {
     "data": {
      "text/plain": [
       "0.005175361582181969"
      ]
     },
     "execution_count": 294,
     "metadata": {},
     "output_type": "execute_result"
    }
   ],
   "source": [
    "df[df['COMMON NAME']=='American Avocet']['POS PROB'].quantile(.5)"
   ]
  },
  {
   "cell_type": "code",
   "execution_count": null,
   "metadata": {},
   "outputs": [],
   "source": [
    "df['PROB TF'] = list(map(lambda x: 0 if x > dfPercentil.quantile(.1)[0] else 1, \n",
    "                                        dfPercentil['PROVABILITY']))"
   ]
  },
  {
   "cell_type": "code",
   "execution_count": 299,
   "metadata": {
    "collapsed": true
   },
   "outputs": [
    {
     "data": {
      "text/plain": [
       "array(['Alder Flycatcher', 'American Avocet', 'American Bittern',\n",
       "       'American Coot', 'American Crow', 'American Dipper',\n",
       "       'American Golden-Plover', 'American Goldfinch', 'American Kestrel',\n",
       "       'American Pipit', 'American Redstart', 'American Robin',\n",
       "       'American Three-toed Woodpecker', 'American Tree Sparrow',\n",
       "       'American White Pelican', 'American Wigeon', 'Arctic Tern',\n",
       "       'Ash-throated Flycatcher', \"Baird's Sandpiper\", \"Baird's Sparrow\",\n",
       "       'Bald Eagle', 'Baltimore Oriole', 'Bank Swallow', 'Barn Swallow',\n",
       "       \"Barrow's Goldeneye\", 'Belted Kingfisher', \"Bewick's Wren\",\n",
       "       'Black Phoebe', 'Black Rosy-Finch', 'Black Scoter', 'Black Tern',\n",
       "       'Black-and-white Warbler', 'Black-backed Woodpecker',\n",
       "       'Black-bellied Plover', 'Black-billed Magpie',\n",
       "       'Black-capped Chickadee', 'Black-chinned Hummingbird',\n",
       "       'Black-crowned Night-Heron', 'Black-headed Grosbeak',\n",
       "       'Black-necked Stilt', 'Black-throated Blue Warbler',\n",
       "       'Black-throated Gray Warbler', 'Blackburnian Warbler',\n",
       "       'Blackpoll Warbler', 'Blue Grosbeak', 'Blue Jay',\n",
       "       'Blue-gray Gnatcatcher', 'Blue-headed Vireo', 'Blue-winged Teal',\n",
       "       'Bobolink', 'Bohemian Waxwing', \"Bonaparte's Gull\", 'Boreal Owl',\n",
       "       \"Brewer's Blackbird\", \"Brewer's Sparrow\",\n",
       "       'Broad-tailed Hummingbird', 'Broad-winged Hawk', 'Brown Creeper',\n",
       "       'Brown Thrasher', 'Brown-capped Rosy-Finch',\n",
       "       'Brown-headed Cowbird', 'Buff-breasted Sandpiper', 'Bufflehead',\n",
       "       \"Bullock's Oriole\", 'Burrowing Owl', 'Bushtit', 'Cackling Goose',\n",
       "       'California Condor', 'California Gull', 'Calliope Hummingbird',\n",
       "       'Canada Goose', 'Canada Jay', 'Canvasback', 'Canyon Wren',\n",
       "       'Caspian Tern', \"Cassin's Finch\", \"Cassin's Kingbird\",\n",
       "       \"Cassin's Sparrow\", \"Cassin's Vireo\", 'Cattle Egret',\n",
       "       'Cedar Waxwing', 'Chestnut-collared Longspur',\n",
       "       'Chestnut-sided Warbler', 'Chimney Swift', 'Chipping Sparrow',\n",
       "       'Chukar', 'Cinnamon Teal', \"Clark's Grebe\", \"Clark's Nutcracker\",\n",
       "       'Clay-colored Sparrow', 'Cliff Swallow', 'Common Goldeneye',\n",
       "       'Common Grackle', 'Common Loon', 'Common Merganser',\n",
       "       'Common Nighthawk', 'Common Poorwill', 'Common Raven',\n",
       "       'Common Redpoll', 'Common Tern', 'Common Yellowthroat',\n",
       "       \"Cooper's Hawk\", 'Cordilleran Flycatcher', 'Dark-eyed Junco',\n",
       "       'Dickcissel', 'Double-crested Cormorant', 'Downy Woodpecker',\n",
       "       'Dunlin', 'Dusky Flycatcher', 'Dusky Grouse', 'Eared Grebe',\n",
       "       'Eastern Bluebird', 'Eastern Kingbird', 'Eastern Phoebe',\n",
       "       'Eastern Screech-Owl', 'Eastern Towhee', 'Eurasian Collared-Dove',\n",
       "       'European Starling', 'Evening Grosbeak', 'Ferruginous Hawk',\n",
       "       'Field Sparrow', 'Flammulated Owl', \"Forster's Tern\",\n",
       "       'Fox Sparrow', \"Franklin's Gull\", 'Gadwall', 'Glaucous Gull',\n",
       "       'Glossy Ibis', 'Golden Eagle', 'Golden-crowned Kinglet',\n",
       "       'Golden-winged Warbler', 'Grasshopper Sparrow', 'Gray Catbird',\n",
       "       'Gray Flycatcher', 'Gray Partridge', 'Gray-crowned Rosy-Finch',\n",
       "       'Great Black-backed Gull', 'Great Blue Heron',\n",
       "       'Great Crested Flycatcher', 'Great Egret', 'Great Horned Owl',\n",
       "       'Great-tailed Grackle', 'Greater Sage-Grouse', 'Greater Scaup',\n",
       "       'Greater White-fronted Goose', 'Greater Yellowlegs', 'Green Heron',\n",
       "       'Green-tailed Towhee', 'Green-winged Teal', 'Hairy Woodpecker',\n",
       "       \"Hammond's Flycatcher\", 'Harlequin Duck', \"Harris's Sparrow\",\n",
       "       'Hermit Thrush', 'Herring Gull', 'Hooded Merganser',\n",
       "       'Hooded Warbler', 'Horned Grebe', 'Horned Lark', 'House Finch',\n",
       "       'House Sparrow', 'House Wren', 'Iceland Gull', 'Indigo Bunting',\n",
       "       'Juniper Titmouse', 'Killdeer', 'Lapland Longspur', 'Lark Bunting',\n",
       "       'Lark Sparrow', 'Lazuli Bunting', \"LeConte's Sparrow\",\n",
       "       'Least Flycatcher', 'Least Sandpiper', 'Lesser Black-backed Gull',\n",
       "       'Lesser Goldfinch', 'Lesser Scaup', 'Lesser Yellowlegs',\n",
       "       \"Lewis's Woodpecker\", \"Lincoln's Sparrow\", 'Loggerhead Shrike',\n",
       "       'Long-billed Curlew', 'Long-billed Dowitcher', 'Long-eared Owl',\n",
       "       'Long-tailed Duck', \"MacGillivray's Warbler\", 'Magnolia Warbler',\n",
       "       'Mallard', 'Marbled Godwit', 'Marsh Wren', \"McCown's Longspur\",\n",
       "       'Merlin', 'Mew Gull', 'Mountain Bluebird', 'Mountain Chickadee',\n",
       "       'Mountain Plover', 'Mourning Dove', 'Nashville Warbler',\n",
       "       'Northern Cardinal', 'Northern Flicker', 'Northern Goshawk',\n",
       "       'Northern Harrier', 'Northern Mockingbird', 'Northern Parula',\n",
       "       'Northern Pintail', 'Northern Pygmy-Owl',\n",
       "       'Northern Rough-winged Swallow', 'Northern Saw-whet Owl',\n",
       "       'Northern Shoveler', 'Northern Shrike', 'Northern Waterthrush',\n",
       "       'Olive-sided Flycatcher', 'Orange-crowned Warbler',\n",
       "       'Orchard Oriole', 'Osprey', 'Ovenbird', 'Pacific Loon',\n",
       "       'Pacific Wren', 'Palm Warbler', 'Pectoral Sandpiper',\n",
       "       'Peregrine Falcon', 'Pied-billed Grebe', 'Pine Grosbeak',\n",
       "       'Pine Siskin', 'Pinyon Jay', 'Plumbeous Vireo', 'Pomarine Jaeger',\n",
       "       'Prairie Falcon', 'Prairie Warbler', 'Purple Martin',\n",
       "       'Pygmy Nuthatch', 'Red Crossbill', 'Red Phalarope',\n",
       "       'Red-breasted Merganser', 'Red-breasted Nuthatch',\n",
       "       'Red-eyed Vireo', 'Red-flanked Bluetail', 'Red-headed Woodpecker',\n",
       "       'Red-naped Sapsucker', 'Red-necked Grebe', 'Red-necked Phalarope',\n",
       "       'Red-tailed Hawk', 'Red-winged Blackbird', 'Redhead',\n",
       "       'Ring-billed Gull', 'Ring-necked Duck', 'Ring-necked Pheasant',\n",
       "       'Rock Wren', 'Rose-breasted Grosbeak', \"Ross's Goose\",\n",
       "       'Rough-legged Hawk', 'Ruby-crowned Kinglet', 'Ruddy Duck',\n",
       "       'Ruffed Grouse', 'Rufous Hummingbird', 'Rusty Blackbird',\n",
       "       \"Sabine's Gull\", 'Sage Thrasher', 'Sagebrush Sparrow',\n",
       "       'Sanderling', 'Sandhill Crane', 'Savannah Sparrow', \"Say's Phoebe\",\n",
       "       'Scissor-tailed Flycatcher', \"Scott's Oriole\",\n",
       "       'Semipalmated Plover', 'Semipalmated Sandpiper',\n",
       "       'Sharp-shinned Hawk', 'Sharp-tailed Grouse', 'Short-eared Owl',\n",
       "       'Snow Bunting', 'Snow Goose', 'Snowy Egret', 'Solitary Sandpiper',\n",
       "       'Song Sparrow', 'Sora', 'Spotted Sandpiper', 'Spotted Towhee',\n",
       "       \"Steller's Jay\", 'Stilt Sandpiper', 'Summer Tanager',\n",
       "       'Surf Scoter', \"Swainson's Hawk\", \"Swainson's Thrush\",\n",
       "       'Swamp Sparrow', 'Tennessee Warbler', \"Townsend's Solitaire\",\n",
       "       \"Townsend's Warbler\", 'Tree Swallow', 'Tricolored Heron',\n",
       "       'Trumpeter Swan', 'Tundra Swan', 'Turkey Vulture',\n",
       "       'Upland Sandpiper', 'Varied Thrush', 'Veery', 'Vesper Sparrow',\n",
       "       'Violet-green Swallow', 'Virginia Rail', \"Virginia's Warbler\",\n",
       "       'Warbling Vireo', 'Western Grebe', 'Western Kingbird',\n",
       "       'Western Meadowlark', 'Western Sandpiper', 'Western Tanager',\n",
       "       'Western Wood-Pewee', 'Whimbrel', 'White-breasted Nuthatch',\n",
       "       'White-crowned Sparrow', 'White-faced Ibis',\n",
       "       'White-rumped Sandpiper', 'White-throated Sparrow',\n",
       "       'White-throated Swift', 'White-winged Crossbill',\n",
       "       'White-winged Dove', 'White-winged Scoter', 'Wild Turkey',\n",
       "       'Willet', \"Williamson's Sapsucker\", 'Willow Flycatcher',\n",
       "       \"Wilson's Phalarope\", \"Wilson's Snipe\", \"Wilson's Warbler\",\n",
       "       'Winter Wren', 'Wood Duck', \"Woodhouse's Scrub-Jay\",\n",
       "       'Yellow Warbler', 'Yellow-bellied Sapsucker',\n",
       "       'Yellow-billed Cuckoo', 'Yellow-breasted Chat',\n",
       "       'Yellow-headed Blackbird', 'Yellow-rumped Warbler'], dtype=object)"
      ]
     },
     "execution_count": 299,
     "metadata": {},
     "output_type": "execute_result"
    }
   ],
   "source": [
    "np.unique(df['COMMON NAME'].values)"
   ]
  },
  {
   "cell_type": "code",
   "execution_count": 301,
   "metadata": {},
   "outputs": [
    {
     "data": {
      "text/plain": [
       "2463"
      ]
     },
     "execution_count": 301,
     "metadata": {},
     "output_type": "execute_result"
    }
   ],
   "source": [
    "df.shape[0]"
   ]
  },
  {
   "cell_type": "code",
   "execution_count": 302,
   "metadata": {},
   "outputs": [
    {
     "data": {
      "text/plain": [
       "COMMON NAME    Alder Flycatcher\n",
       "K-cluster                    10\n",
       "POS OBS                       2\n",
       "TOT OBS                   57431\n",
       "POS PROB            3.48244e-05\n",
       "Name: 0, dtype: object"
      ]
     },
     "execution_count": 302,
     "metadata": {},
     "output_type": "execute_result"
    }
   ],
   "source": [
    "df.loc[0]"
   ]
  },
  {
   "cell_type": "code",
   "execution_count": null,
   "metadata": {},
   "outputs": [],
   "source": [
    "for i in range(0,df.shape[0]):\n",
    "    "
   ]
  }
 ],
 "metadata": {
  "kernelspec": {
   "display_name": "Python 3",
   "language": "python",
   "name": "python3"
  },
  "language_info": {
   "codemirror_mode": {
    "name": "ipython",
    "version": 3
   },
   "file_extension": ".py",
   "mimetype": "text/x-python",
   "name": "python",
   "nbconvert_exporter": "python",
   "pygments_lexer": "ipython3",
   "version": "3.7.4"
  }
 },
 "nbformat": 4,
 "nbformat_minor": 2
}
