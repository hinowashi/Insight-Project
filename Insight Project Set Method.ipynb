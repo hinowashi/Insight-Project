{
 "cells": [
  {
   "cell_type": "markdown",
   "metadata": {},
   "source": [
    "# Insight Project --Birding Big Year--\n",
    "\n",
    "In this project I intend to determine a way to see all the birds one can see on a single state, for a given time window.  For all those birdirers that want to get to the top 100 of their state on ebrid, this will be the perfect tool. The user will input the state, home address (or lat,lon), time window and birds that already have been seen*. This last one (*) is an optional thing."
   ]
  },
  {
   "cell_type": "code",
   "execution_count": null,
   "metadata": {},
   "outputs": [],
   "source": [
    "import numpy as np\n",
    "from datetime import datetime\n",
    "import geopandas as gpd\n",
    "import os\n",
    "import struct\n",
    "import pickle\n",
    "import googlemaps\n",
    "import pandas as pd\n",
    "\n",
    "import matplotlib.pyplot as plt\n",
    "import matplotlib.patches as mpatches\n",
    "import matplotlib\n",
    "from mpl_toolkits.axes_grid1 import make_axes_locatable\n",
    "\n",
    "from sklearn.cluster import DBSCAN\n",
    "\n",
    "import SetCover\n",
    "\n",
    "def save_fig(name):\n",
    "    fig.savefig(name,dpi=80,bbox_inches='tight', pad_inches=0.02, format = 'png')\n",
    "\n",
    "%matplotlib inline"
   ]
  },
  {
   "cell_type": "markdown",
   "metadata": {},
   "source": [
    "# The ebird Data\n",
    "\n",
    "I will start with a singe state. Since the ebird API limits the type of request I can make, I have a downloaded the cvs file.  I'm using the last two full years of data but in reality the alorithm should be train with more data and just tested on the last year."
   ]
  },
  {
   "cell_type": "code",
   "execution_count": null,
   "metadata": {},
   "outputs": [],
   "source": [
    "# dfAll = pd.read_csv('./ebd_US-WY_201801_201912_relApr-2020/ebd_US-WY_201801_201912_relApr-2020.txt'\n",
    "#                 ,delimiter=\"\\t\")\n",
    "\n",
    "dfAll = pd.read_csv('./ebd_US-WI_201801_201912_relApr-2020/ebd_US-WI_201801_201912_relApr-2020.txt'\n",
    "                ,delimiter=\"\\t\", usecols=['CATEGORY', 'LOCALITY TYPE', 'ALL SPECIES REPORTED', 'APPROVED',\n",
    "                                         'SAMPLING EVENT IDENTIFIER', 'COMMON NAME', 'LOCALITY', \n",
    "                                          'LATITUDE', 'LONGITUDE',\n",
    "                                          'OBSERVATION DATE', 'ALL SPECIES REPORTED'])\n",
    "\n",
    "# dfAll = pd.read_csv('./ebd_US-WI_201001_201812_relApr-2020/ebd_US-WI_201001_201812_relApr-2020.txt'\n",
    "#                 ,delimiter=\"\\t\")"
   ]
  },
  {
   "cell_type": "markdown",
   "metadata": {},
   "source": [
    "I add sertain condition to satify completnes fo the data, public locations and only bird species (i.e. no hybirds). `dfReduce` will contian all the information I will be using."
   ]
  },
  {
   "cell_type": "code",
   "execution_count": null,
   "metadata": {},
   "outputs": [],
   "source": [
    "dfAll = dfAll[(dfAll['CATEGORY'] == 'species') & (dfAll['LOCALITY TYPE'] == 'H')\n",
    "              & (dfAll['ALL SPECIES REPORTED'] == 1)  & (dfAll['APPROVED'] == 1)]"
   ]
  },
  {
   "cell_type": "code",
   "execution_count": null,
   "metadata": {},
   "outputs": [],
   "source": [
    "dfReduce = dfAll.filter(['SAMPLING EVENT IDENTIFIER', 'COMMON NAME', 'LOCALITY',\n",
    "              'LATITUDE', 'LONGITUDE', 'OBSERVATION DATE', 'ALL SPECIES REPORTED']) \n",
    "dfReduce['OBSERVATION DATE'] = pd.to_datetime(dfReduce['OBSERVATION DATE'])\n",
    "dfReduce['YEAR WEEK'] = dfReduce['OBSERVATION DATE'].dt.strftime('%W')\n",
    "dfReduce['YEAR DAY'] = dfReduce['OBSERVATION DATE'].dt.strftime('%j')\n",
    "dfReduce['YEAR'] = dfReduce['OBSERVATION DATE'].dt.strftime('%Y')\n",
    "dfReduce['YEAR WEEK'] = pd.to_numeric(dfReduce['YEAR WEEK'])"
   ]
  },
  {
   "cell_type": "code",
   "execution_count": null,
   "metadata": {},
   "outputs": [],
   "source": [
    "dfReduce.head(5)"
   ]
  },
  {
   "cell_type": "markdown",
   "metadata": {},
   "source": [
    "dfReduce contains both my train set and my validation set.  In this case I will use the last year as my validation set (2019) and all the previous information as my train set."
   ]
  },
  {
   "cell_type": "code",
   "execution_count": 6,
   "metadata": {},
   "outputs": [],
   "source": [
    "dfValidation = dfReduce[dfReduce['YEAR']==2019]"
   ]
  },
  {
   "cell_type": "code",
   "execution_count": 7,
   "metadata": {},
   "outputs": [],
   "source": [
    "dfTrain = dfReduce[dfReduce['YEAR']!=2019]"
   ]
  },
  {
   "cell_type": "code",
   "execution_count": 8,
   "metadata": {},
   "outputs": [],
   "source": [
    "del dfReduce\n",
    "del dfAll"
   ]
  },
  {
   "cell_type": "code",
   "execution_count": 9,
   "metadata": {},
   "outputs": [
    {
     "data": {
      "text/plain": [
       "2333"
      ]
     },
     "execution_count": 9,
     "metadata": {},
     "output_type": "execute_result"
    }
   ],
   "source": [
    "len(np.unique(dfTrain['LOCALITY'].values))"
   ]
  },
  {
   "cell_type": "markdown",
   "metadata": {},
   "source": [
    "# Clustering using BDSCAN\n",
    "\n",
    "BDSCAN is a density clustering that will tell where is popular for people to go birding (based on the desnity of hotsopts).  I will define a cluster as having atleast 3 point and with a maximum distance of 0.05degrees or about 5km.  With that I will optain where does each hotspot ('LOCALITY') belongs to. If '-1' they are not part of any cluster."
   ]
  },
  {
   "cell_type": "code",
   "execution_count": 10,
   "metadata": {},
   "outputs": [],
   "source": [
    "def cluster_selection(df, eps=0.05, min_samples=3):\n",
    "    '''\n",
    "    Calculates for a given geographical region identify in the dataframe, the location of where bird watchers tend to go more often. This does not qualifies the goodness of the locations just that are locations used by birders. A bird watching cluster is defined by having at least 3 birding locations all up to 5km apart (eps =0.05) \n",
    "    \n",
    "    Arg:\n",
    "        df: The data frame of the geographical region, from it both latitude and longitude will be use to determine the clusters\n",
    "        eps: Max separation between points in the BDSCAN clustering algorithm. eps = 0.01~1km\n",
    "        min_sample: A cluster need to have atleast 3 birding spots.  \n",
    "        \n",
    "    Out:\n",
    "        dfcluster = Data frame with the latitude,logitude, location name and cluster ID for all the points in the region.\n",
    "    \n",
    "    \n",
    "    '''\n",
    "    dfcluster = df.filter(['LOCALITY','LATITUDE', 'LONGITUDE'])\n",
    "    dfcluster.drop_duplicates(subset='LATITUDE', keep = 'first', inplace = True)\n",
    "    locationList = np.array((dfcluster['LATITUDE'],dfcluster['LONGITUDE'])).T\n",
    "    \n",
    "    dbmod = DBSCAN(eps=eps, min_samples=min_samples, metric='euclidean').fit(locationList)\n",
    "    \n",
    "    labels = dbmod.labels_\n",
    "    n_clusters_ = len(set(labels)) - (1 if -1 in labels else 0)\n",
    "    \n",
    "    dfcluster['BD CLUSTER'] = labels"
   ]
  },
  {
   "cell_type": "code",
   "execution_count": 11,
   "metadata": {},
   "outputs": [],
   "source": [
    "dfbdscan = dfTrain.filter(['LOCALITY','LATITUDE', 'LONGITUDE'])"
   ]
  },
  {
   "cell_type": "code",
   "execution_count": 12,
   "metadata": {},
   "outputs": [],
   "source": [
    "dfbdscan.drop_duplicates(subset='LATITUDE', keep = 'first', inplace = True)"
   ]
  },
  {
   "cell_type": "code",
   "execution_count": 13,
   "metadata": {},
   "outputs": [
    {
     "data": {
      "text/html": [
       "<div>\n",
       "<style scoped>\n",
       "    .dataframe tbody tr th:only-of-type {\n",
       "        vertical-align: middle;\n",
       "    }\n",
       "\n",
       "    .dataframe tbody tr th {\n",
       "        vertical-align: top;\n",
       "    }\n",
       "\n",
       "    .dataframe thead th {\n",
       "        text-align: right;\n",
       "    }\n",
       "</style>\n",
       "<table border=\"1\" class=\"dataframe\">\n",
       "  <thead>\n",
       "    <tr style=\"text-align: right;\">\n",
       "      <th></th>\n",
       "      <th>LOCALITY</th>\n",
       "      <th>LATITUDE</th>\n",
       "      <th>LONGITUDE</th>\n",
       "    </tr>\n",
       "  </thead>\n",
       "  <tbody>\n",
       "    <tr>\n",
       "      <th>3</th>\n",
       "      <td>Riverside Park (Urban Ecology Center)</td>\n",
       "      <td>43.067967</td>\n",
       "      <td>-87.892686</td>\n",
       "    </tr>\n",
       "    <tr>\n",
       "      <th>4</th>\n",
       "      <td>Schlitz Audubon Nature Center</td>\n",
       "      <td>43.175688</td>\n",
       "      <td>-87.890421</td>\n",
       "    </tr>\n",
       "    <tr>\n",
       "      <th>5</th>\n",
       "      <td>Manitowoc Lakefront</td>\n",
       "      <td>44.092794</td>\n",
       "      <td>-87.650170</td>\n",
       "    </tr>\n",
       "    <tr>\n",
       "      <th>15</th>\n",
       "      <td>UW Lakeshore Nature Preserve--Willow Creek Woo...</td>\n",
       "      <td>43.077869</td>\n",
       "      <td>-89.421544</td>\n",
       "    </tr>\n",
       "    <tr>\n",
       "      <th>16</th>\n",
       "      <td>County V Ponds (Dane Co.)</td>\n",
       "      <td>43.247843</td>\n",
       "      <td>-89.429111</td>\n",
       "    </tr>\n",
       "  </tbody>\n",
       "</table>\n",
       "</div>"
      ],
      "text/plain": [
       "                                             LOCALITY   LATITUDE  LONGITUDE\n",
       "3               Riverside Park (Urban Ecology Center)  43.067967 -87.892686\n",
       "4                       Schlitz Audubon Nature Center  43.175688 -87.890421\n",
       "5                                 Manitowoc Lakefront  44.092794 -87.650170\n",
       "15  UW Lakeshore Nature Preserve--Willow Creek Woo...  43.077869 -89.421544\n",
       "16                          County V Ponds (Dane Co.)  43.247843 -89.429111"
      ]
     },
     "execution_count": 13,
     "metadata": {},
     "output_type": "execute_result"
    }
   ],
   "source": [
    "dfbdscan.head(5)"
   ]
  },
  {
   "cell_type": "code",
   "execution_count": 34,
   "metadata": {},
   "outputs": [],
   "source": [
    "locationList = np.array((dfbdscan['LATITUDE'],dfbdscan['LONGITUDE'])).T"
   ]
  },
  {
   "cell_type": "code",
   "execution_count": 15,
   "metadata": {},
   "outputs": [],
   "source": [
    "eps = .05\n",
    "dbmod = DBSCAN(eps=eps, min_samples=3, metric='euclidean').fit(locationList)"
   ]
  },
  {
   "cell_type": "code",
   "execution_count": 38,
   "metadata": {},
   "outputs": [
    {
     "data": {
      "text/plain": [
       "array([[ 43.0679668, -87.8926859],\n",
       "       [ 43.1756879, -87.8904211],\n",
       "       [ 44.0927942, -87.6501703],\n",
       "       ...,\n",
       "       [ 42.8602058, -87.9141319],\n",
       "       [ 42.758241 , -88.707341 ],\n",
       "       [ 44.8325   , -87.3433256]])"
      ]
     },
     "execution_count": 38,
     "metadata": {},
     "output_type": "execute_result"
    }
   ],
   "source": [
    "dbmod.components_"
   ]
  },
  {
   "cell_type": "code",
   "execution_count": 17,
   "metadata": {},
   "outputs": [
    {
     "name": "stdout",
     "output_type": "stream",
     "text": [
      "Estimated number of clusters: 137\n",
      "Estimated number of noise points: 567\n"
     ]
    }
   ],
   "source": [
    "labels = dbmod.labels_\n",
    "n_clusters_ = len(set(labels)) - (1 if -1 in labels else 0)\n",
    "n_noise_ = list(labels).count(-1)\n",
    "core_samples_mask = np.zeros_like(dbmod.labels_, dtype=bool)\n",
    "core_samples_mask[dbmod.core_sample_indices_] = True\n",
    "\n",
    "print('Estimated number of clusters: %d' % n_clusters_)\n",
    "print('Estimated number of noise points: %d' % n_noise_)\n"
   ]
  },
  {
   "cell_type": "code",
   "execution_count": 18,
   "metadata": {},
   "outputs": [],
   "source": [
    "unique_labels = set(labels)\n",
    "colors = [plt.cm.viridis_r(each)\n",
    "          for each in np.linspace(0, 1, len(unique_labels))]\n"
   ]
  },
  {
   "cell_type": "code",
   "execution_count": 19,
   "metadata": {},
   "outputs": [
    {
     "data": {
      "image/png": "[encoded data removed]",
      "text/plain": [
       "<Figure size 432x288 with 1 Axes>"
      ]
     },
     "metadata": {
      "needs_background": "light"
     },
     "output_type": "display_data"
    }
   ],
   "source": [
    "for i, clust in enumerate(labels):\n",
    "    plt.scatter(locationList[i][1],locationList[i][0], color = colors[clust])\n",
    "plt.show()"
   ]
  },
  {
   "cell_type": "code",
   "execution_count": 20,
   "metadata": {},
   "outputs": [],
   "source": [
    "dfbdscan['BD CLUSTER'] = dbmod.labels_"
   ]
  },
  {
   "cell_type": "code",
   "execution_count": 21,
   "metadata": {},
   "outputs": [
    {
     "data": {
      "text/html": [
       "<div>\n",
       "<style scoped>\n",
       "    .dataframe tbody tr th:only-of-type {\n",
       "        vertical-align: middle;\n",
       "    }\n",
       "\n",
       "    .dataframe tbody tr th {\n",
       "        vertical-align: top;\n",
       "    }\n",
       "\n",
       "    .dataframe thead th {\n",
       "        text-align: right;\n",
       "    }\n",
       "</style>\n",
       "<table border=\"1\" class=\"dataframe\">\n",
       "  <thead>\n",
       "    <tr style=\"text-align: right;\">\n",
       "      <th></th>\n",
       "      <th>LOCALITY</th>\n",
       "      <th>LATITUDE</th>\n",
       "      <th>LONGITUDE</th>\n",
       "      <th>BD CLUSTER</th>\n",
       "    </tr>\n",
       "  </thead>\n",
       "  <tbody>\n",
       "    <tr>\n",
       "      <th>3</th>\n",
       "      <td>Riverside Park (Urban Ecology Center)</td>\n",
       "      <td>43.067967</td>\n",
       "      <td>-87.892686</td>\n",
       "      <td>0</td>\n",
       "    </tr>\n",
       "    <tr>\n",
       "      <th>4</th>\n",
       "      <td>Schlitz Audubon Nature Center</td>\n",
       "      <td>43.175688</td>\n",
       "      <td>-87.890421</td>\n",
       "      <td>0</td>\n",
       "    </tr>\n",
       "    <tr>\n",
       "      <th>5</th>\n",
       "      <td>Manitowoc Lakefront</td>\n",
       "      <td>44.092794</td>\n",
       "      <td>-87.650170</td>\n",
       "      <td>1</td>\n",
       "    </tr>\n",
       "    <tr>\n",
       "      <th>15</th>\n",
       "      <td>UW Lakeshore Nature Preserve--Willow Creek Woo...</td>\n",
       "      <td>43.077869</td>\n",
       "      <td>-89.421544</td>\n",
       "      <td>2</td>\n",
       "    </tr>\n",
       "    <tr>\n",
       "      <th>16</th>\n",
       "      <td>County V Ponds (Dane Co.)</td>\n",
       "      <td>43.247843</td>\n",
       "      <td>-89.429111</td>\n",
       "      <td>2</td>\n",
       "    </tr>\n",
       "  </tbody>\n",
       "</table>\n",
       "</div>"
      ],
      "text/plain": [
       "                                             LOCALITY   LATITUDE  LONGITUDE  \\\n",
       "3               Riverside Park (Urban Ecology Center)  43.067967 -87.892686   \n",
       "4                       Schlitz Audubon Nature Center  43.175688 -87.890421   \n",
       "5                                 Manitowoc Lakefront  44.092794 -87.650170   \n",
       "15  UW Lakeshore Nature Preserve--Willow Creek Woo...  43.077869 -89.421544   \n",
       "16                          County V Ponds (Dane Co.)  43.247843 -89.429111   \n",
       "\n",
       "    BD CLUSTER  \n",
       "3            0  \n",
       "4            0  \n",
       "5            1  \n",
       "15           2  \n",
       "16           2  "
      ]
     },
     "execution_count": 21,
     "metadata": {},
     "output_type": "execute_result"
    }
   ],
   "source": [
    "dfbdscan.head(5)"
   ]
  },
  {
   "cell_type": "code",
   "execution_count": 22,
   "metadata": {},
   "outputs": [],
   "source": [
    "def hotspot_finder_for_dbcluster(k, df, dfbdscan):\n",
    "    dfIntermediate = df[df['LOCALITY'].isin(list(dfbdscan[dfbdscan['BD CLUSTER'] == k]['LOCALITY']))].groupby(['LOCALITY','COMMON NAME']).sum().filter(['ALL SPECIES REPORTED'])\n",
    "    dfIntermediate['BIRD'] = list(map(lambda x: 1 if x < 1e6 else 1, dfIntermediate['ALL SPECIES REPORTED']))\n",
    "    location  = dfIntermediate.filter(['BIRD']).reset_index().groupby(['LOCALITY']).sum().reset_index().sort_values(by='BIRD', ascending=False).reset_index()['LOCALITY'][0]\n",
    "    lat = df[df['LOCALITY']==location].reset_index()['LATITUDE'][0]\n",
    "    lon = df[df['LOCALITY']==location].reset_index()['LONGITUDE'][0]\n",
    "    \n",
    "    return location, lat, lon"
   ]
  },
  {
   "cell_type": "code",
   "execution_count": 23,
   "metadata": {},
   "outputs": [],
   "source": [
    "coorHotspot = np.empty((n_clusters_, 2))\n",
    "for i in range(0, n_clusters_):\n",
    "    a, coorHotspot[i, 0], coorHotspot[i, 1] = hotspot_finder_for_dbcluster(i, dfTrain, dfbdscan)"
   ]
  },
  {
   "cell_type": "code",
   "execution_count": 24,
   "metadata": {},
   "outputs": [
    {
     "data": {
      "text/plain": [
       "137"
      ]
     },
     "execution_count": 24,
     "metadata": {},
     "output_type": "execute_result"
    }
   ],
   "source": [
    "n_clusters_"
   ]
  },
  {
   "cell_type": "markdown",
   "metadata": {},
   "source": [
    "### Now some good plots"
   ]
  },
  {
   "cell_type": "code",
   "execution_count": null,
   "metadata": {},
   "outputs": [],
   "source": [
    "country = gpd.read_file('/Users/casanova/DocumentsHere/Insight/gz_2010_us_040_00_5m.json')"
   ]
  },
  {
   "cell_type": "code",
   "execution_count": null,
   "metadata": {},
   "outputs": [],
   "source": [
    "# state = 'Wyoming'\n",
    "state = 'Wisconsin'"
   ]
  },
  {
   "cell_type": "code",
   "execution_count": null,
   "metadata": {
    "scrolled": false
   },
   "outputs": [],
   "source": [
    "fig, ax = plt.subplots(1, figsize=(7,8))\n",
    "base = country[country['NAME'].isin([state]) == True].plot(ax=ax, color='#3B3C6E', alpha = 0.3)\n",
    "for i, clust in enumerate(labels):\n",
    "    ax.scatter(locationList[i][1],locationList[i][0], color = colors[clust])\n",
    "ax.scatter(coorHotspot[:,1],coorHotspot[:,0], marker = 'x', color = 'r', s=80)\n",
    "ax.set_ylabel(r'Latitude [$^o$]')\n",
    "ax.set_xlabel(r'Longitude [$^o$]')\n",
    "\n",
    "plt.show()\n",
    "save_fig('/Users/casanova/DocumentsHere/Insight/{}-plain.png'.format(state))"
   ]
  },
  {
   "cell_type": "markdown",
   "metadata": {},
   "source": [
    "#### Now the bird probability.\n",
    "\n",
    "`dfbdscan` have the information of where each of the hotspots lay, in terms of their cluster.  Now in order to constuct a path is important to mask the probabilites of the of seeing a particular bird with T or F on a weekly basis.  This is critical in order to construc the sets."
   ]
  },
  {
   "cell_type": "code",
   "execution_count": null,
   "metadata": {},
   "outputs": [],
   "source": [
    "dfProb = dfTrain.merge(dfbdscan.filter(['LOCALITY','BD CLUSTER']),\n",
    "                            left_on='LOCALITY', right_on='LOCALITY', how = 'left').filter(['COMMON NAME','ALL SPECIES REPORTED','YEAR WEEK', 'BD CLUSTER'])"
   ]
  },
  {
   "cell_type": "code",
   "execution_count": null,
   "metadata": {},
   "outputs": [],
   "source": [
    "dfProb.head(5)"
   ]
  },
  {
   "cell_type": "code",
   "execution_count": null,
   "metadata": {},
   "outputs": [],
   "source": [
    "nTime = 54\n",
    "nLoc = n_clusters_\n",
    "setMat = np.empty((nTime,nLoc), dtype=object)"
   ]
  },
  {
   "cell_type": "code",
   "execution_count": null,
   "metadata": {},
   "outputs": [],
   "source": [
    "for week in range(0,nTime):\n",
    "    dfProbA = dfProb[dfProb['YEAR WEEK']== week]\n",
    "    dfProb1 = dfProbA.groupby(['COMMON NAME','BD CLUSTER']).sum().filter(['ALL SPECIES REPORTED']).reset_index()\n",
    "    dfProb1.rename(columns = {'ALL SPECIES REPORTED':'POS OBS'}, inplace=True)\n",
    "    dfProb2 = dfProbA.groupby(['BD CLUSTER']).sum().filter(['ALL SPECIES REPORTED']).reset_index()\n",
    "    dfProb2.rename(columns = {'ALL SPECIES REPORTED':'TOT OBS'}, inplace=True)\n",
    "    dfProb3 = dfProb1.merge(dfProb2, left_on='BD CLUSTER', right_on='BD CLUSTER', how = 'left')\n",
    "    dfProb3['POS PROB'] = dfProb3['POS OBS']/dfProb3['TOT OBS']\n",
    "    for loc in range(0,nLoc):\n",
    "        dfWeek = dfProb3[dfProb3['BD CLUSTER'] == loc]\n",
    "        dfWeek['TF aa'] = list(map(lambda x: 0 if x < 0.02 else 1, dfWeek['POS PROB']))\n",
    "        setMat[week,loc] = set(dfWeek[dfWeek['TF aa'] == 1]['COMMON NAME'].values)\n",
    "        "
   ]
  },
  {
   "cell_type": "code",
   "execution_count": null,
   "metadata": {},
   "outputs": [],
   "source": [
    "pickle.dump(setMat, open(\"./2dSetLocations.p\", \"wb\" ))"
   ]
  },
  {
   "cell_type": "code",
   "execution_count": null,
   "metadata": {},
   "outputs": [],
   "source": [
    "ToMakeUniverse = list(setMat.flatten())\n",
    "Universe = set(e for s in ToMakeUniverse for e in s)"
   ]
  },
  {
   "cell_type": "code",
   "execution_count": null,
   "metadata": {},
   "outputs": [],
   "source": [
    "# list(Universe)"
   ]
  },
  {
   "cell_type": "markdown",
   "metadata": {},
   "source": [
    "# Here we go!!!!!\n",
    "\n",
    "First user inputs some coordinates.\n",
    "Then the coordinates get translated to a cluster.\n",
    "That give us the first set (first week)\n",
    "Then we obtain the rest of the sets. The key here is to back track a set to an actual 'x,t' entry so we can have a route.\n",
    "Display in some way that list of locations!  (Probabily using the centroid maps or coordinates)."
   ]
  },
  {
   "cell_type": "code",
   "execution_count": null,
   "metadata": {},
   "outputs": [],
   "source": [
    "# userInputLat,userInputLon = 44, -110\n",
    "userInputLat,userInputLon = 43.069511, -89.396723\n",
    "\n",
    "userInput = [userInputLat,userInputLon]\n",
    "print(userInput)"
   ]
  },
  {
   "cell_type": "markdown",
   "metadata": {},
   "source": [
    "On the first week I most see:"
   ]
  },
  {
   "cell_type": "code",
   "execution_count": null,
   "metadata": {},
   "outputs": [],
   "source": [
    "setMatLoaded = pickle.load(open(\"./2dSetLocations.p\", \"rb\" ))"
   ]
  },
  {
   "cell_type": "markdown",
   "metadata": {},
   "source": [
    "The hole list of bird that we are planing to see are:"
   ]
  },
  {
   "cell_type": "code",
   "execution_count": null,
   "metadata": {
    "scrolled": true
   },
   "outputs": [],
   "source": [
    "ToMakeUniverse = list(setMatLoaded.flatten())\n",
    "Universe = set(e for s in ToMakeUniverse for e in s)"
   ]
  },
  {
   "cell_type": "code",
   "execution_count": null,
   "metadata": {},
   "outputs": [],
   "source": [
    "print('With a total of', len(list(Universe)), 'birds')"
   ]
  },
  {
   "cell_type": "code",
   "execution_count": null,
   "metadata": {},
   "outputs": [],
   "source": [
    "setList, locList = SetCover.set_cover_greedy(Universe, ToMakeUniverse)\n"
   ]
  },
  {
   "cell_type": "code",
   "execution_count": null,
   "metadata": {},
   "outputs": [],
   "source": [
    "locList = np.sort(locList)"
   ]
  },
  {
   "cell_type": "code",
   "execution_count": null,
   "metadata": {},
   "outputs": [],
   "source": [
    "nTime, nLoc = setMatLoaded.shape\n",
    "locMat = np.linspace(1,nTime*nLoc,nTime*nLoc).reshape(nTime,nLoc)"
   ]
  },
  {
   "cell_type": "code",
   "execution_count": null,
   "metadata": {
    "scrolled": true
   },
   "outputs": [],
   "source": [
    "outList = []\n",
    "for element in locList:\n",
    "    a,b = np.where(locMat == element)\n",
    "    outList.append('On week {}, you need to be at location {}'.format(a[0],b[0]))\n",
    "    "
   ]
  },
  {
   "cell_type": "code",
   "execution_count": null,
   "metadata": {},
   "outputs": [],
   "source": [
    "outList"
   ]
  },
  {
   "cell_type": "code",
   "execution_count": null,
   "metadata": {},
   "outputs": [],
   "source": []
  },
  {
   "cell_type": "markdown",
   "metadata": {},
   "source": [
    "# Plaing with google distances"
   ]
  },
  {
   "cell_type": "code",
   "execution_count": null,
   "metadata": {},
   "outputs": [],
   "source": [
    "gmaps = googlemaps.Client(key='')"
   ]
  },
  {
   "cell_type": "code",
   "execution_count": null,
   "metadata": {},
   "outputs": [],
   "source": [
    "distMat = np.empty((nTime,n_clusters_))\n",
    "countBreak = divmod(n_clusters_,100)\n",
    "\n",
    "for i in range(0,countBreak[0]):\n",
    "    distanceMatGmaps = gmaps.distance_matrix(origins = (userInput[0],userInput[1]), \n",
    "                                         destinations=list(coorHotspot[100*i:100*(i+1)]),\n",
    "                                         mode = 'driving', units = 'metric')\n",
    "    for j in range(100*i,100*(i+1)):\n",
    "        jj = j - 100*i\n",
    "        try:\n",
    "            distMat[:,j] = distanceMatGmaps['rows'][0]['elements'][jj]['duration']['value']/3600\n",
    "        except KeyError:\n",
    "            distMat[:,j] = 100\n",
    "        \n",
    "distanceMatGmaps = gmaps.distance_matrix(origins = (userInput[0],userInput[1]), \n",
    "                                         destinations=list(coorHotspot[countBreak[0]*100:]),\n",
    "                                         mode = 'driving', units = 'metric')\n",
    "\n",
    "for j in range(countBreak[0]*100,countBreak[0]*100+countBreak[1]):\n",
    "    jj = j - countBreak[0]*100\n",
    "    try:\n",
    "        distMat[:,j] = distanceMatGmaps['rows'][0]['elements'][jj]['duration']['value']/3600\n",
    "    except KeyError:\n",
    "        distMat[:,j] = 100"
   ]
  },
  {
   "cell_type": "code",
   "execution_count": null,
   "metadata": {},
   "outputs": [],
   "source": [
    "distMat"
   ]
  },
  {
   "cell_type": "code",
   "execution_count": null,
   "metadata": {},
   "outputs": [],
   "source": [
    "import importlib\n",
    "importlib.reload(SetCover)"
   ]
  },
  {
   "cell_type": "code",
   "execution_count": null,
   "metadata": {},
   "outputs": [],
   "source": [
    "a, b = SetCover.set_cover_weighted_greedy(Universe, ToMakeUniverse,list(distMat.flatten()))"
   ]
  },
  {
   "cell_type": "code",
   "execution_count": null,
   "metadata": {},
   "outputs": [],
   "source": [
    "locListb = np.sort(b)"
   ]
  },
  {
   "cell_type": "code",
   "execution_count": null,
   "metadata": {},
   "outputs": [],
   "source": [
    "locListb"
   ]
  },
  {
   "cell_type": "code",
   "execution_count": null,
   "metadata": {},
   "outputs": [],
   "source": [
    "outList = []\n",
    "for element in locListb:\n",
    "    a,b = np.where(locMat == element)\n",
    "    outList.append('On week {}, you need to be at location {}'.format(a[0],b[0]))"
   ]
  },
  {
   "cell_type": "code",
   "execution_count": null,
   "metadata": {},
   "outputs": [],
   "source": [
    "outList"
   ]
  },
  {
   "cell_type": "code",
   "execution_count": null,
   "metadata": {},
   "outputs": [],
   "source": []
  }
 ],
 "metadata": {
  "kernelspec": {
   "display_name": "Python 3",
   "language": "python",
   "name": "python3"
  },
  "language_info": {
   "codemirror_mode": {
    "name": "ipython",
    "version": 3
   },
   "file_extension": ".py",
   "mimetype": "text/x-python",
   "name": "python",
   "nbconvert_exporter": "python",
   "pygments_lexer": "ipython3",
   "version": "3.8.2"
  }
 },
 "nbformat": 4,
 "nbformat_minor": 2
}
