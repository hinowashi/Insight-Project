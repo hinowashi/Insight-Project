{
 "cells": [
  {
   "cell_type": "markdown",
   "metadata": {},
   "source": [
    "# Insight Project --Birding Big Year--\n",
    "\n",
    "In this project I intend to determine a way to win the Big Year competition by the American Birding Association (ABA), following their rules. As part of their rules they give the list of eligible birds (1116).  All the birds have to be seen with in 12:00 AM, January 1st to 11:59 PM, December 31st of the same year. \n",
    "\n"
   ]
  },
  {
   "cell_type": "code",
   "execution_count": 1,
   "metadata": {},
   "outputs": [],
   "source": [
    "import numpy as np\n",
    "from datetime import datetime\n",
    "import geopandas as gpd\n",
    "from shapely.geometry import Point\n",
    "import os\n",
    "import struct\n",
    "import pickle\n",
    "import googlemaps\n",
    "\n",
    "import matplotlib.pyplot as plt\n",
    "import matplotlib.patches as mpatches\n",
    "import matplotlib\n",
    "from mpl_toolkits.axes_grid1 import make_axes_locatable\n",
    "\n",
    "from sklearn.cluster import KMeans\n",
    "from sklearn.cluster import DBSCAN\n",
    "\n",
    "import pandas as pd\n",
    "from pandas.io.json import json_normalize, read_json\n",
    "\n",
    "def save_fig(name):\n",
    "    fig.savefig(name,dpi=80,bbox_inches='tight', pad_inches=0.02, format = 'png')\n",
    "\n",
    "%matplotlib inline"
   ]
  },
  {
   "cell_type": "markdown",
   "metadata": {},
   "source": [
    "# The ebird Data\n",
    "\n",
    "I will start with a singe state the state of WY. Since the ebird API limits the type of request I can make, I have a downloaded the cvs file.  I'm using the last two full years of data but in reality the alorithm should be train with more data and just tested on the last year."
   ]
  },
  {
   "cell_type": "code",
   "execution_count": 2,
   "metadata": {},
   "outputs": [],
   "source": [
    "# dfAll = pd.read_csv('./ebd_US-WY_201801_201912_relApr-2020/ebd_US-WY_201801_201912_relApr-2020.txt'\n",
    "#                 ,delimiter=\"\\t\")\n",
    "\n",
    "dfAll = pd.read_csv('./ebd_US-WI_201801_201912_relApr-2020/ebd_US-WI_201801_201912_relApr-2020.txt'\n",
    "                ,delimiter=\"\\t\", usecols=['CATEGORY', 'LOCALITY TYPE', 'ALL SPECIES REPORTED', 'APPROVED',\n",
    "                                         'SAMPLING EVENT IDENTIFIER', 'COMMON NAME', 'LOCALITY', \n",
    "                                          'LATITUDE', 'LONGITUDE',\n",
    "                                          'OBSERVATION DATE', 'ALL SPECIES REPORTED'])\n",
    "\n",
    "# dfAll = pd.read_csv('./ebd_US-WI_201001_201812_relApr-2020/ebd_US-WI_201001_201812_relApr-2020.txt'\n",
    "#                 ,delimiter=\"\\t\")"
   ]
  },
  {
   "cell_type": "markdown",
   "metadata": {},
   "source": [
    "I add sertain condition to satify completnes fo the data, public locations and only bird species (i.e. no hybirds). `dfReduce` will contian all the information I will be using."
   ]
  },
  {
   "cell_type": "code",
   "execution_count": 3,
   "metadata": {},
   "outputs": [],
   "source": [
    "dfAll = dfAll[(dfAll['CATEGORY'] == 'species') & (dfAll['LOCALITY TYPE'] == 'H')\n",
    "              & (dfAll['ALL SPECIES REPORTED'] == 1)  & (dfAll['APPROVED'] == 1)]"
   ]
  },
  {
   "cell_type": "code",
   "execution_count": 4,
   "metadata": {},
   "outputs": [],
   "source": [
    "dfReduce = dfAll.filter(['SAMPLING EVENT IDENTIFIER', 'COMMON NAME', 'LOCALITY',\n",
    "              'LATITUDE', 'LONGITUDE', 'OBSERVATION DATE', 'ALL SPECIES REPORTED']) \n",
    "dfReduce['OBSERVATION DATE'] = pd.to_datetime(dfReduce['OBSERVATION DATE'])\n",
    "dfReduce['YEAR WEEK'] = dfReduce['OBSERVATION DATE'].dt.strftime('%W')\n",
    "dfReduce['YEAR DAY'] = dfReduce['OBSERVATION DATE'].dt.strftime('%j')\n",
    "dfReduce['YEAR'] = dfReduce['OBSERVATION DATE'].dt.strftime('%Y')\n",
    "dfReduce['YEAR WEEK'] = pd.to_numeric(dfReduce['YEAR WEEK'])"
   ]
  },
  {
   "cell_type": "code",
   "execution_count": 5,
   "metadata": {},
   "outputs": [
    {
     "data": {
      "text/html": [
       "<div>\n",
       "<style scoped>\n",
       "    .dataframe tbody tr th:only-of-type {\n",
       "        vertical-align: middle;\n",
       "    }\n",
       "\n",
       "    .dataframe tbody tr th {\n",
       "        vertical-align: top;\n",
       "    }\n",
       "\n",
       "    .dataframe thead th {\n",
       "        text-align: right;\n",
       "    }\n",
       "</style>\n",
       "<table border=\"1\" class=\"dataframe\">\n",
       "  <thead>\n",
       "    <tr style=\"text-align: right;\">\n",
       "      <th></th>\n",
       "      <th>SAMPLING EVENT IDENTIFIER</th>\n",
       "      <th>COMMON NAME</th>\n",
       "      <th>LOCALITY</th>\n",
       "      <th>TIME OBSERVATIONS STARTED</th>\n",
       "      <th>LATITUDE</th>\n",
       "      <th>LONGITUDE</th>\n",
       "      <th>OBSERVATION DATE</th>\n",
       "      <th>ALL SPECIES REPORTED</th>\n",
       "      <th>YEAR WEEK</th>\n",
       "      <th>YEAR DAY</th>\n",
       "      <th>YEAR</th>\n",
       "    </tr>\n",
       "  </thead>\n",
       "  <tbody>\n",
       "    <tr>\n",
       "      <th>3</th>\n",
       "      <td>S46395227</td>\n",
       "      <td>Red-eyed Vireo</td>\n",
       "      <td>Riverside Park (Urban Ecology Center)</td>\n",
       "      <td>08:00:00</td>\n",
       "      <td>43.067967</td>\n",
       "      <td>-87.892686</td>\n",
       "      <td>2018-06-07</td>\n",
       "      <td>1</td>\n",
       "      <td>23</td>\n",
       "      <td>158</td>\n",
       "      <td>2018</td>\n",
       "    </tr>\n",
       "    <tr>\n",
       "      <th>4</th>\n",
       "      <td>S47723667</td>\n",
       "      <td>Pine Siskin</td>\n",
       "      <td>Schlitz Audubon Nature Center</td>\n",
       "      <td>07:45:00</td>\n",
       "      <td>43.175688</td>\n",
       "      <td>-87.890421</td>\n",
       "      <td>2018-08-08</td>\n",
       "      <td>1</td>\n",
       "      <td>32</td>\n",
       "      <td>220</td>\n",
       "      <td>2018</td>\n",
       "    </tr>\n",
       "    <tr>\n",
       "      <th>5</th>\n",
       "      <td>S44649385</td>\n",
       "      <td>Mallard</td>\n",
       "      <td>Manitowoc Lakefront</td>\n",
       "      <td>18:00:00</td>\n",
       "      <td>44.092794</td>\n",
       "      <td>-87.650170</td>\n",
       "      <td>2018-04-16</td>\n",
       "      <td>1</td>\n",
       "      <td>16</td>\n",
       "      <td>106</td>\n",
       "      <td>2018</td>\n",
       "    </tr>\n",
       "    <tr>\n",
       "      <th>15</th>\n",
       "      <td>S43252514</td>\n",
       "      <td>Mallard</td>\n",
       "      <td>UW Lakeshore Nature Preserve--Willow Creek Woo...</td>\n",
       "      <td>16:30:00</td>\n",
       "      <td>43.077869</td>\n",
       "      <td>-89.421544</td>\n",
       "      <td>2018-02-27</td>\n",
       "      <td>1</td>\n",
       "      <td>9</td>\n",
       "      <td>058</td>\n",
       "      <td>2018</td>\n",
       "    </tr>\n",
       "    <tr>\n",
       "      <th>16</th>\n",
       "      <td>S46958065</td>\n",
       "      <td>Mallard</td>\n",
       "      <td>County V Ponds (Dane Co.)</td>\n",
       "      <td>07:15:00</td>\n",
       "      <td>43.247843</td>\n",
       "      <td>-89.429111</td>\n",
       "      <td>2018-07-03</td>\n",
       "      <td>1</td>\n",
       "      <td>27</td>\n",
       "      <td>184</td>\n",
       "      <td>2018</td>\n",
       "    </tr>\n",
       "  </tbody>\n",
       "</table>\n",
       "</div>"
      ],
      "text/plain": [
       "   SAMPLING EVENT IDENTIFIER     COMMON NAME  \\\n",
       "3                  S46395227  Red-eyed Vireo   \n",
       "4                  S47723667     Pine Siskin   \n",
       "5                  S44649385         Mallard   \n",
       "15                 S43252514         Mallard   \n",
       "16                 S46958065         Mallard   \n",
       "\n",
       "                                             LOCALITY  \\\n",
       "3               Riverside Park (Urban Ecology Center)   \n",
       "4                       Schlitz Audubon Nature Center   \n",
       "5                                 Manitowoc Lakefront   \n",
       "15  UW Lakeshore Nature Preserve--Willow Creek Woo...   \n",
       "16                          County V Ponds (Dane Co.)   \n",
       "\n",
       "   TIME OBSERVATIONS STARTED   LATITUDE  LONGITUDE OBSERVATION DATE  \\\n",
       "3                   08:00:00  43.067967 -87.892686       2018-06-07   \n",
       "4                   07:45:00  43.175688 -87.890421       2018-08-08   \n",
       "5                   18:00:00  44.092794 -87.650170       2018-04-16   \n",
       "15                  16:30:00  43.077869 -89.421544       2018-02-27   \n",
       "16                  07:15:00  43.247843 -89.429111       2018-07-03   \n",
       "\n",
       "    ALL SPECIES REPORTED  YEAR WEEK YEAR DAY  YEAR  \n",
       "3                      1         23      158  2018  \n",
       "4                      1         32      220  2018  \n",
       "5                      1         16      106  2018  \n",
       "15                     1          9      058  2018  \n",
       "16                     1         27      184  2018  "
      ]
     },
     "execution_count": 5,
     "metadata": {},
     "output_type": "execute_result"
    }
   ],
   "source": [
    "dfReduce.head(5)"
   ]
  },
  {
   "cell_type": "markdown",
   "metadata": {},
   "source": [
    "dfReduce contains both my train set and my validation set.  In this case I will use the last year as my validation set (2019) and all the previous information as my train set."
   ]
  },
  {
   "cell_type": "code",
   "execution_count": 6,
   "metadata": {},
   "outputs": [],
   "source": [
    "dfValidation = dfReduce[dfReduce['YEAR']==2019]"
   ]
  },
  {
   "cell_type": "code",
   "execution_count": 7,
   "metadata": {},
   "outputs": [],
   "source": [
    "dfTrain = dfReduce[dfReduce['YEAR']!=2019]"
   ]
  },
  {
   "cell_type": "code",
   "execution_count": 11,
   "metadata": {},
   "outputs": [],
   "source": [
    "del dfReduce\n",
    "del dfAll"
   ]
  },
  {
   "cell_type": "code",
   "execution_count": 9,
   "metadata": {},
   "outputs": [
    {
     "data": {
      "text/plain": [
       "2333"
      ]
     },
     "execution_count": 9,
     "metadata": {},
     "output_type": "execute_result"
    }
   ],
   "source": [
    "len(np.unique(dfTrain['LOCALITY'].values))"
   ]
  },
  {
   "cell_type": "markdown",
   "metadata": {},
   "source": [
    "# Lets do k-mean clustering\n",
    "\n",
    "From `dfTrain` data using a k-mean clustering I will select the clusters that will be use on the path finder. This clusters are fixed in space."
   ]
  },
  {
   "cell_type": "code",
   "execution_count": 12,
   "metadata": {},
   "outputs": [],
   "source": [
    "nClusters = 11\n",
    "kmeans = KMeans(init='k-means++', n_clusters=nClusters, n_init=10,random_state = 2345)\n",
    "dfKMeans = dfTrain.filter(['LATITUDE', 'LONGITUDE', 'LOCALITY']).drop_duplicates()"
   ]
  },
  {
   "cell_type": "code",
   "execution_count": 13,
   "metadata": {},
   "outputs": [
    {
     "data": {
      "text/plain": [
       "KMeans(algorithm='auto', copy_x=True, init='k-means++', max_iter=300,\n",
       "       n_clusters=11, n_init=10, n_jobs=None, precompute_distances='auto',\n",
       "       random_state=2345, tol=0.0001, verbose=0)"
      ]
     },
     "execution_count": 13,
     "metadata": {},
     "output_type": "execute_result"
    }
   ],
   "source": [
    "kmeans.fit(dfKMeans.filter(['LATITUDE', 'LONGITUDE']))"
   ]
  },
  {
   "cell_type": "code",
   "execution_count": 14,
   "metadata": {},
   "outputs": [],
   "source": [
    "pickle.dump(kmeans, open(\"./kmeansModel.p\", \"wb\" ) )"
   ]
  },
  {
   "cell_type": "code",
   "execution_count": 15,
   "metadata": {},
   "outputs": [],
   "source": [
    "centroids = kmeans.cluster_centers_"
   ]
  },
  {
   "cell_type": "code",
   "execution_count": 16,
   "metadata": {},
   "outputs": [],
   "source": [
    "plotter = dfTrain.filter(['LATITUDE', 'LONGITUDE']).drop_duplicates()\n",
    "\n",
    "# Step size of the mesh. Decrease to increase the quality of the VQ.\n",
    "h = .02     # point in the mesh [x_min, x_max]x[y_min, y_max].\n",
    "\n",
    "# Plot the decision boundary. For that, we will assign a color to each\n",
    "# x_min, x_max = np.min(plotter['LATITUDE']),  np.max(plotter['LATITUDE'])\n",
    "# y_min, y_max = np.min(plotter['LONGITUDE']), np.max(plotter['LONGITUDE'])\n",
    "\n",
    "x_min, x_max = np.min(plotter['LONGITUDE']),  np.max(plotter['LONGITUDE'])\n",
    "y_min, y_max = np.min(plotter['LATITUDE']), np.max(plotter['LATITUDE'])\n",
    "\n",
    "\n",
    "xx, yy = np.meshgrid(np.arange(x_min, x_max, h), np.arange(y_min, y_max, h))\n",
    "\n",
    "# Obtain labels for each point in mesh. Use last trained model.\n",
    "Z = kmeans.predict(np.c_[yy.ravel(), xx.ravel()])\n",
    "\n",
    "# Put the result into a color plot\n",
    "Z = Z.reshape(xx.shape)\n"
   ]
  },
  {
   "cell_type": "code",
   "execution_count": 17,
   "metadata": {},
   "outputs": [
    {
     "data": {
      "image/png": "[encoded data removed]",
      "text/plain": [
       "<Figure size 432x288 with 1 Axes>"
      ]
     },
     "metadata": {
      "needs_background": "light"
     },
     "output_type": "display_data"
    }
   ],
   "source": [
    "plt.imshow(Z, interpolation='nearest',\n",
    "           extent=(xx.min(), xx.max(),yy.min(), yy.max()),\n",
    "           cmap=plt.cm.Paired,\n",
    "           aspect='auto', origin='xy', alpha = 0.5)\n",
    "plt.scatter(plotter['LONGITUDE'],plotter['LATITUDE'], marker = '+')\n",
    "plt.scatter(centroids[:,1], centroids[:,0])\n",
    "plt.show()\n"
   ]
  },
  {
   "cell_type": "code",
   "execution_count": 18,
   "metadata": {},
   "outputs": [
    {
     "data": {
      "text/plain": [
       "array([3], dtype=int32)"
      ]
     },
     "execution_count": 18,
     "metadata": {},
     "output_type": "execute_result"
    }
   ],
   "source": [
    "kmeans.predict([[44,-110]])"
   ]
  },
  {
   "cell_type": "code",
   "execution_count": 19,
   "metadata": {},
   "outputs": [],
   "source": [
    "dfKMeans['K-cluster'] = np.array(kmeans.labels_)"
   ]
  },
  {
   "cell_type": "code",
   "execution_count": 20,
   "metadata": {},
   "outputs": [
    {
     "data": {
      "text/html": [
       "<div>\n",
       "<style scoped>\n",
       "    .dataframe tbody tr th:only-of-type {\n",
       "        vertical-align: middle;\n",
       "    }\n",
       "\n",
       "    .dataframe tbody tr th {\n",
       "        vertical-align: top;\n",
       "    }\n",
       "\n",
       "    .dataframe thead th {\n",
       "        text-align: right;\n",
       "    }\n",
       "</style>\n",
       "<table border=\"1\" class=\"dataframe\">\n",
       "  <thead>\n",
       "    <tr style=\"text-align: right;\">\n",
       "      <th></th>\n",
       "      <th>LATITUDE</th>\n",
       "      <th>LONGITUDE</th>\n",
       "      <th>LOCALITY</th>\n",
       "      <th>K-cluster</th>\n",
       "    </tr>\n",
       "  </thead>\n",
       "  <tbody>\n",
       "    <tr>\n",
       "      <th>3</th>\n",
       "      <td>43.067967</td>\n",
       "      <td>-87.892686</td>\n",
       "      <td>Riverside Park (Urban Ecology Center)</td>\n",
       "      <td>1</td>\n",
       "    </tr>\n",
       "    <tr>\n",
       "      <th>4</th>\n",
       "      <td>43.175688</td>\n",
       "      <td>-87.890421</td>\n",
       "      <td>Schlitz Audubon Nature Center</td>\n",
       "      <td>1</td>\n",
       "    </tr>\n",
       "    <tr>\n",
       "      <th>5</th>\n",
       "      <td>44.092794</td>\n",
       "      <td>-87.650170</td>\n",
       "      <td>Manitowoc Lakefront</td>\n",
       "      <td>8</td>\n",
       "    </tr>\n",
       "    <tr>\n",
       "      <th>15</th>\n",
       "      <td>43.077869</td>\n",
       "      <td>-89.421544</td>\n",
       "      <td>UW Lakeshore Nature Preserve--Willow Creek Woo...</td>\n",
       "      <td>4</td>\n",
       "    </tr>\n",
       "    <tr>\n",
       "      <th>16</th>\n",
       "      <td>43.247843</td>\n",
       "      <td>-89.429111</td>\n",
       "      <td>County V Ponds (Dane Co.)</td>\n",
       "      <td>4</td>\n",
       "    </tr>\n",
       "  </tbody>\n",
       "</table>\n",
       "</div>"
      ],
      "text/plain": [
       "     LATITUDE  LONGITUDE                                           LOCALITY  \\\n",
       "3   43.067967 -87.892686              Riverside Park (Urban Ecology Center)   \n",
       "4   43.175688 -87.890421                      Schlitz Audubon Nature Center   \n",
       "5   44.092794 -87.650170                                Manitowoc Lakefront   \n",
       "15  43.077869 -89.421544  UW Lakeshore Nature Preserve--Willow Creek Woo...   \n",
       "16  43.247843 -89.429111                          County V Ponds (Dane Co.)   \n",
       "\n",
       "    K-cluster  \n",
       "3           1  \n",
       "4           1  \n",
       "5           8  \n",
       "15          4  \n",
       "16          4  "
      ]
     },
     "execution_count": 20,
     "metadata": {},
     "output_type": "execute_result"
    }
   ],
   "source": [
    "dfKMeans.head(5)"
   ]
  },
  {
   "cell_type": "code",
   "execution_count": 21,
   "metadata": {},
   "outputs": [],
   "source": [
    "def hotspot_finder_for_kcluster(k, df, dfKMeans):\n",
    "    dfIntermediate = df[df['LOCALITY'].isin(list(dfKMeans[dfKMeans['K-cluster'] == k]['LOCALITY']))].groupby(['LOCALITY','COMMON NAME']).sum().filter(['ALL SPECIES REPORTED'])\n",
    "    dfIntermediate['BIRD'] = list(map(lambda x: 1 if x < 1e6 else 1, dfIntermediate['ALL SPECIES REPORTED']))\n",
    "    location  =  dfIntermediate.filter(['BIRD']).reset_index().groupby(['LOCALITY']).sum().reset_index().sort_values(by='BIRD', ascending=False).reset_index()['LOCALITY'][0]\n",
    "    lat = df[df['LOCALITY']==location].reset_index()['LATITUDE'][0]\n",
    "    lon = df[df['LOCALITY']==location].reset_index()['LONGITUDE'][0]\n",
    "    \n",
    "    return location, lat, lon"
   ]
  },
  {
   "cell_type": "code",
   "execution_count": 22,
   "metadata": {},
   "outputs": [],
   "source": [
    "latHotspot = np.empty((nClusters))\n",
    "lonHotspot = np.empty((nClusters))"
   ]
  },
  {
   "cell_type": "code",
   "execution_count": 23,
   "metadata": {},
   "outputs": [],
   "source": [
    "for i in range(0, nClusters):\n",
    "    a, latHotspot[i], lonHotspot[i] = hotspot_finder_for_kcluster(i, dfTrain, dfKMeans)"
   ]
  },
  {
   "cell_type": "markdown",
   "metadata": {},
   "source": [
    "# Clustering know using BDSCAN\n",
    "\n",
    "BDSCAN is a density clustering that will tell where is popular for people to go birding (based on the desnity of hotsopts).  I will also be able to limit the scale of the cluster with a driving distance matrix form googles API."
   ]
  },
  {
   "cell_type": "code",
   "execution_count": 24,
   "metadata": {},
   "outputs": [],
   "source": [
    "dfbdscan = dfTrain.filter(['LOCALITY','LATITUDE', 'LONGITUDE'])"
   ]
  },
  {
   "cell_type": "code",
   "execution_count": 25,
   "metadata": {},
   "outputs": [],
   "source": [
    "dfbdscan.drop_duplicates(subset='LATITUDE', keep = 'first', inplace = True)"
   ]
  },
  {
   "cell_type": "code",
   "execution_count": 26,
   "metadata": {},
   "outputs": [
    {
     "data": {
      "text/html": [
       "<div>\n",
       "<style scoped>\n",
       "    .dataframe tbody tr th:only-of-type {\n",
       "        vertical-align: middle;\n",
       "    }\n",
       "\n",
       "    .dataframe tbody tr th {\n",
       "        vertical-align: top;\n",
       "    }\n",
       "\n",
       "    .dataframe thead th {\n",
       "        text-align: right;\n",
       "    }\n",
       "</style>\n",
       "<table border=\"1\" class=\"dataframe\">\n",
       "  <thead>\n",
       "    <tr style=\"text-align: right;\">\n",
       "      <th></th>\n",
       "      <th>LOCALITY</th>\n",
       "      <th>LATITUDE</th>\n",
       "      <th>LONGITUDE</th>\n",
       "    </tr>\n",
       "  </thead>\n",
       "  <tbody>\n",
       "    <tr>\n",
       "      <th>3</th>\n",
       "      <td>Riverside Park (Urban Ecology Center)</td>\n",
       "      <td>43.067967</td>\n",
       "      <td>-87.892686</td>\n",
       "    </tr>\n",
       "    <tr>\n",
       "      <th>4</th>\n",
       "      <td>Schlitz Audubon Nature Center</td>\n",
       "      <td>43.175688</td>\n",
       "      <td>-87.890421</td>\n",
       "    </tr>\n",
       "    <tr>\n",
       "      <th>5</th>\n",
       "      <td>Manitowoc Lakefront</td>\n",
       "      <td>44.092794</td>\n",
       "      <td>-87.650170</td>\n",
       "    </tr>\n",
       "    <tr>\n",
       "      <th>15</th>\n",
       "      <td>UW Lakeshore Nature Preserve--Willow Creek Woo...</td>\n",
       "      <td>43.077869</td>\n",
       "      <td>-89.421544</td>\n",
       "    </tr>\n",
       "    <tr>\n",
       "      <th>16</th>\n",
       "      <td>County V Ponds (Dane Co.)</td>\n",
       "      <td>43.247843</td>\n",
       "      <td>-89.429111</td>\n",
       "    </tr>\n",
       "  </tbody>\n",
       "</table>\n",
       "</div>"
      ],
      "text/plain": [
       "                                             LOCALITY   LATITUDE  LONGITUDE\n",
       "3               Riverside Park (Urban Ecology Center)  43.067967 -87.892686\n",
       "4                       Schlitz Audubon Nature Center  43.175688 -87.890421\n",
       "5                                 Manitowoc Lakefront  44.092794 -87.650170\n",
       "15  UW Lakeshore Nature Preserve--Willow Creek Woo...  43.077869 -89.421544\n",
       "16                          County V Ponds (Dane Co.)  43.247843 -89.429111"
      ]
     },
     "execution_count": 26,
     "metadata": {},
     "output_type": "execute_result"
    }
   ],
   "source": [
    "dfbdscan.head(5)"
   ]
  },
  {
   "cell_type": "code",
   "execution_count": 27,
   "metadata": {},
   "outputs": [],
   "source": [
    "latHotspot, lonHotspot = np.array(dfbdscan['LATITUDE']), np.array(dfbdscan['LONGITUDE'])\n",
    "locationList = np.empty((latHotspot.shape[0],2))\n",
    "for i in range(0, dfbdscan.shape[0]):\n",
    "    locationList[i,0], locationList[i,1] = latHotspot[i], lonHotspot[i]\n",
    "    "
   ]
  },
  {
   "cell_type": "code",
   "execution_count": 28,
   "metadata": {},
   "outputs": [],
   "source": [
    "eps = .05\n",
    "dbmod = DBSCAN(eps=eps, min_samples=3, metric='euclidean').fit(locationList)"
   ]
  },
  {
   "cell_type": "code",
   "execution_count": 29,
   "metadata": {},
   "outputs": [
    {
     "name": "stdout",
     "output_type": "stream",
     "text": [
      "Estimated number of clusters: 137\n",
      "Estimated number of noise points: 567\n"
     ]
    }
   ],
   "source": [
    "labels = dbmod.labels_\n",
    "n_clusters_ = len(set(labels)) - (1 if -1 in labels else 0)\n",
    "n_noise_ = list(labels).count(-1)\n",
    "core_samples_mask = np.zeros_like(dbmod.labels_, dtype=bool)\n",
    "core_samples_mask[dbmod.core_sample_indices_] = True\n",
    "\n",
    "print('Estimated number of clusters: %d' % n_clusters_)\n",
    "print('Estimated number of noise points: %d' % n_noise_)\n"
   ]
  },
  {
   "cell_type": "code",
   "execution_count": 30,
   "metadata": {},
   "outputs": [],
   "source": [
    "unique_labels = set(labels)\n",
    "colors = [plt.cm.viridis_r(each)\n",
    "          for each in np.linspace(0, 1, len(unique_labels))]\n"
   ]
  },
  {
   "cell_type": "code",
   "execution_count": 31,
   "metadata": {},
   "outputs": [],
   "source": [
    "# plt.scatter(locationList[:,1],locationList[:,0], color = colors[(labels[:]+1)])\n",
    "# plt.show()"
   ]
  },
  {
   "cell_type": "code",
   "execution_count": 32,
   "metadata": {},
   "outputs": [
    {
     "data": {
      "image/png": "[encoded data removed]",
      "text/plain": [
       "<Figure size 432x288 with 1 Axes>"
      ]
     },
     "metadata": {
      "needs_background": "light"
     },
     "output_type": "display_data"
    }
   ],
   "source": [
    "for i, clust in enumerate(labels):\n",
    "    plt.scatter(locationList[i][1],locationList[i][0], color = colors[clust])\n",
    "plt.show()"
   ]
  },
  {
   "cell_type": "code",
   "execution_count": 37,
   "metadata": {},
   "outputs": [],
   "source": [
    "dfbdscan['BD CLUSTER'] = dbmod.labels_"
   ]
  },
  {
   "cell_type": "code",
   "execution_count": 38,
   "metadata": {},
   "outputs": [
    {
     "data": {
      "text/html": [
       "<div>\n",
       "<style scoped>\n",
       "    .dataframe tbody tr th:only-of-type {\n",
       "        vertical-align: middle;\n",
       "    }\n",
       "\n",
       "    .dataframe tbody tr th {\n",
       "        vertical-align: top;\n",
       "    }\n",
       "\n",
       "    .dataframe thead th {\n",
       "        text-align: right;\n",
       "    }\n",
       "</style>\n",
       "<table border=\"1\" class=\"dataframe\">\n",
       "  <thead>\n",
       "    <tr style=\"text-align: right;\">\n",
       "      <th></th>\n",
       "      <th>LOCALITY</th>\n",
       "      <th>LATITUDE</th>\n",
       "      <th>LONGITUDE</th>\n",
       "      <th>BD CLUSTER</th>\n",
       "    </tr>\n",
       "  </thead>\n",
       "  <tbody>\n",
       "    <tr>\n",
       "      <th>3</th>\n",
       "      <td>Riverside Park (Urban Ecology Center)</td>\n",
       "      <td>43.067967</td>\n",
       "      <td>-87.892686</td>\n",
       "      <td>0</td>\n",
       "    </tr>\n",
       "    <tr>\n",
       "      <th>4</th>\n",
       "      <td>Schlitz Audubon Nature Center</td>\n",
       "      <td>43.175688</td>\n",
       "      <td>-87.890421</td>\n",
       "      <td>0</td>\n",
       "    </tr>\n",
       "    <tr>\n",
       "      <th>5</th>\n",
       "      <td>Manitowoc Lakefront</td>\n",
       "      <td>44.092794</td>\n",
       "      <td>-87.650170</td>\n",
       "      <td>1</td>\n",
       "    </tr>\n",
       "    <tr>\n",
       "      <th>15</th>\n",
       "      <td>UW Lakeshore Nature Preserve--Willow Creek Woo...</td>\n",
       "      <td>43.077869</td>\n",
       "      <td>-89.421544</td>\n",
       "      <td>2</td>\n",
       "    </tr>\n",
       "    <tr>\n",
       "      <th>16</th>\n",
       "      <td>County V Ponds (Dane Co.)</td>\n",
       "      <td>43.247843</td>\n",
       "      <td>-89.429111</td>\n",
       "      <td>2</td>\n",
       "    </tr>\n",
       "  </tbody>\n",
       "</table>\n",
       "</div>"
      ],
      "text/plain": [
       "                                             LOCALITY   LATITUDE  LONGITUDE  \\\n",
       "3               Riverside Park (Urban Ecology Center)  43.067967 -87.892686   \n",
       "4                       Schlitz Audubon Nature Center  43.175688 -87.890421   \n",
       "5                                 Manitowoc Lakefront  44.092794 -87.650170   \n",
       "15  UW Lakeshore Nature Preserve--Willow Creek Woo...  43.077869 -89.421544   \n",
       "16                          County V Ponds (Dane Co.)  43.247843 -89.429111   \n",
       "\n",
       "    BD CLUSTER  \n",
       "3            0  \n",
       "4            0  \n",
       "5            1  \n",
       "15           2  \n",
       "16           2  "
      ]
     },
     "execution_count": 38,
     "metadata": {},
     "output_type": "execute_result"
    }
   ],
   "source": [
    "dfbdscan.head(5)"
   ]
  },
  {
   "cell_type": "code",
   "execution_count": 39,
   "metadata": {},
   "outputs": [],
   "source": [
    "def hotspot_finder_for_dbcluster(k, df, dfbdscan):\n",
    "    dfIntermediate = dfTrain[dfTrain['LOCALITY'].isin(list(dfbdscan[dfbdscan['BD CLUSTER'] == 0]['LOCALITY']))].groupby(['LOCALITY','COMMON NAME']).sum().filter(['ALL SPECIES REPORTED'])\n",
    "    dfIntermediate['BIRD'] = list(map(lambda x: 1 if x < 1e6 else 1, dfIntermediate['ALL SPECIES REPORTED']))\n",
    "    location  = dfIntermediate.filter(['BIRD']).reset_index().groupby(['LOCALITY']).sum().reset_index().sort_values(by='BIRD', ascending=False).reset_index()['LOCALITY'][0]\n",
    "    lat = df[df['LOCALITY']==location].reset_index()['LATITUDE'][0]\n",
    "    lon = df[df['LOCALITY']==location].reset_index()['LONGITUDE'][0]\n",
    "    \n",
    "    return location, lat, lon"
   ]
  },
  {
   "cell_type": "code",
   "execution_count": 40,
   "metadata": {},
   "outputs": [],
   "source": [
    "coorHotspot = np.empty((n_clusters_, 2))\n",
    "for i in range(0, n_clusters_):\n",
    "    a, coorHotspot[i, 0], coorHotspot[i, 1] = hotspot_finder_for_dbcluster(i, dfTrain, dfbdscan)"
   ]
  },
  {
   "cell_type": "markdown",
   "metadata": {},
   "source": [
    "### Now some good plots"
   ]
  },
  {
   "cell_type": "code",
   "execution_count": 33,
   "metadata": {},
   "outputs": [],
   "source": [
    "country = gpd.read_file('/Users/casanova/DocumentsHere/Insight/gz_2010_us_040_00_5m.json')"
   ]
  },
  {
   "cell_type": "code",
   "execution_count": 34,
   "metadata": {},
   "outputs": [],
   "source": [
    "# state = 'Wyoming'\n",
    "state = 'Wisconsin'"
   ]
  },
  {
   "cell_type": "code",
   "execution_count": 35,
   "metadata": {
    "scrolled": false
   },
   "outputs": [
    {
     "data": {
      "image/png": "[encoded data removed]",
      "text/plain": [
       "<Figure size 504x360 with 1 Axes>"
      ]
     },
     "metadata": {
      "needs_background": "light"
     },
     "output_type": "display_data"
    }
   ],
   "source": [
    "fig, ax = plt.subplots(1, figsize=(7,5))\n",
    "base = country[country['NAME'].isin([state]) == True].plot(ax=ax, color='#3B3C6E', alpha = 0.3)\n",
    "# plt.imshow(Z, interpolation='nearest',\n",
    "#            extent=(xx.min(), xx.max(),yy.min(), yy.max()),\n",
    "#            cmap=plt.cm.Paired,\n",
    "#            aspect='auto', origin='xy', alpha = 0.5)\n",
    "ax.scatter(plotter['LONGITUDE'],plotter['LATITUDE'], marker = '+')\n",
    "# ax.scatter(centroids[:,1], centroids[:,0])\n",
    "# ax.scatter(lonHotspot,latHotspot, marker = 'x', color = 'r', s=80)\n",
    "for i, clust in enumerate(labels):\n",
    "    ax.scatter(locationList[i][1],locationList[i][0], color = colors[clust])\n",
    "ax.set_ylabel(r'Latitude [$^o$]')\n",
    "ax.set_xlabel(r'Longitude [$^o$]')\n",
    "# for i in range(centroids[:,1]):\n",
    "# ax.text(-105, 44, '0', fontsize=14,verticalalignment='top')\n",
    "\n",
    "plt.show()\n",
    "save_fig('/Users/casanova/DocumentsHere/Insight/{}-plain.png'.format(state))"
   ]
  },
  {
   "cell_type": "code",
   "execution_count": 36,
   "metadata": {},
   "outputs": [],
   "source": []
  },
  {
   "cell_type": "markdown",
   "metadata": {},
   "source": [
    "#### Now the bird probability.\n",
    "\n",
    "`dfKMeans` and `dfbdscan` have the information of where each of the hotspots lay, in terms of their cluster.  Now in order to constuct a path is important to mask the probabilites of the of seeing a particular bird with T or F on a weekly basis.  This is critical in order to construc the sets."
   ]
  },
  {
   "cell_type": "code",
   "execution_count": 45,
   "metadata": {},
   "outputs": [],
   "source": [
    "# dfProb = dfTrain.merge(dfKMeans.filter(['LOCALITY','K-cluster']),\n",
    "#                             left_on='LOCALITY', right_on='LOCALITY', how = 'left').filter(['COMMON NAME','ALL SPECIES REPORTED','YEAR WEEK', 'K-cluster'])\n",
    "\n",
    "dfProb = dfTrain.merge(dfbdscan.filter(['LOCALITY','BD CLUSTER']),\n",
    "                            left_on='LOCALITY', right_on='LOCALITY', how = 'left').filter(['COMMON NAME','ALL SPECIES REPORTED','YEAR WEEK', 'BD CLUSTER'])"
   ]
  },
  {
   "cell_type": "code",
   "execution_count": 46,
   "metadata": {},
   "outputs": [
    {
     "data": {
      "text/html": [
       "<div>\n",
       "<style scoped>\n",
       "    .dataframe tbody tr th:only-of-type {\n",
       "        vertical-align: middle;\n",
       "    }\n",
       "\n",
       "    .dataframe tbody tr th {\n",
       "        vertical-align: top;\n",
       "    }\n",
       "\n",
       "    .dataframe thead th {\n",
       "        text-align: right;\n",
       "    }\n",
       "</style>\n",
       "<table border=\"1\" class=\"dataframe\">\n",
       "  <thead>\n",
       "    <tr style=\"text-align: right;\">\n",
       "      <th></th>\n",
       "      <th>COMMON NAME</th>\n",
       "      <th>ALL SPECIES REPORTED</th>\n",
       "      <th>YEAR WEEK</th>\n",
       "      <th>BD CLUSTER</th>\n",
       "    </tr>\n",
       "  </thead>\n",
       "  <tbody>\n",
       "    <tr>\n",
       "      <th>0</th>\n",
       "      <td>Red-eyed Vireo</td>\n",
       "      <td>1</td>\n",
       "      <td>23</td>\n",
       "      <td>0.0</td>\n",
       "    </tr>\n",
       "    <tr>\n",
       "      <th>1</th>\n",
       "      <td>Pine Siskin</td>\n",
       "      <td>1</td>\n",
       "      <td>32</td>\n",
       "      <td>0.0</td>\n",
       "    </tr>\n",
       "    <tr>\n",
       "      <th>2</th>\n",
       "      <td>Mallard</td>\n",
       "      <td>1</td>\n",
       "      <td>16</td>\n",
       "      <td>1.0</td>\n",
       "    </tr>\n",
       "    <tr>\n",
       "      <th>3</th>\n",
       "      <td>Mallard</td>\n",
       "      <td>1</td>\n",
       "      <td>9</td>\n",
       "      <td>2.0</td>\n",
       "    </tr>\n",
       "    <tr>\n",
       "      <th>4</th>\n",
       "      <td>Mallard</td>\n",
       "      <td>1</td>\n",
       "      <td>27</td>\n",
       "      <td>2.0</td>\n",
       "    </tr>\n",
       "  </tbody>\n",
       "</table>\n",
       "</div>"
      ],
      "text/plain": [
       "      COMMON NAME  ALL SPECIES REPORTED  YEAR WEEK  BD CLUSTER\n",
       "0  Red-eyed Vireo                     1         23         0.0\n",
       "1     Pine Siskin                     1         32         0.0\n",
       "2         Mallard                     1         16         1.0\n",
       "3         Mallard                     1          9         2.0\n",
       "4         Mallard                     1         27         2.0"
      ]
     },
     "execution_count": 46,
     "metadata": {},
     "output_type": "execute_result"
    }
   ],
   "source": [
    "dfProb.head(5)"
   ]
  },
  {
   "cell_type": "code",
   "execution_count": null,
   "metadata": {},
   "outputs": [],
   "source": [
    "nTime = 54\n",
    "nLoc = dfKMeans['K-cluster'].unique().shape[0]\n",
    "setMat = np.zeros((nTime,nLoc), dtype=object)"
   ]
  },
  {
   "cell_type": "code",
   "execution_count": null,
   "metadata": {},
   "outputs": [],
   "source": [
    "for week in range(0,nTime):\n",
    "    dfProbA = dfProb[dfProb['YEAR WEEK']== week]\n",
    "    dfProb1 = dfProbA.groupby(['COMMON NAME','K-cluster']).sum().filter(['ALL SPECIES REPORTED']).reset_index()\n",
    "    dfProb1.rename(columns = {'ALL SPECIES REPORTED':'POS OBS'}, inplace=True)\n",
    "    dfProb2 = dfProbA.groupby(['K-cluster']).sum().filter(['ALL SPECIES REPORTED']).reset_index()\n",
    "    dfProb2.rename(columns = {'ALL SPECIES REPORTED':'TOT OBS'}, inplace=True)\n",
    "    dfProb3 = dfProb1.merge(dfProb2, left_on='K-cluster', right_on='K-cluster', how = 'left')\n",
    "    dfProb3['POS PROB'] = dfProb3['POS OBS']/dfProb3['TOT OBS']\n",
    "    for loc in range(0,nLoc):\n",
    "        aa = dfProb3[dfProb3['K-cluster'] == loc]\n",
    "        aa['TF aa'] = list(map(lambda x: 0 if x < 0.02 else 1, aa['POS PROB']))\n",
    "        setMat[week,loc] = set(aa[aa['TF aa'] == 1]['COMMON NAME'].values)\n",
    "        "
   ]
  },
  {
   "cell_type": "code",
   "execution_count": null,
   "metadata": {},
   "outputs": [],
   "source": [
    "pickle.dump(setMat, open(\"./2dSetLocations.p\", \"wb\" ))"
   ]
  },
  {
   "cell_type": "code",
   "execution_count": null,
   "metadata": {},
   "outputs": [],
   "source": [
    "ToMakeUniverse = list(setMat.flatten())\n",
    "Universe = set(e for s in ToMakeUniverse for e in s)"
   ]
  },
  {
   "cell_type": "code",
   "execution_count": null,
   "metadata": {},
   "outputs": [],
   "source": [
    "list(Universe)"
   ]
  },
  {
   "cell_type": "markdown",
   "metadata": {},
   "source": [
    "# Here we go!!!!!\n",
    "\n",
    "First user inputs some coordinates.\n",
    "Then the coordinates get translated to a k-cluster.\n",
    "That give us the first set (first week)\n",
    "Then we obtain the resto fo the sets. The key here is to back track a set to an actual 'x,t' entry so we can have a route.\n",
    "Display in some way that list of locations!  (Probabily using the centroid maps or coordinates)."
   ]
  },
  {
   "cell_type": "code",
   "execution_count": null,
   "metadata": {},
   "outputs": [],
   "source": [
    "userInputLat,userInputLon = 44, -110\n",
    "userInput = [userInputLat,userInputLon]\n",
    "print(userInput)"
   ]
  },
  {
   "cell_type": "markdown",
   "metadata": {},
   "source": [
    "On the first week I most see:"
   ]
  },
  {
   "cell_type": "code",
   "execution_count": null,
   "metadata": {},
   "outputs": [],
   "source": [
    "kmeansLoaded = pickle.load(open(\"./kmeansModel.p\", \"rb\" ))\n",
    "setMatLoaded = pickle.load(open(\"./2dSetLocations.p\", \"rb\" ))"
   ]
  },
  {
   "cell_type": "code",
   "execution_count": null,
   "metadata": {
    "scrolled": true
   },
   "outputs": [],
   "source": [
    "print('you start in location:',kmeansLoaded.predict([userInput])[0])\n",
    "initialLocSet = setMat[0,kmeansLoaded.predict([userInput])[0]]\n",
    "print(list(initialLocSet))"
   ]
  },
  {
   "cell_type": "markdown",
   "metadata": {},
   "source": [
    "The hole list of bird that we are planing to see are:"
   ]
  },
  {
   "cell_type": "code",
   "execution_count": null,
   "metadata": {
    "scrolled": true
   },
   "outputs": [],
   "source": [
    "\n",
    "ToMakeUniverse = list(setMatLoaded.flatten())\n",
    "Universe = set(e for s in ToMakeUniverse for e in s)"
   ]
  },
  {
   "cell_type": "code",
   "execution_count": null,
   "metadata": {},
   "outputs": [],
   "source": [
    "print('With a total of', len(list(Universe)), 'birds')"
   ]
  },
  {
   "cell_type": "code",
   "execution_count": null,
   "metadata": {},
   "outputs": [],
   "source": [
    "def set_cover_mine(elements, subsets, initset):\n",
    "    '''\n",
    "    There is a greedy algorithm for polynomial time approximation of set covering that chooses sets according to one rule: at each stage, choose the set that contains the largest number of uncovered elements.\n",
    "\n",
    "    \n",
    "    '''\n",
    "    covered = initset.copy()  \n",
    "    cover = []\n",
    "    listCover = []\n",
    "    # Greedily add the subsets with the most uncovered points\n",
    "    while covered != elements:\n",
    "        subset = max(subsets, key=lambda s: len(s - covered))\n",
    "        cover.append(subset)\n",
    "        listCover.append(subsets.index(subset))\n",
    "        covered |= subset\n",
    " \n",
    "    return cover, listCover\n",
    "\n",
    "\n",
    "\n"
   ]
  },
  {
   "cell_type": "code",
   "execution_count": null,
   "metadata": {},
   "outputs": [],
   "source": [
    "setList, locList = set_cover_mine(Universe, ToMakeUniverse, initialLocSet)\n"
   ]
  },
  {
   "cell_type": "code",
   "execution_count": null,
   "metadata": {},
   "outputs": [],
   "source": [
    "locList = np.sort(locList)"
   ]
  },
  {
   "cell_type": "code",
   "execution_count": null,
   "metadata": {},
   "outputs": [],
   "source": [
    "nTime, nLoc = setMatLoaded.shape\n",
    "locMat = np.linspace(1,nTime*nLoc,nTime*nLoc).reshape(nTime,nLoc)"
   ]
  },
  {
   "cell_type": "code",
   "execution_count": null,
   "metadata": {
    "scrolled": true
   },
   "outputs": [],
   "source": [
    "outList = ['On week 0, you need to be at location {}'.format(kmeansLoaded.predict([userInput])[0])]\n",
    "for element in locList:\n",
    "    a,b = np.where(locMat == element)\n",
    "    outList.append('On week {}, you need to be at location {}'.format(a[0],b[0]))\n",
    "    "
   ]
  },
  {
   "cell_type": "code",
   "execution_count": null,
   "metadata": {},
   "outputs": [],
   "source": [
    "outList"
   ]
  },
  {
   "cell_type": "code",
   "execution_count": null,
   "metadata": {},
   "outputs": [],
   "source": []
  },
  {
   "cell_type": "code",
   "execution_count": null,
   "metadata": {},
   "outputs": [],
   "source": []
  },
  {
   "cell_type": "code",
   "execution_count": null,
   "metadata": {},
   "outputs": [],
   "source": [
    "gmaps = googlemaps.Client(key='')"
   ]
  },
  {
   "cell_type": "code",
   "execution_count": null,
   "metadata": {},
   "outputs": [],
   "source": [
    "geocode_result = gmaps.geocode('1600 Amphitheatre Parkway, Mountain View, CA')"
   ]
  },
  {
   "cell_type": "code",
   "execution_count": null,
   "metadata": {},
   "outputs": [],
   "source": [
    "geocode_result"
   ]
  },
  {
   "cell_type": "code",
   "execution_count": null,
   "metadata": {},
   "outputs": [],
   "source": [
    "reverse_geocode_result = gmaps.reverse_geocode((40.714224, -73.961452))"
   ]
  },
  {
   "cell_type": "code",
   "execution_count": null,
   "metadata": {},
   "outputs": [],
   "source": [
    "reverse_geocode_result"
   ]
  },
  {
   "cell_type": "code",
   "execution_count": null,
   "metadata": {},
   "outputs": [],
   "source": []
  },
  {
   "cell_type": "code",
   "execution_count": null,
   "metadata": {},
   "outputs": [],
   "source": []
  },
  {
   "cell_type": "code",
   "execution_count": null,
   "metadata": {},
   "outputs": [],
   "source": [
    "distanceMatGmaps = gmaps.distance_matrix(origins = locationList, \n",
    "                                         destinations=locationList, \n",
    "                                         mode = 'driving', \n",
    "                                         units = 'metric')"
   ]
  },
  {
   "cell_type": "code",
   "execution_count": null,
   "metadata": {},
   "outputs": [],
   "source": [
    "b = gmaps.distance_matrix(origins = [(latHotspot[0], lonHotspot[0]),\n",
    "                                       (latHotspot[1], lonHotspot[1]),\n",
    "                                       (latHotspot[2], lonHotspot[2]),\n",
    "                                       (latHotspot[3], lonHotspot[3]),\n",
    "                                       (latHotspot[4], lonHotspot[4]),\n",
    "                                       (latHotspot[5], lonHotspot[5]),\n",
    "                                       (latHotspot[6], lonHotspot[6]),\n",
    "                                       (latHotspot[7], lonHotspot[7]),\n",
    "                                       (latHotspot[8], lonHotspot[8]),\n",
    "                                       (latHotspot[9], lonHotspot[9])],\n",
    "                          destinations=[(latHotspot[0], lonHotspot[0]),\n",
    "                                       (latHotspot[1], lonHotspot[1]),\n",
    "                                       (latHotspot[2], lonHotspot[2]),\n",
    "                                       (latHotspot[3], lonHotspot[3]),\n",
    "                                       (latHotspot[4], lonHotspot[4]),\n",
    "                                       (latHotspot[5], lonHotspot[5]),\n",
    "                                       (latHotspot[6], lonHotspot[6]),\n",
    "                                       (latHotspot[7], lonHotspot[7]),\n",
    "                                       (latHotspot[8], lonHotspot[8]),\n",
    "                                       (latHotspot[9], lonHotspot[9])],\n",
    "                         mode = 'driving', units = 'metric')"
   ]
  },
  {
   "cell_type": "code",
   "execution_count": null,
   "metadata": {},
   "outputs": [],
   "source": [
    "b"
   ]
  },
  {
   "cell_type": "code",
   "execution_count": null,
   "metadata": {},
   "outputs": [],
   "source": [
    "b['rows']"
   ]
  },
  {
   "cell_type": "code",
   "execution_count": null,
   "metadata": {},
   "outputs": [],
   "source": [
    "b['rows'][1]['elements'][2]['duration']['value']"
   ]
  },
  {
   "cell_type": "code",
   "execution_count": null,
   "metadata": {},
   "outputs": [],
   "source": [
    "distMat = np.empty((10,10))\n",
    "\n",
    "for i in range(0,10):\n",
    "    for j in range(0,10):\n",
    "        distMat[i,j] = b['rows'][i]['elements'][j]['duration']['value']/3600"
   ]
  },
  {
   "cell_type": "code",
   "execution_count": null,
   "metadata": {},
   "outputs": [],
   "source": [
    "print(distMat)"
   ]
  },
  {
   "cell_type": "code",
   "execution_count": null,
   "metadata": {},
   "outputs": [],
   "source": [
    "15391/3600"
   ]
  }
 ],
 "metadata": {
  "kernelspec": {
   "display_name": "Python 3",
   "language": "python",
   "name": "python3"
  },
  "language_info": {
   "codemirror_mode": {
    "name": "ipython",
    "version": 3
   },
   "file_extension": ".py",
   "mimetype": "text/x-python",
   "name": "python",
   "nbconvert_exporter": "python",
   "pygments_lexer": "ipython3",
   "version": "3.8.2"
  }
 },
 "nbformat": 4,
 "nbformat_minor": 2
}
