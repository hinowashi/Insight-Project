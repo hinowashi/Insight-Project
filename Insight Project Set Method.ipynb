{
 "cells": [
  {
   "cell_type": "markdown",
   "metadata": {},
   "source": [
    "# Insight Project --Birding Big Year--\n",
    "\n",
    "In this project I intend to determine a way to see all the birds one can see on a single state, for a given time window.  For all those birdirers that want to get to the top 100 of their state on ebrid, this will be the perfect tool. The user will input the state, home address (or lat,lon), time window and birds that already have been seen*. This last one (*) is an optional thing."
   ]
  },
  {
   "cell_type": "code",
   "execution_count": 1,
   "metadata": {},
   "outputs": [],
   "source": [
    "import numpy as np\n",
    "import geopandas as gpd\n",
    "import pickle\n",
    "import googlemaps\n",
    "import pandas as pd\n",
    "import psycopg2\n",
    "\n",
    "from sqlalchemy import create_engine\n",
    "from sqlalchemy_utils import database_exists, create_database\n",
    "\n",
    "import matplotlib.pyplot as plt\n",
    "# import matplotlib.patches as mpatches\n",
    "# import matplotlib\n",
    "# from mpl_toolkits.axes_grid1 import make_axes_locatable\n",
    "\n",
    "# import SetCover\n",
    "import DBScaner\n",
    "import Definition\n",
    "# import Itinerary\n",
    "\n",
    "def save_fig(name):\n",
    "    fig.savefig(name,dpi=80,bbox_inches='tight', pad_inches=0.02, format = 'png')\n",
    "\n",
    "%matplotlib inline"
   ]
  },
  {
   "cell_type": "code",
   "execution_count": 2,
   "metadata": {},
   "outputs": [],
   "source": [
    "# import importlib\n",
    "# importlib.reload(Itinerary)"
   ]
  },
  {
   "cell_type": "markdown",
   "metadata": {},
   "source": [
    "# Here we go 2.0"
   ]
  },
  {
   "cell_type": "code",
   "execution_count": 3,
   "metadata": {},
   "outputs": [],
   "source": [
    "# geocode_result = gmaps.geocode('{}'.format(userHomeBase))\n",
    "# pickle.dump(geocode_result, open(\"./geocode_result_Madison.p\", \"wb\" ))"
   ]
  },
  {
   "cell_type": "code",
   "execution_count": 4,
   "metadata": {},
   "outputs": [],
   "source": [
    "geocode_result = pickle.load(open(\"./geocode_result_Madison.p\", \"rb\" ))"
   ]
  },
  {
   "cell_type": "code",
   "execution_count": 5,
   "metadata": {},
   "outputs": [],
   "source": [
    "state_long = geocode_result[0]['address_components'][2]['long_name']\n",
    "state_short = geocode_result[0]['address_components'][2]['short_name']"
   ]
  },
  {
   "cell_type": "code",
   "execution_count": 6,
   "metadata": {},
   "outputs": [],
   "source": [
    "lat = geocode_result[0]['geometry']['location']['lat']\n",
    "lng = geocode_result[0]['geometry']['location']['lng']"
   ]
  },
  {
   "cell_type": "markdown",
   "metadata": {},
   "source": [
    "### The ebird Data\n",
    "\n",
    "The bird data has been trasnform to a Postgres SQL database.  This section of the code reads form this database to do the calculations. "
   ]
  },
  {
   "cell_type": "code",
   "execution_count": 7,
   "metadata": {},
   "outputs": [],
   "source": [
    "dbname = Definition.DBNAME\n",
    "username = Definition.USERNAME\n",
    "pswd = Definition.PSWD"
   ]
  },
  {
   "cell_type": "code",
   "execution_count": 8,
   "metadata": {},
   "outputs": [],
   "source": [
    "## Now try the same queries, but in python!\n",
    "\n",
    "# connect:\n",
    "con = None\n",
    "con = psycopg2.connect(database = dbname, user = username, host='localhost', password=pswd)\n",
    "\n",
    "# query:\n",
    "sql_query = \"\"\"\n",
    "SELECT * FROM test WHERE year = 2018;\n",
    "\"\"\"\n",
    "dfTrain = pd.read_sql_query(sql_query,con)"
   ]
  },
  {
   "cell_type": "markdown",
   "metadata": {},
   "source": [
    "### Clustering using BDSCAN\n",
    "\n",
    "BDSCAN is a density clustering that will tell where is popular for people to go birding (based on the desnity of hotsopts).  I will define a cluster as having atleast 3 point and with a maximum distance of 0.05degrees or about 5km.  With that I will optain where does each hotspot ('LOCALITY') belongs to. If '-1' they are not part of any cluster."
   ]
  },
  {
   "cell_type": "code",
   "execution_count": 18,
   "metadata": {},
   "outputs": [],
   "source": [
    "DBScaner.cluster_selection?"
   ]
  },
  {
   "cell_type": "code",
   "execution_count": 46,
   "metadata": {},
   "outputs": [],
   "source": [
    "dfcluster, labels, n_clusters_ = DBScaner.cluster_selection(dfTrain, eps=0.02, min_samples=2)"
   ]
  },
  {
   "cell_type": "code",
   "execution_count": 47,
   "metadata": {},
   "outputs": [
    {
     "data": {
      "text/plain": [
       "281"
      ]
     },
     "execution_count": 47,
     "metadata": {},
     "output_type": "execute_result"
    }
   ],
   "source": [
    "n_clusters_"
   ]
  },
  {
   "cell_type": "code",
   "execution_count": 48,
   "metadata": {},
   "outputs": [
    {
     "data": {
      "text/html": [
       "<div>\n",
       "<style scoped>\n",
       "    .dataframe tbody tr th:only-of-type {\n",
       "        vertical-align: middle;\n",
       "    }\n",
       "\n",
       "    .dataframe tbody tr th {\n",
       "        vertical-align: top;\n",
       "    }\n",
       "\n",
       "    .dataframe thead th {\n",
       "        text-align: right;\n",
       "    }\n",
       "</style>\n",
       "<table border=\"1\" class=\"dataframe\">\n",
       "  <thead>\n",
       "    <tr style=\"text-align: right;\">\n",
       "      <th></th>\n",
       "      <th>locality</th>\n",
       "      <th>latitude</th>\n",
       "      <th>longitude</th>\n",
       "      <th>db_cluster</th>\n",
       "    </tr>\n",
       "  </thead>\n",
       "  <tbody>\n",
       "    <tr>\n",
       "      <th>0</th>\n",
       "      <td>Grantsburg Cemetery</td>\n",
       "      <td>45.776638</td>\n",
       "      <td>-92.676662</td>\n",
       "      <td>0</td>\n",
       "    </tr>\n",
       "    <tr>\n",
       "      <th>1</th>\n",
       "      <td>Horicon NWR--Dike Rd.</td>\n",
       "      <td>43.531270</td>\n",
       "      <td>-88.624250</td>\n",
       "      <td>-1</td>\n",
       "    </tr>\n",
       "    <tr>\n",
       "      <th>2</th>\n",
       "      <td>Wehr Nature Center</td>\n",
       "      <td>42.925291</td>\n",
       "      <td>-88.035817</td>\n",
       "      <td>1</td>\n",
       "    </tr>\n",
       "    <tr>\n",
       "      <th>3</th>\n",
       "      <td>Schumacher Rd. Ponds</td>\n",
       "      <td>43.226397</td>\n",
       "      <td>-89.436549</td>\n",
       "      <td>2</td>\n",
       "    </tr>\n",
       "    <tr>\n",
       "      <th>4</th>\n",
       "      <td>UW Madison Arboretum--Spring Trail Pond</td>\n",
       "      <td>43.050024</td>\n",
       "      <td>-89.436577</td>\n",
       "      <td>3</td>\n",
       "    </tr>\n",
       "  </tbody>\n",
       "</table>\n",
       "</div>"
      ],
      "text/plain": [
       "                                  locality   latitude  longitude  db_cluster\n",
       "0                      Grantsburg Cemetery  45.776638 -92.676662           0\n",
       "1                    Horicon NWR--Dike Rd.  43.531270 -88.624250          -1\n",
       "2                       Wehr Nature Center  42.925291 -88.035817           1\n",
       "3                     Schumacher Rd. Ponds  43.226397 -89.436549           2\n",
       "4  UW Madison Arboretum--Spring Trail Pond  43.050024 -89.436577           3"
      ]
     },
     "execution_count": 48,
     "metadata": {},
     "output_type": "execute_result"
    }
   ],
   "source": [
    "dfcluster.head(5)"
   ]
  },
  {
   "cell_type": "code",
   "execution_count": 49,
   "metadata": {},
   "outputs": [],
   "source": [
    "dfCounts = DBScaner.cluster_center(dfcluster, dfTrain)"
   ]
  },
  {
   "cell_type": "code",
   "execution_count": 50,
   "metadata": {},
   "outputs": [
    {
     "data": {
      "text/html": [
       "<div>\n",
       "<style scoped>\n",
       "    .dataframe tbody tr th:only-of-type {\n",
       "        vertical-align: middle;\n",
       "    }\n",
       "\n",
       "    .dataframe tbody tr th {\n",
       "        vertical-align: top;\n",
       "    }\n",
       "\n",
       "    .dataframe thead th {\n",
       "        text-align: right;\n",
       "    }\n",
       "</style>\n",
       "<table border=\"1\" class=\"dataframe\">\n",
       "  <thead>\n",
       "    <tr style=\"text-align: right;\">\n",
       "      <th></th>\n",
       "      <th>locality</th>\n",
       "      <th>tot_bird_species</th>\n",
       "      <th>latitude</th>\n",
       "      <th>longitude</th>\n",
       "      <th>db_cluster</th>\n",
       "    </tr>\n",
       "  </thead>\n",
       "  <tbody>\n",
       "    <tr>\n",
       "      <th>0</th>\n",
       "      <td>stakeout Hammond’s Flycatcher (2018)</td>\n",
       "      <td>203.0</td>\n",
       "      <td>43.134118</td>\n",
       "      <td>-90.244394</td>\n",
       "      <td>-1</td>\n",
       "    </tr>\n",
       "    <tr>\n",
       "      <th>1</th>\n",
       "      <td>Memory Lake Park</td>\n",
       "      <td>150.0</td>\n",
       "      <td>45.779200</td>\n",
       "      <td>-92.686988</td>\n",
       "      <td>0</td>\n",
       "    </tr>\n",
       "    <tr>\n",
       "      <th>2</th>\n",
       "      <td>Whitnall Park</td>\n",
       "      <td>171.0</td>\n",
       "      <td>42.931779</td>\n",
       "      <td>-88.033014</td>\n",
       "      <td>1</td>\n",
       "    </tr>\n",
       "    <tr>\n",
       "      <th>3</th>\n",
       "      <td>Schumacher Rd. Ponds</td>\n",
       "      <td>109.0</td>\n",
       "      <td>43.226397</td>\n",
       "      <td>-89.436549</td>\n",
       "      <td>2</td>\n",
       "    </tr>\n",
       "    <tr>\n",
       "      <th>4</th>\n",
       "      <td>Yahara River--Lake Monona to Upper Mud Lake</td>\n",
       "      <td>194.0</td>\n",
       "      <td>43.045660</td>\n",
       "      <td>-89.329158</td>\n",
       "      <td>3</td>\n",
       "    </tr>\n",
       "  </tbody>\n",
       "</table>\n",
       "</div>"
      ],
      "text/plain": [
       "                                      locality  tot_bird_species   latitude  \\\n",
       "0         stakeout Hammond’s Flycatcher (2018)             203.0  43.134118   \n",
       "1                             Memory Lake Park             150.0  45.779200   \n",
       "2                                Whitnall Park             171.0  42.931779   \n",
       "3                         Schumacher Rd. Ponds             109.0  43.226397   \n",
       "4  Yahara River--Lake Monona to Upper Mud Lake             194.0  43.045660   \n",
       "\n",
       "   longitude  db_cluster  \n",
       "0 -90.244394          -1  \n",
       "1 -92.686988           0  \n",
       "2 -88.033014           1  \n",
       "3 -89.436549           2  \n",
       "4 -89.329158           3  "
      ]
     },
     "execution_count": 50,
     "metadata": {},
     "output_type": "execute_result"
    }
   ],
   "source": [
    "dfCounts.head(5)"
   ]
  },
  {
   "cell_type": "markdown",
   "metadata": {},
   "source": [
    "### Now some good plots"
   ]
  },
  {
   "cell_type": "code",
   "execution_count": 51,
   "metadata": {},
   "outputs": [],
   "source": [
    "country = gpd.read_file('./gz_2010_us_040_00_5m.json')"
   ]
  },
  {
   "cell_type": "code",
   "execution_count": 52,
   "metadata": {},
   "outputs": [],
   "source": [
    "unique_labels = set(labels)\n",
    "colors = [plt.cm.viridis_r(each)\n",
    "          for each in np.linspace(0, 1, len(unique_labels))]"
   ]
  },
  {
   "cell_type": "code",
   "execution_count": 56,
   "metadata": {},
   "outputs": [
    {
     "data": {
      "image/png": "[encoded data removed]",
      "text/plain": [
       "<Figure size 504x576 with 1 Axes>"
      ]
     },
     "metadata": {
      "needs_background": "light"
     },
     "output_type": "display_data"
    }
   ],
   "source": [
    "fig, ax = plt.subplots(1, figsize=(7,8))\n",
    "base = country[country['NAME'].isin([state_long]) == True].plot(ax=ax, color='#3B3C6E', alpha = 0.3)\n",
    "for i, clust in enumerate(labels):\n",
    "    ax.scatter(np.array(dfcluster['longitude'])[i],np.array(dfcluster['latitude'])[i], color = colors[clust])\n",
    "ax.scatter(dfCounts['longitude'],dfCounts['latitude'], marker = 'x', color = 'r', s=80)\n",
    "ax.set_ylabel(r'Latitude [$^o$]')\n",
    "ax.set_xlabel(r'Longitude [$^o$]')\n",
    "ax.set_xlim([-89.9,-88.9])\n",
    "ax.set_ylim([42.5,43.5])\n",
    "save_fig('./{}-test1.png'.format(state_long))\n",
    "plt.show()"
   ]
  },
  {
   "cell_type": "code",
   "execution_count": 57,
   "metadata": {
    "scrolled": false
   },
   "outputs": [
    {
     "data": {
      "image/png": "[encoded data removed]",
      "text/plain": [
       "<Figure size 504x576 with 1 Axes>"
      ]
     },
     "metadata": {
      "needs_background": "light"
     },
     "output_type": "display_data"
    }
   ],
   "source": [
    "fig, ax = plt.subplots(1, figsize=(7,8))\n",
    "base = country[country['NAME'].isin([state_long]) == True].plot(ax=ax, color='#3B3C6E', alpha = 0.3)\n",
    "ax.scatter(dfcluster['longitude'],dfcluster['latitude'])\n",
    "ax.set_ylabel(r'Latitude [$^o$]')\n",
    "ax.set_xlabel(r'Longitude [$^o$]')\n",
    "ax.set_xlim([-89.9,-88.9])\n",
    "ax.set_ylim([42.5,43.5])\n",
    "\n",
    "plt.show()\n",
    "save_fig('./{}-test2.png'.format(state_long))\n",
    "\n"
   ]
  },
  {
   "cell_type": "markdown",
   "metadata": {},
   "source": [
    "### Now the bird probability.\n",
    "\n",
    "`dfbdscan` have the information of where each of the hotspots lay, in terms of their cluster.  Now in order to constuct a path is important to mask the probabilites of the of seeing a particular bird with T or F on a weekly basis.  This is critical in order to construc the sets."
   ]
  },
  {
   "cell_type": "code",
   "execution_count": 55,
   "metadata": {},
   "outputs": [],
   "source": [
    "dfProb = dfTrain.merge(dfcluster.filter(['locality','db_cluster']),\n",
    "                            left_on='locality', right_on='locality', how = 'left').filter(['common_name','all_species_reported','year_week', 'db_cluster'])"
   ]
  },
  {
   "cell_type": "code",
   "execution_count": null,
   "metadata": {},
   "outputs": [],
   "source": []
  },
  {
   "cell_type": "code",
   "execution_count": null,
   "metadata": {},
   "outputs": [],
   "source": []
  },
  {
   "cell_type": "code",
   "execution_count": null,
   "metadata": {},
   "outputs": [],
   "source": []
  },
  {
   "cell_type": "code",
   "execution_count": null,
   "metadata": {},
   "outputs": [],
   "source": []
  },
  {
   "cell_type": "code",
   "execution_count": null,
   "metadata": {},
   "outputs": [],
   "source": []
  },
  {
   "cell_type": "code",
   "execution_count": null,
   "metadata": {},
   "outputs": [],
   "source": []
  },
  {
   "cell_type": "code",
   "execution_count": null,
   "metadata": {},
   "outputs": [],
   "source": []
  },
  {
   "cell_type": "code",
   "execution_count": null,
   "metadata": {},
   "outputs": [],
   "source": []
  },
  {
   "cell_type": "code",
   "execution_count": null,
   "metadata": {},
   "outputs": [],
   "source": [
    "nTime = 54\n",
    "nLoc = n_clusters_\n",
    "setMat = np.empty((nTime,nLoc), dtype=object)"
   ]
  },
  {
   "cell_type": "code",
   "execution_count": null,
   "metadata": {},
   "outputs": [],
   "source": [
    "dfProb[dfProb['common_name'] == 'Mallard']"
   ]
  },
  {
   "cell_type": "code",
   "execution_count": null,
   "metadata": {},
   "outputs": [],
   "source": [
    "for week in range(0,nTime):\n",
    "    dfProbA = dfProb[dfProb['year_week']== week]\n",
    "    dfProb1 = dfProbA.groupby(['common_name','db_cluster']).sum().filter(['all_species_reported']).reset_index()\n",
    "    dfProb1.rename(columns = {'all_species_reported':'pos_obs'}, inplace=True)\n",
    "    dfProb2 = dfProbA.groupby(['db_cluster']).sum().filter(['all_species_reported']).reset_index()\n",
    "    dfProb2.rename(columns = {'all_species_reported':'tot_obs'}, inplace=True)\n",
    "    dfProb3 = dfProb1.merge(dfProb2, left_on='db_cluster', right_on='db_cluster', how = 'left')\n",
    "    dfProb3['pos_prob'] = dfProb3['pos_obs']/dfProb3['tot_obs']\n",
    "    for loc in range(0,nLoc):\n",
    "        dfWeek = dfProb3[dfProb3['db_cluster'] == loc]\n",
    "        dfWeek['tf'] = list(map(lambda x: 0 if x < 0.02 else 1, dfWeek['pos_prob']))\n",
    "        setMat[week,loc] = set(dfWeek[dfWeek['tf'] == 1]['common_name'].values)\n",
    "        "
   ]
  },
  {
   "cell_type": "code",
   "execution_count": null,
   "metadata": {},
   "outputs": [],
   "source": [
    "ToMakeUniverse = list(setMat.flatten())\n",
    "Universe = set(e for s in ToMakeUniverse for e in s)"
   ]
  },
  {
   "cell_type": "code",
   "execution_count": null,
   "metadata": {},
   "outputs": [],
   "source": [
    "userInput = [lat,lng]"
   ]
  },
  {
   "cell_type": "markdown",
   "metadata": {},
   "source": [
    "### Calculating google distances (dist matrix)"
   ]
  },
  {
   "cell_type": "code",
   "execution_count": null,
   "metadata": {},
   "outputs": [],
   "source": [
    "gmaps = googlemaps.Client(key='{}'.format(Definition.GOOGLEKEY))"
   ]
  },
  {
   "cell_type": "code",
   "execution_count": null,
   "metadata": {},
   "outputs": [],
   "source": [
    "coorHotspot = np.empty((n_clusters_+1, 2))\n",
    "coorHotspot[:,0], coorHotspot[:,1] = dfCounts['longitude'],dfCounts['latitude']"
   ]
  },
  {
   "cell_type": "code",
   "execution_count": null,
   "metadata": {},
   "outputs": [],
   "source": [
    "'''\n",
    "Choose between this and the other seccion.  For test, use the other one, it does not use google dist function.\n",
    "'''\n",
    "\n",
    "# distMat = np.empty((nTime,n_clusters_))\n",
    "# countBreak = divmod(n_clusters_,100)\n",
    "\n",
    "# for i in range(0,countBreak[0]):\n",
    "#     distanceMatGmaps = gmaps.distance_matrix(origins = (userInput[0],userInput[1]), \n",
    "#                                          destinations=list(coorHotspot[100*i:100*(i+1)]),\n",
    "#                                          mode = 'driving', units = 'metric')\n",
    "#     for j in range(100*i,100*(i+1)):\n",
    "#         jj = j - 100*i\n",
    "#         try:\n",
    "#             distMat[:,j] = distanceMatGmaps['rows'][0]['elements'][jj]['duration']['value']/3600\n",
    "#         except KeyError:\n",
    "#             distMat[:,j] = 100\n",
    "        \n",
    "# distanceMatGmaps = gmaps.distance_matrix(origins = (userInput[0],userInput[1]), \n",
    "#                                          destinations=list(coorHotspot[countBreak[0]*100:]),\n",
    "#                                          mode = 'driving', units = 'metric')\n",
    "\n",
    "# for j in range(countBreak[0]*100,countBreak[0]*100+countBreak[1]):\n",
    "#     jj = j - countBreak[0]*100\n",
    "#     try:\n",
    "#         distMat[:,j] = distanceMatGmaps['rows'][0]['elements'][jj]['duration']['value']/3600\n",
    "#     except KeyError:\n",
    "#         distMat[:,j] = 100\n",
    "\n",
    "#==========================================================================\n",
    "#==========================================================================\n",
    "#==========================================================================\n",
    "\n",
    "distMat = np.random.rand(nTime*n_clusters_).reshape((nTime,n_clusters_))"
   ]
  },
  {
   "cell_type": "code",
   "execution_count": null,
   "metadata": {},
   "outputs": [],
   "source": [
    "setList, locList = SetCover.set_cover_weighted_greedy(Universe, ToMakeUniverse,list(distMat.flatten()))"
   ]
  },
  {
   "cell_type": "code",
   "execution_count": null,
   "metadata": {},
   "outputs": [],
   "source": [
    "outLoc = Itinerary.location_list_maker(dfCounts,locList, nTime, n_clusters_)"
   ]
  },
  {
   "cell_type": "code",
   "execution_count": null,
   "metadata": {},
   "outputs": [],
   "source": [
    "mapMarkerList = Itinerary.google_map_marker_list(dfCounts, outLoc)"
   ]
  },
  {
   "cell_type": "code",
   "execution_count": null,
   "metadata": {},
   "outputs": [],
   "source": [
    "userOut2 = Itinerary.dic_user_ouput_maker(dfCounts,locList,nTime, nLoc)"
   ]
  },
  {
   "cell_type": "code",
   "execution_count": null,
   "metadata": {},
   "outputs": [],
   "source": []
  }
 ],
 "metadata": {
  "kernelspec": {
   "display_name": "Python 3",
   "language": "python",
   "name": "python3"
  },
  "language_info": {
   "codemirror_mode": {
    "name": "ipython",
    "version": 3
   },
   "file_extension": ".py",
   "mimetype": "text/x-python",
   "name": "python",
   "nbconvert_exporter": "python",
   "pygments_lexer": "ipython3",
   "version": "3.8.2"
  }
 },
 "nbformat": 4,
 "nbformat_minor": 2
}
